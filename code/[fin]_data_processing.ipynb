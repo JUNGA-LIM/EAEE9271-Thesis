{
  "nbformat": 4,
  "nbformat_minor": 0,
  "metadata": {
    "colab": {
      "provenance": []
    },
    "kernelspec": {
      "name": "python3",
      "display_name": "Python 3"
    },
    "language_info": {
      "name": "python"
    }
  },
  "cells": [
    {
      "cell_type": "markdown",
      "source": [
        "#### Settings"
      ],
      "metadata": {
        "id": "MuQOKQGuHXV1"
      }
    },
    {
      "cell_type": "code",
      "source": [
        "from google.colab import drive\n",
        "drive.mount('/content/drive')"
      ],
      "metadata": {
        "colab": {
          "base_uri": "https://localhost:8080/"
        },
        "id": "pLwEgIJnLXFL",
        "outputId": "bc068a7c-041a-4dbe-c68b-901b45219e96"
      },
      "execution_count": null,
      "outputs": [
        {
          "output_type": "stream",
          "name": "stdout",
          "text": [
            "Mounted at /content/drive\n"
          ]
        }
      ]
    },
    {
      "cell_type": "code",
      "source": [
        "import pandas as pd"
      ],
      "metadata": {
        "id": "mdJ7X6LLNcNW"
      },
      "execution_count": null,
      "outputs": []
    },
    {
      "cell_type": "code",
      "source": [
        "%cd /content/drive/MyDrive/Thesis/Fall_2024/Data/Datasets/Raw"
      ],
      "metadata": {
        "colab": {
          "base_uri": "https://localhost:8080/"
        },
        "id": "Y2ic7FUHLkQ7",
        "outputId": "2fe5a51d-68b8-4a76-be23-f7afed93af4e"
      },
      "execution_count": null,
      "outputs": [
        {
          "output_type": "stream",
          "name": "stdout",
          "text": [
            "/content/drive/MyDrive/Thesis/Fall_2024/Data/Datasets/Raw\n"
          ]
        }
      ]
    },
    {
      "cell_type": "code",
      "source": [
        "nta_2020_df = pd.read_csv('2020nta.csv')"
      ],
      "metadata": {
        "id": "3_Mmcz2HMgRq"
      },
      "execution_count": null,
      "outputs": []
    },
    {
      "cell_type": "markdown",
      "source": [
        "#### Tree Canopy Change\n"
      ],
      "metadata": {
        "id": "1RaDp2aRu13y"
      }
    },
    {
      "cell_type": "code",
      "source": [
        "%cd /content/drive/MyDrive/Thesis/Fall_2024/Data/Datasets/Modified"
      ],
      "metadata": {
        "colab": {
          "base_uri": "https://localhost:8080/"
        },
        "id": "gRV25Os_wy5H",
        "outputId": "adc71437-8d48-4b8d-acd1-79392005aa7e"
      },
      "execution_count": null,
      "outputs": [
        {
          "output_type": "stream",
          "name": "stdout",
          "text": [
            "/content/drive/MyDrive/Thesis/Fall_2024/Data/Datasets/Modified\n"
          ]
        }
      ]
    },
    {
      "cell_type": "code",
      "source": [
        "gain_df = pd.read_excel(\"NYC_TreeCanopyCha_Gain_TableToExcel.xlsx\")\n",
        "nochange_df = pd.read_excel(\"NYC_TreeCanopyCha_Nochange_TableToExcel.xlsx\")\n",
        "loss_df = pd.read_excel(\"NYC_TreeCanopyCha_Loss_TableToExcel.xlsx\")\n",
        "\n",
        "# Convert 'Shape_Area' in nta_2020_df to numeric after removing commas\n",
        "nta_2020_df['Shape_Area'] = nta_2020_df['Shape_Area'].replace(',', '', regex=True).astype(float)\n",
        "\n",
        "# Normalize tree canopy areas by NTA area\n",
        "# Merge each tree canopy dataframe with nta_2020_df to perform the division\n",
        "gain_df = gain_df.merge(nta_2020_df[['NTAName', 'Shape_Area']], left_on='ntaname', right_on='NTAName', how='left')\n",
        "gain_df['calculate_gain'] = gain_df['SUM_Shape_Area'] / gain_df['Shape_Area']\n",
        "\n",
        "nochange_df = nochange_df.merge(nta_2020_df[['NTAName', 'Shape_Area']], left_on='ntaname', right_on='NTAName', how='left')\n",
        "nochange_df['calculate_nochange'] = nochange_df['SUM_Shape_Area'] / nochange_df['Shape_Area']\n",
        "\n",
        "loss_df = loss_df.merge(nta_2020_df[['NTAName', 'Shape_Area']], left_on='ntaname', right_on='NTAName', how='left')\n",
        "loss_df['calculate_loss'] = loss_df['SUM_Shape_Area'] / loss_df['Shape_Area']\n",
        "\n",
        "#Issue due to Shape_Area values being formatted as strings with commas, which prevents the division operation.\n",
        "#remove commas and convert the Shape_Area column to a numeric data type."
      ],
      "metadata": {
        "id": "OQEPlUE3vakU"
      },
      "execution_count": null,
      "outputs": []
    },
    {
      "cell_type": "code",
      "source": [
        "gain_df.head()"
      ],
      "metadata": {
        "colab": {
          "base_uri": "https://localhost:8080/",
          "height": 206
        },
        "id": "8VSfoGeBxMm6",
        "outputId": "c8605cd3-b652-40c5-f497-a3f3ba6c70db"
      },
      "execution_count": null,
      "outputs": [
        {
          "output_type": "execute_result",
          "data": {
            "text/plain": [
              "   OBJECTID                                 ntaname nta2020  FREQUENCY  \\\n",
              "0         1                                     NaN     NaN       2387   \n",
              "1         2                                Allerton  BX1104       9888   \n",
              "2         3                         Alley Pond Park  QN1191      10178   \n",
              "3         4  Annadale-Huguenot-Prince's Bay-Woodrow  SI0304     108697   \n",
              "4         5                 Arden Heights-Rossville  SI0303      42625   \n",
              "\n",
              "   SUM_Shape_Area                                 NTAName    Shape_Area  \\\n",
              "0    6.308119e+03                                     NaN           NaN   \n",
              "1    7.373891e+04                                Allerton  1.575392e+07   \n",
              "2    1.526862e+05                         Alley Pond Park  2.613240e+07   \n",
              "3    1.106465e+06  Annadale-Huguenot-Prince's Bay-Woodrow  1.804263e+08   \n",
              "4    3.916532e+05                 Arden Heights-Rossville  6.777396e+07   \n",
              "\n",
              "   calculate_gain  \n",
              "0             NaN  \n",
              "1        0.004681  \n",
              "2        0.005843  \n",
              "3        0.006133  \n",
              "4        0.005779  "
            ],
            "text/html": [
              "\n",
              "  <div id=\"df-11294173-185d-41b8-b109-cf98b64497e3\" class=\"colab-df-container\">\n",
              "    <div>\n",
              "<style scoped>\n",
              "    .dataframe tbody tr th:only-of-type {\n",
              "        vertical-align: middle;\n",
              "    }\n",
              "\n",
              "    .dataframe tbody tr th {\n",
              "        vertical-align: top;\n",
              "    }\n",
              "\n",
              "    .dataframe thead th {\n",
              "        text-align: right;\n",
              "    }\n",
              "</style>\n",
              "<table border=\"1\" class=\"dataframe\">\n",
              "  <thead>\n",
              "    <tr style=\"text-align: right;\">\n",
              "      <th></th>\n",
              "      <th>OBJECTID</th>\n",
              "      <th>ntaname</th>\n",
              "      <th>nta2020</th>\n",
              "      <th>FREQUENCY</th>\n",
              "      <th>SUM_Shape_Area</th>\n",
              "      <th>NTAName</th>\n",
              "      <th>Shape_Area</th>\n",
              "      <th>calculate_gain</th>\n",
              "    </tr>\n",
              "  </thead>\n",
              "  <tbody>\n",
              "    <tr>\n",
              "      <th>0</th>\n",
              "      <td>1</td>\n",
              "      <td>NaN</td>\n",
              "      <td>NaN</td>\n",
              "      <td>2387</td>\n",
              "      <td>6.308119e+03</td>\n",
              "      <td>NaN</td>\n",
              "      <td>NaN</td>\n",
              "      <td>NaN</td>\n",
              "    </tr>\n",
              "    <tr>\n",
              "      <th>1</th>\n",
              "      <td>2</td>\n",
              "      <td>Allerton</td>\n",
              "      <td>BX1104</td>\n",
              "      <td>9888</td>\n",
              "      <td>7.373891e+04</td>\n",
              "      <td>Allerton</td>\n",
              "      <td>1.575392e+07</td>\n",
              "      <td>0.004681</td>\n",
              "    </tr>\n",
              "    <tr>\n",
              "      <th>2</th>\n",
              "      <td>3</td>\n",
              "      <td>Alley Pond Park</td>\n",
              "      <td>QN1191</td>\n",
              "      <td>10178</td>\n",
              "      <td>1.526862e+05</td>\n",
              "      <td>Alley Pond Park</td>\n",
              "      <td>2.613240e+07</td>\n",
              "      <td>0.005843</td>\n",
              "    </tr>\n",
              "    <tr>\n",
              "      <th>3</th>\n",
              "      <td>4</td>\n",
              "      <td>Annadale-Huguenot-Prince's Bay-Woodrow</td>\n",
              "      <td>SI0304</td>\n",
              "      <td>108697</td>\n",
              "      <td>1.106465e+06</td>\n",
              "      <td>Annadale-Huguenot-Prince's Bay-Woodrow</td>\n",
              "      <td>1.804263e+08</td>\n",
              "      <td>0.006133</td>\n",
              "    </tr>\n",
              "    <tr>\n",
              "      <th>4</th>\n",
              "      <td>5</td>\n",
              "      <td>Arden Heights-Rossville</td>\n",
              "      <td>SI0303</td>\n",
              "      <td>42625</td>\n",
              "      <td>3.916532e+05</td>\n",
              "      <td>Arden Heights-Rossville</td>\n",
              "      <td>6.777396e+07</td>\n",
              "      <td>0.005779</td>\n",
              "    </tr>\n",
              "  </tbody>\n",
              "</table>\n",
              "</div>\n",
              "    <div class=\"colab-df-buttons\">\n",
              "\n",
              "  <div class=\"colab-df-container\">\n",
              "    <button class=\"colab-df-convert\" onclick=\"convertToInteractive('df-11294173-185d-41b8-b109-cf98b64497e3')\"\n",
              "            title=\"Convert this dataframe to an interactive table.\"\n",
              "            style=\"display:none;\">\n",
              "\n",
              "  <svg xmlns=\"http://www.w3.org/2000/svg\" height=\"24px\" viewBox=\"0 -960 960 960\">\n",
              "    <path d=\"M120-120v-720h720v720H120Zm60-500h600v-160H180v160Zm220 220h160v-160H400v160Zm0 220h160v-160H400v160ZM180-400h160v-160H180v160Zm440 0h160v-160H620v160ZM180-180h160v-160H180v160Zm440 0h160v-160H620v160Z\"/>\n",
              "  </svg>\n",
              "    </button>\n",
              "\n",
              "  <style>\n",
              "    .colab-df-container {\n",
              "      display:flex;\n",
              "      gap: 12px;\n",
              "    }\n",
              "\n",
              "    .colab-df-convert {\n",
              "      background-color: #E8F0FE;\n",
              "      border: none;\n",
              "      border-radius: 50%;\n",
              "      cursor: pointer;\n",
              "      display: none;\n",
              "      fill: #1967D2;\n",
              "      height: 32px;\n",
              "      padding: 0 0 0 0;\n",
              "      width: 32px;\n",
              "    }\n",
              "\n",
              "    .colab-df-convert:hover {\n",
              "      background-color: #E2EBFA;\n",
              "      box-shadow: 0px 1px 2px rgba(60, 64, 67, 0.3), 0px 1px 3px 1px rgba(60, 64, 67, 0.15);\n",
              "      fill: #174EA6;\n",
              "    }\n",
              "\n",
              "    .colab-df-buttons div {\n",
              "      margin-bottom: 4px;\n",
              "    }\n",
              "\n",
              "    [theme=dark] .colab-df-convert {\n",
              "      background-color: #3B4455;\n",
              "      fill: #D2E3FC;\n",
              "    }\n",
              "\n",
              "    [theme=dark] .colab-df-convert:hover {\n",
              "      background-color: #434B5C;\n",
              "      box-shadow: 0px 1px 3px 1px rgba(0, 0, 0, 0.15);\n",
              "      filter: drop-shadow(0px 1px 2px rgba(0, 0, 0, 0.3));\n",
              "      fill: #FFFFFF;\n",
              "    }\n",
              "  </style>\n",
              "\n",
              "    <script>\n",
              "      const buttonEl =\n",
              "        document.querySelector('#df-11294173-185d-41b8-b109-cf98b64497e3 button.colab-df-convert');\n",
              "      buttonEl.style.display =\n",
              "        google.colab.kernel.accessAllowed ? 'block' : 'none';\n",
              "\n",
              "      async function convertToInteractive(key) {\n",
              "        const element = document.querySelector('#df-11294173-185d-41b8-b109-cf98b64497e3');\n",
              "        const dataTable =\n",
              "          await google.colab.kernel.invokeFunction('convertToInteractive',\n",
              "                                                    [key], {});\n",
              "        if (!dataTable) return;\n",
              "\n",
              "        const docLinkHtml = 'Like what you see? Visit the ' +\n",
              "          '<a target=\"_blank\" href=https://colab.research.google.com/notebooks/data_table.ipynb>data table notebook</a>'\n",
              "          + ' to learn more about interactive tables.';\n",
              "        element.innerHTML = '';\n",
              "        dataTable['output_type'] = 'display_data';\n",
              "        await google.colab.output.renderOutput(dataTable, element);\n",
              "        const docLink = document.createElement('div');\n",
              "        docLink.innerHTML = docLinkHtml;\n",
              "        element.appendChild(docLink);\n",
              "      }\n",
              "    </script>\n",
              "  </div>\n",
              "\n",
              "\n",
              "<div id=\"df-6667387c-a328-4d78-a60e-206674a3b671\">\n",
              "  <button class=\"colab-df-quickchart\" onclick=\"quickchart('df-6667387c-a328-4d78-a60e-206674a3b671')\"\n",
              "            title=\"Suggest charts\"\n",
              "            style=\"display:none;\">\n",
              "\n",
              "<svg xmlns=\"http://www.w3.org/2000/svg\" height=\"24px\"viewBox=\"0 0 24 24\"\n",
              "     width=\"24px\">\n",
              "    <g>\n",
              "        <path d=\"M19 3H5c-1.1 0-2 .9-2 2v14c0 1.1.9 2 2 2h14c1.1 0 2-.9 2-2V5c0-1.1-.9-2-2-2zM9 17H7v-7h2v7zm4 0h-2V7h2v10zm4 0h-2v-4h2v4z\"/>\n",
              "    </g>\n",
              "</svg>\n",
              "  </button>\n",
              "\n",
              "<style>\n",
              "  .colab-df-quickchart {\n",
              "      --bg-color: #E8F0FE;\n",
              "      --fill-color: #1967D2;\n",
              "      --hover-bg-color: #E2EBFA;\n",
              "      --hover-fill-color: #174EA6;\n",
              "      --disabled-fill-color: #AAA;\n",
              "      --disabled-bg-color: #DDD;\n",
              "  }\n",
              "\n",
              "  [theme=dark] .colab-df-quickchart {\n",
              "      --bg-color: #3B4455;\n",
              "      --fill-color: #D2E3FC;\n",
              "      --hover-bg-color: #434B5C;\n",
              "      --hover-fill-color: #FFFFFF;\n",
              "      --disabled-bg-color: #3B4455;\n",
              "      --disabled-fill-color: #666;\n",
              "  }\n",
              "\n",
              "  .colab-df-quickchart {\n",
              "    background-color: var(--bg-color);\n",
              "    border: none;\n",
              "    border-radius: 50%;\n",
              "    cursor: pointer;\n",
              "    display: none;\n",
              "    fill: var(--fill-color);\n",
              "    height: 32px;\n",
              "    padding: 0;\n",
              "    width: 32px;\n",
              "  }\n",
              "\n",
              "  .colab-df-quickchart:hover {\n",
              "    background-color: var(--hover-bg-color);\n",
              "    box-shadow: 0 1px 2px rgba(60, 64, 67, 0.3), 0 1px 3px 1px rgba(60, 64, 67, 0.15);\n",
              "    fill: var(--button-hover-fill-color);\n",
              "  }\n",
              "\n",
              "  .colab-df-quickchart-complete:disabled,\n",
              "  .colab-df-quickchart-complete:disabled:hover {\n",
              "    background-color: var(--disabled-bg-color);\n",
              "    fill: var(--disabled-fill-color);\n",
              "    box-shadow: none;\n",
              "  }\n",
              "\n",
              "  .colab-df-spinner {\n",
              "    border: 2px solid var(--fill-color);\n",
              "    border-color: transparent;\n",
              "    border-bottom-color: var(--fill-color);\n",
              "    animation:\n",
              "      spin 1s steps(1) infinite;\n",
              "  }\n",
              "\n",
              "  @keyframes spin {\n",
              "    0% {\n",
              "      border-color: transparent;\n",
              "      border-bottom-color: var(--fill-color);\n",
              "      border-left-color: var(--fill-color);\n",
              "    }\n",
              "    20% {\n",
              "      border-color: transparent;\n",
              "      border-left-color: var(--fill-color);\n",
              "      border-top-color: var(--fill-color);\n",
              "    }\n",
              "    30% {\n",
              "      border-color: transparent;\n",
              "      border-left-color: var(--fill-color);\n",
              "      border-top-color: var(--fill-color);\n",
              "      border-right-color: var(--fill-color);\n",
              "    }\n",
              "    40% {\n",
              "      border-color: transparent;\n",
              "      border-right-color: var(--fill-color);\n",
              "      border-top-color: var(--fill-color);\n",
              "    }\n",
              "    60% {\n",
              "      border-color: transparent;\n",
              "      border-right-color: var(--fill-color);\n",
              "    }\n",
              "    80% {\n",
              "      border-color: transparent;\n",
              "      border-right-color: var(--fill-color);\n",
              "      border-bottom-color: var(--fill-color);\n",
              "    }\n",
              "    90% {\n",
              "      border-color: transparent;\n",
              "      border-bottom-color: var(--fill-color);\n",
              "    }\n",
              "  }\n",
              "</style>\n",
              "\n",
              "  <script>\n",
              "    async function quickchart(key) {\n",
              "      const quickchartButtonEl =\n",
              "        document.querySelector('#' + key + ' button');\n",
              "      quickchartButtonEl.disabled = true;  // To prevent multiple clicks.\n",
              "      quickchartButtonEl.classList.add('colab-df-spinner');\n",
              "      try {\n",
              "        const charts = await google.colab.kernel.invokeFunction(\n",
              "            'suggestCharts', [key], {});\n",
              "      } catch (error) {\n",
              "        console.error('Error during call to suggestCharts:', error);\n",
              "      }\n",
              "      quickchartButtonEl.classList.remove('colab-df-spinner');\n",
              "      quickchartButtonEl.classList.add('colab-df-quickchart-complete');\n",
              "    }\n",
              "    (() => {\n",
              "      let quickchartButtonEl =\n",
              "        document.querySelector('#df-6667387c-a328-4d78-a60e-206674a3b671 button');\n",
              "      quickchartButtonEl.style.display =\n",
              "        google.colab.kernel.accessAllowed ? 'block' : 'none';\n",
              "    })();\n",
              "  </script>\n",
              "</div>\n",
              "\n",
              "    </div>\n",
              "  </div>\n"
            ],
            "application/vnd.google.colaboratory.intrinsic+json": {
              "type": "dataframe",
              "variable_name": "gain_df",
              "summary": "{\n  \"name\": \"gain_df\",\n  \"rows\": 263,\n  \"fields\": [\n    {\n      \"column\": \"OBJECTID\",\n      \"properties\": {\n        \"dtype\": \"number\",\n        \"std\": 76,\n        \"min\": 1,\n        \"max\": 263,\n        \"num_unique_values\": 263,\n        \"samples\": [\n          116,\n          121,\n          260\n        ],\n        \"semantic_type\": \"\",\n        \"description\": \"\"\n      }\n    },\n    {\n      \"column\": \"ntaname\",\n      \"properties\": {\n        \"dtype\": \"string\",\n        \"num_unique_values\": 262,\n        \"samples\": [\n          \"Washington Heights (South)\",\n          \"Springfield Gardens (North)-Rochdale Village\",\n          \"Richmond Hill\"\n        ],\n        \"semantic_type\": \"\",\n        \"description\": \"\"\n      }\n    },\n    {\n      \"column\": \"nta2020\",\n      \"properties\": {\n        \"dtype\": \"string\",\n        \"num_unique_values\": 262,\n        \"samples\": [\n          \"MN1201\",\n          \"QN1204\",\n          \"QN0902\"\n        ],\n        \"semantic_type\": \"\",\n        \"description\": \"\"\n      }\n    },\n    {\n      \"column\": \"FREQUENCY\",\n      \"properties\": {\n        \"dtype\": \"number\",\n        \"std\": 15345,\n        \"min\": 146,\n        \"max\": 108697,\n        \"num_unique_values\": 263,\n        \"samples\": [\n          14086,\n          4946,\n          13742\n        ],\n        \"semantic_type\": \"\",\n        \"description\": \"\"\n      }\n    },\n    {\n      \"column\": \"SUM_Shape_Area\",\n      \"properties\": {\n        \"dtype\": \"number\",\n        \"std\": 150889.67425497767,\n        \"min\": 2476.533427913953,\n        \"max\": 1106465.245443316,\n        \"num_unique_values\": 263,\n        \"samples\": [\n          120660.7655419845,\n          65452.24849610301,\n          116989.1664825688\n        ],\n        \"semantic_type\": \"\",\n        \"description\": \"\"\n      }\n    },\n    {\n      \"column\": \"NTAName\",\n      \"properties\": {\n        \"dtype\": \"string\",\n        \"num_unique_values\": 262,\n        \"samples\": [\n          \"Washington Heights (South)\",\n          \"Springfield Gardens (North)-Rochdale Village\",\n          \"Richmond Hill\"\n        ],\n        \"semantic_type\": \"\",\n        \"description\": \"\"\n      }\n    },\n    {\n      \"column\": \"Shape_Area\",\n      \"properties\": {\n        \"dtype\": \"number\",\n        \"std\": 29086406.51331369,\n        \"min\": 635701.967583,\n        \"max\": 209409366.257,\n        \"num_unique_values\": 262,\n        \"samples\": [\n          21026875.5444,\n          34464287.7562,\n          30269745.9502\n        ],\n        \"semantic_type\": \"\",\n        \"description\": \"\"\n      }\n    },\n    {\n      \"column\": \"calculate_gain\",\n      \"properties\": {\n        \"dtype\": \"number\",\n        \"std\": 0.0017579552307334459,\n        \"min\": 0.0001774228644376248,\n        \"max\": 0.02295290969330838,\n        \"num_unique_values\": 262,\n        \"samples\": [\n          0.00428718602828805,\n          0.0058304327069038245,\n          0.004615371799517354\n        ],\n        \"semantic_type\": \"\",\n        \"description\": \"\"\n      }\n    }\n  ]\n}"
            }
          },
          "metadata": {},
          "execution_count": 23
        }
      ]
    },
    {
      "cell_type": "code",
      "source": [
        "# Apply weights to calculate the weighted average\n",
        "# Add the weighted values to each respective DataFrame\n",
        "gain_df['weighted_gain'] = gain_df['calculate_gain'] * 1  # +1 for gain\n",
        "nochange_df['weighted_nochange'] = nochange_df['calculate_nochange'] * 1  # +1 for no change\n",
        "loss_df['weighted_loss'] = loss_df['calculate_loss'] * -1  # -1 for loss\n",
        "\n",
        "# Merge the weighted values into the NTA dataset\n",
        "weighted_df = nta_2020_df[['NTAName']].copy()\n",
        "weighted_df = weighted_df.merge(gain_df[['ntaname', 'weighted_gain']], left_on='NTAName', right_on='ntaname', how='left')\n",
        "weighted_df = weighted_df.merge(nochange_df[['ntaname', 'weighted_nochange']], left_on='NTAName', right_on='ntaname', how='left')\n",
        "weighted_df = weighted_df.merge(loss_df[['ntaname', 'weighted_loss']], left_on='NTAName', right_on='ntaname', how='left')\n",
        "\n",
        "# Fill any missing values with 0\n",
        "weighted_df[['weighted_gain', 'weighted_nochange', 'weighted_loss']] = weighted_df[['weighted_gain', 'weighted_nochange', 'weighted_loss']].fillna(0)\n",
        "\n",
        "# Calculate the final weighted average\n",
        "weighted_df['vulnerability_score'] = (weighted_df['weighted_gain'] + weighted_df['weighted_nochange'] + weighted_df['weighted_loss']) / 3\n",
        "\n",
        "# Merge the calculated scores back into the original NTA dataset\n",
        "nta_2020_df = nta_2020_df.merge(weighted_df[['NTAName', 'vulnerability_score']], on='NTAName', how='left')\n",
        "\n",
        "# Fill any missing vulnerability scores with 0\n",
        "nta_2020_df['vulnerability_score'] = nta_2020_df['vulnerability_score'].fillna(0)\n",
        "\n",
        "# Save\n",
        "nta_2020_df.to_excel(\"nta_with_treecanopy_vulnerability_scores.xlsx\", index=False)\n"
      ],
      "metadata": {
        "id": "FZcLVXhow_ID"
      },
      "execution_count": null,
      "outputs": []
    },
    {
      "cell_type": "markdown",
      "source": [
        "#### SLR 2050_500yr"
      ],
      "metadata": {
        "id": "edhcgzBaNlJG"
      }
    },
    {
      "cell_type": "code",
      "source": [
        "slr2050_500_df = pd.read_excel('c2050_500yr_Proje_Statistics_TableToExcel_up_noz.xlsx')\n",
        "\n",
        "# Merge the average percent data with the NTA data\n",
        "merged_df = pd.merge(nta_2020_df, slr2050_500_df, left_on='NTAName', right_on='ntaname', how='left')\n",
        "\n",
        "# Export the final dataframe to an Excel file\n",
        "merged_df.to_excel('slr2050_500yr_nta2020.xlsx', index=False)\n"
      ],
      "metadata": {
        "id": "XhW5p_mXG7ht"
      },
      "execution_count": null,
      "outputs": []
    },
    {
      "cell_type": "markdown",
      "source": [
        "#### SLR 2050_100yr"
      ],
      "metadata": {
        "id": "MWlDc5HoNlee"
      }
    },
    {
      "cell_type": "code",
      "source": [
        "slr2050_100_df = pd.read_excel('c2050_100yr_Proje_Statistics_TableToExcel_up_noz.xlsx')\n",
        "\n",
        "# Merge the average percent data with the NTA data\n",
        "merged_df = pd.merge(nta_2020_df, slr2050_100_df, left_on='NTAName', right_on='ntaname', how='left')\n",
        "\n",
        "# Export the final dataframe to an Excel file\n",
        "merged_df.to_excel('slr2050_100yr_nta2020.xlsx', index=False)\n",
        "\n",
        "print(\"Export completed\")"
      ],
      "metadata": {
        "colab": {
          "base_uri": "https://localhost:8080/"
        },
        "id": "SDai41YnNlvO",
        "outputId": "cbf747fd-ca75-42b7-9056-6338768a4c8e"
      },
      "execution_count": null,
      "outputs": [
        {
          "output_type": "stream",
          "name": "stdout",
          "text": [
            "Export completed\n"
          ]
        }
      ]
    },
    {
      "cell_type": "markdown",
      "source": [
        "#### SLR 2020_500yr"
      ],
      "metadata": {
        "id": "vbgMhCILLzOz"
      }
    },
    {
      "cell_type": "code",
      "source": [
        "slr2020_500_df = pd.read_excel('c2020_500yr_Proje_Statistics_TableToExcel_up_noz.xlsx')\n",
        "\n",
        "# Merge the average percent data with the NTA data\n",
        "merged_df = pd.merge(nta_2020_df, slr2020_500_df, left_on='NTAName', right_on='ntaname', how='left')\n",
        "\n",
        "# Export the final dataframe to an Excel file\n",
        "merged_df.to_excel('slr2020_500yr_nta2020.xlsx', index=False)\n",
        "\n",
        "print(\"Export completed\")"
      ],
      "metadata": {
        "colab": {
          "base_uri": "https://localhost:8080/"
        },
        "id": "9Ih9L6-vLzdE",
        "outputId": "b93a102c-4889-4b28-fbe1-cb69f1046d76"
      },
      "execution_count": null,
      "outputs": [
        {
          "output_type": "stream",
          "name": "stdout",
          "text": [
            "Export completed\n"
          ]
        }
      ]
    },
    {
      "cell_type": "markdown",
      "source": [
        "#### SLR 2020_100yr"
      ],
      "metadata": {
        "id": "XzDfjUTYJLlV"
      }
    },
    {
      "cell_type": "code",
      "source": [
        "%cd /content/drive/MyDrive/Thesis/Fall_2024/Data/Datasets/Modified"
      ],
      "metadata": {
        "colab": {
          "base_uri": "https://localhost:8080/"
        },
        "id": "arSnMPsRKG61",
        "outputId": "03518723-a878-452f-be9a-1a104ab468f1"
      },
      "execution_count": null,
      "outputs": [
        {
          "output_type": "stream",
          "name": "stdout",
          "text": [
            "/content/drive/MyDrive/Thesis/Fall_2024/Data/Datasets/Modified\n"
          ]
        }
      ]
    },
    {
      "cell_type": "code",
      "source": [
        "slr2020_100_df = pd.read_excel('c2020_100yr_Proje_Statistics_TableToExcel_up_noz.xlsx')\n",
        "\n",
        "# Merge the average percent data with the NTA data\n",
        "merged_df = pd.merge(nta_2020_df, slr2020_100_df, left_on='NTAName', right_on='ntaname', how='left')\n",
        "\n",
        "# Export the final dataframe to an Excel file\n",
        "merged_df.to_excel('slr2020_100yr_nta2020.xlsx', index=False)\n",
        "\n",
        "print(\"Export completed\")"
      ],
      "metadata": {
        "colab": {
          "base_uri": "https://localhost:8080/"
        },
        "id": "9nHMzvHsJL-d",
        "outputId": "dfa9e3b3-708e-4014-c38d-cb13d6cb165a"
      },
      "execution_count": null,
      "outputs": [
        {
          "output_type": "stream",
          "name": "stdout",
          "text": [
            "Export completed\n"
          ]
        }
      ]
    },
    {
      "cell_type": "markdown",
      "source": [
        "#### Street Tree Sidewalk"
      ],
      "metadata": {
        "id": "DPi5Bez_fRx8"
      }
    },
    {
      "cell_type": "code",
      "source": [
        "steetpav_df = pd.read_excel('streettree_Inters_Statistics_sidewalk_TableToExcel.xlsx')\n",
        "\n",
        "# Identify missing NTAs in the building dataset\n",
        "missing_ntas = set(nta_2020_df['NTAName']) - set(steetpav_df['ntaname'])\n",
        "\n",
        "# Create a dataframe to display missing NTAs\n",
        "missing_ntas_df = pd.DataFrame(list(missing_ntas), columns=['Missing_NTAs'])\n",
        "missing_ntas_df.head()\n",
        "\n",
        "# Assign values to LSTSTATYPE\n",
        "# Define the mapping: 1 for constructed/permitted/under construction, 0 for marked/blanks\n",
        "value_mapping = {\n",
        "    'Damage': 1,\n",
        "    'NoDamage': 0,\n",
        "    '': 0  # Blank rows\n",
        "}\n",
        "\n",
        "# Apply the mapping to the building dataset\n",
        "steetpav_df['Value'] = steetpav_df['sidewalk'].map(value_mapping)\n",
        "\n",
        "# calculate vulnerability value for each NTA\n",
        "# Multiply 'Value' by 'FREQUENCY' and group by 'Geography' (NTA name) to sum the values\n",
        "steetpav_df['Weighted_Value'] = steetpav_df['Value'] * steetpav_df['FREQUENCY']\n",
        "\n",
        "# Group by Geography to calculate the total vulnerability value for each NTA\n",
        "vulnerability_df = steetpav_df.groupby('ntaname')['Weighted_Value'].sum().reset_index()\n",
        "\n",
        "# Merge the vulnerability values back with the NTA dataset to include all NTAs\n",
        "final_df = pd.merge(nta_2020_df[['NTAName']], vulnerability_df, left_on='NTAName', right_on='ntaname', how='left')\n",
        "\n",
        "# Fill any missing vulnerability values with 0\n",
        "final_df['Weighted_Value'].fillna(0, inplace=True)\n",
        "\n",
        "# Export the final result to Excel\n",
        "final_df.to_excel('ST_sidewalk_recalculated_values_nta2020_new.xlsx', index=False)\n",
        "\n",
        "print(\"Vulnerability values calculated and exported.\")"
      ],
      "metadata": {
        "colab": {
          "base_uri": "https://localhost:8080/"
        },
        "id": "x0HGVD9efT5p",
        "outputId": "f0a82acc-9705-4ebb-d484-e769adb6506c"
      },
      "execution_count": null,
      "outputs": [
        {
          "output_type": "stream",
          "name": "stdout",
          "text": [
            "Vulnerability values calculated and exported.\n"
          ]
        },
        {
          "output_type": "stream",
          "name": "stderr",
          "text": [
            "<ipython-input-31-9a4e0da1debf>:32: FutureWarning: A value is trying to be set on a copy of a DataFrame or Series through chained assignment using an inplace method.\n",
            "The behavior will change in pandas 3.0. This inplace method will never work because the intermediate object on which we are setting values always behaves as a copy.\n",
            "\n",
            "For example, when doing 'df[col].method(value, inplace=True)', try using 'df.method({col: value}, inplace=True)' or df[col] = df[col].method(value) instead, to perform the operation inplace on the original object.\n",
            "\n",
            "\n",
            "  final_df['Weighted_Value'].fillna(0, inplace=True)\n"
          ]
        }
      ]
    },
    {
      "cell_type": "markdown",
      "source": [
        "#### Street Tree Status"
      ],
      "metadata": {
        "id": "Mk7SIWfAdqSV"
      }
    },
    {
      "cell_type": "code",
      "source": [
        "steetpav_df = pd.read_excel('streettree_Inters_Statistics_status_TableToExcel.xlsx')\n",
        "\n",
        "# Identify missing NTAs in the building dataset\n",
        "missing_ntas = set(nta_2020_df['NTAName']) - set(steetpav_df['ntaname'])\n",
        "\n",
        "# Create a dataframe to display missing NTAs\n",
        "missing_ntas_df = pd.DataFrame(list(missing_ntas), columns=['Missing_NTAs'])\n",
        "missing_ntas_df.head()\n",
        "\n",
        "# Assign values to LSTSTATYPE\n",
        "# Define the mapping: 1 for constructed/permitted/under construction, 0 for marked/blanks\n",
        "value_mapping = {\n",
        "    'Alive': 0,\n",
        "    'Dead': 1,\n",
        "    'Stump': 0,\n",
        "    '': 0  # Blank rows\n",
        "}\n",
        "\n",
        "# Apply the mapping to the building dataset\n",
        "steetpav_df['Value'] = steetpav_df['status'].map(value_mapping)\n",
        "\n",
        "# Calculate vulnerability value for each NTA\n",
        "# Multiply 'Value' by 'FREQUENCY' and group by 'Geography' (NTA name) to sum the values\n",
        "steetpav_df['Weighted_Value'] = steetpav_df['Value'] * steetpav_df['FREQUENCY']\n",
        "\n",
        "# Group by Geography to calculate the total vulnerability value for each NTA\n",
        "vulnerability_df = steetpav_df.groupby('ntaname')['Weighted_Value'].sum().reset_index()\n",
        "\n",
        "# Merge the vulnerability values back with the NTA dataset to include all NTAs\n",
        "final_df = pd.merge(nta_2020_df[['NTAName']], vulnerability_df, left_on='NTAName', right_on='ntaname', how='left')\n",
        "\n",
        "# Fill any missing vulnerability values with 0 (in case an NTA has no building data)\n",
        "final_df['Weighted_Value'].fillna(0, inplace=True)\n",
        "\n",
        "# Export the final result to Excel\n",
        "final_df.to_excel('ST_status_recalculated_values_nta2020_new.xlsx', index=False)\n",
        "\n",
        "\n",
        "\n",
        "print(\"Vulnerability values calculated and exported.\")"
      ],
      "metadata": {
        "colab": {
          "base_uri": "https://localhost:8080/"
        },
        "id": "LS3kxjINdtjl",
        "outputId": "6496f815-6e44-49e7-e291-14c5a01ecba9"
      },
      "execution_count": null,
      "outputs": [
        {
          "output_type": "stream",
          "name": "stdout",
          "text": [
            "Vulnerability values calculated and exported.\n"
          ]
        },
        {
          "output_type": "stream",
          "name": "stderr",
          "text": [
            "<ipython-input-29-7a818d03be33>:33: FutureWarning: A value is trying to be set on a copy of a DataFrame or Series through chained assignment using an inplace method.\n",
            "The behavior will change in pandas 3.0. This inplace method will never work because the intermediate object on which we are setting values always behaves as a copy.\n",
            "\n",
            "For example, when doing 'df[col].method(value, inplace=True)', try using 'df.method({col: value}, inplace=True)' or df[col] = df[col].method(value) instead, to perform the operation inplace on the original object.\n",
            "\n",
            "\n",
            "  final_df['Weighted_Value'].fillna(0, inplace=True)\n"
          ]
        }
      ]
    },
    {
      "cell_type": "markdown",
      "source": [
        "#### Street Tree Health"
      ],
      "metadata": {
        "id": "fVD6X-JkbGed"
      }
    },
    {
      "cell_type": "code",
      "source": [
        "steetpav_df = pd.read_excel('streettree_Inters_Statistics_health_TableToExcel.xlsx')\n",
        "\n",
        "# Identify missing NTAs in the building dataset\n",
        "missing_ntas = set(nta_2020_df['NTAName']) - set(steetpav_df['ntaname'])\n",
        "\n",
        "# Create a dataframe to display missing NTAs\n",
        "missing_ntas_df = pd.DataFrame(list(missing_ntas), columns=['Missing_NTAs'])\n",
        "missing_ntas_df.head()\n",
        "\n",
        "# Assign values to LSTSTATYPE\n",
        "# Define the mapping: 1 for constructed/permitted/under construction, 0 for marked/blanks\n",
        "value_mapping = {\n",
        "    'Fair': 0.5,\n",
        "    'Good': 0,\n",
        "    'Poor': 1,\n",
        "    '': 0.5  # Blank rows\n",
        "}\n",
        "\n",
        "# Apply the mapping to the building dataset\n",
        "steetpav_df['Value'] = steetpav_df['health'].map(value_mapping)\n",
        "\n",
        "# Calculate vulnerability value for each NTA\n",
        "# Multiply 'Value' by 'FREQUENCY' and group by 'Geography' (NTA name) to sum the values\n",
        "steetpav_df['Weighted_Value'] = steetpav_df['Value'] * steetpav_df['FREQUENCY']\n",
        "\n",
        "# Group by Geography to calculate the total vulnerability value for each NTA\n",
        "vulnerability_df = steetpav_df.groupby('ntaname')['Weighted_Value'].sum().reset_index()\n",
        "\n",
        "# Merge the vulnerability values back with the NTA dataset to include all NTAs\n",
        "final_df = pd.merge(nta_2020_df[['NTAName']], vulnerability_df, left_on='NTAName', right_on='ntaname', how='left')\n",
        "\n",
        "# Fill any missing vulnerability values with 0 (in case an NTA has no building data)\n",
        "final_df['Weighted_Value'].fillna(0, inplace=True)\n",
        "\n",
        "# Export the final result to Excel\n",
        "final_df.to_excel('ST_health_recalculated_values_nta2020_new.xlsx', index=False)\n",
        "\n",
        "\n",
        "print(\"Vulnerability values calculated and exported.\")"
      ],
      "metadata": {
        "colab": {
          "base_uri": "https://localhost:8080/"
        },
        "id": "VD7FeUEubHIr",
        "outputId": "2a9adb69-f734-4ec6-a9a7-23c4a1ee2472"
      },
      "execution_count": null,
      "outputs": [
        {
          "output_type": "stream",
          "name": "stdout",
          "text": [
            "Vulnerability values calculated and exported.\n"
          ]
        },
        {
          "output_type": "stream",
          "name": "stderr",
          "text": [
            "<ipython-input-28-489c09544bb0>:33: FutureWarning: A value is trying to be set on a copy of a DataFrame or Series through chained assignment using an inplace method.\n",
            "The behavior will change in pandas 3.0. This inplace method will never work because the intermediate object on which we are setting values always behaves as a copy.\n",
            "\n",
            "For example, when doing 'df[col].method(value, inplace=True)', try using 'df.method({col: value}, inplace=True)' or df[col] = df[col].method(value) instead, to perform the operation inplace on the original object.\n",
            "\n",
            "\n",
            "  final_df['Weighted_Value'].fillna(0, inplace=True)\n"
          ]
        }
      ]
    },
    {
      "cell_type": "code",
      "source": [
        "steetpav_df['Value']"
      ],
      "metadata": {
        "colab": {
          "base_uri": "https://localhost:8080/",
          "height": 458
        },
        "id": "DZGK7zy3bHxw",
        "outputId": "5fd8602c-91ed-4139-bf7d-513bba25ae99"
      },
      "execution_count": null,
      "outputs": [
        {
          "output_type": "execute_result",
          "data": {
            "text/plain": [
              "0     NaN\n",
              "1     NaN\n",
              "2     NaN\n",
              "3     NaN\n",
              "4     NaN\n",
              "       ..\n",
              "911   NaN\n",
              "912   NaN\n",
              "913   NaN\n",
              "914   NaN\n",
              "915   NaN\n",
              "Name: Value, Length: 916, dtype: float64"
            ],
            "text/html": [
              "<div>\n",
              "<style scoped>\n",
              "    .dataframe tbody tr th:only-of-type {\n",
              "        vertical-align: middle;\n",
              "    }\n",
              "\n",
              "    .dataframe tbody tr th {\n",
              "        vertical-align: top;\n",
              "    }\n",
              "\n",
              "    .dataframe thead th {\n",
              "        text-align: right;\n",
              "    }\n",
              "</style>\n",
              "<table border=\"1\" class=\"dataframe\">\n",
              "  <thead>\n",
              "    <tr style=\"text-align: right;\">\n",
              "      <th></th>\n",
              "      <th>Value</th>\n",
              "    </tr>\n",
              "  </thead>\n",
              "  <tbody>\n",
              "    <tr>\n",
              "      <th>0</th>\n",
              "      <td>NaN</td>\n",
              "    </tr>\n",
              "    <tr>\n",
              "      <th>1</th>\n",
              "      <td>NaN</td>\n",
              "    </tr>\n",
              "    <tr>\n",
              "      <th>2</th>\n",
              "      <td>NaN</td>\n",
              "    </tr>\n",
              "    <tr>\n",
              "      <th>3</th>\n",
              "      <td>NaN</td>\n",
              "    </tr>\n",
              "    <tr>\n",
              "      <th>4</th>\n",
              "      <td>NaN</td>\n",
              "    </tr>\n",
              "    <tr>\n",
              "      <th>...</th>\n",
              "      <td>...</td>\n",
              "    </tr>\n",
              "    <tr>\n",
              "      <th>911</th>\n",
              "      <td>NaN</td>\n",
              "    </tr>\n",
              "    <tr>\n",
              "      <th>912</th>\n",
              "      <td>NaN</td>\n",
              "    </tr>\n",
              "    <tr>\n",
              "      <th>913</th>\n",
              "      <td>NaN</td>\n",
              "    </tr>\n",
              "    <tr>\n",
              "      <th>914</th>\n",
              "      <td>NaN</td>\n",
              "    </tr>\n",
              "    <tr>\n",
              "      <th>915</th>\n",
              "      <td>NaN</td>\n",
              "    </tr>\n",
              "  </tbody>\n",
              "</table>\n",
              "<p>916 rows × 1 columns</p>\n",
              "</div><br><label><b>dtype:</b> float64</label>"
            ]
          },
          "metadata": {},
          "execution_count": 26
        }
      ]
    },
    {
      "cell_type": "markdown",
      "source": [
        "#### Park Forest Restoration"
      ],
      "metadata": {
        "id": "cO_k2gqUWcxv"
      }
    },
    {
      "cell_type": "code",
      "source": [
        "park_forest_df = pd.read_excel('parkforest_Projec_Statistics_TableToExcel.xlsx')\n",
        "\n",
        "# Merge the average percent data with the NTA data\n",
        "merged_df = pd.merge(nta_2020_df, park_forest_df, left_on='NTAName', right_on='ntaname', how='left')\n",
        "\n",
        "#Export the final dataframe to an Excel file\n",
        "merged_df.to_excel('park_forest_nta2020.xlsx', index=False)\n",
        "\n",
        "print(\"Export completed\")"
      ],
      "metadata": {
        "colab": {
          "base_uri": "https://localhost:8080/"
        },
        "id": "8P5RtdvTWm7s",
        "outputId": "3ae9a5fc-dd3e-4f8a-d177-10c86fbb95c6"
      },
      "execution_count": null,
      "outputs": [
        {
          "output_type": "stream",
          "name": "stdout",
          "text": [
            "Export completed\n"
          ]
        }
      ]
    },
    {
      "cell_type": "markdown",
      "source": [
        "#### Street Pavement (new)"
      ],
      "metadata": {
        "id": "MEg9oyDkUXxU"
      }
    },
    {
      "cell_type": "code",
      "source": [
        "steetpav_df = pd.read_excel('strt_pave_Project_Statistics_nta2020_withIntersect_TableToExcel.xlsx')\n",
        "\n",
        "# Identify missing NTAs in the building dataset\n",
        "missing_ntas = set(nta_2020_df['NTAName']) - set(steetpav_df['ntaname'])\n",
        "\n",
        "# Create a dataframe to display missing NTAs\n",
        "missing_ntas_df = pd.DataFrame(list(missing_ntas), columns=['Missing_NTAs'])\n",
        "missing_ntas_df.head()\n",
        "\n",
        "# Assign values to LSTSTATYPE\n",
        "# Define the mapping: 1 for constructed/permitted/under construction, 0 for marked/blanks\n",
        "value_mapping = {\n",
        "    'FAIR': 0.5,\n",
        "    'GOOD': 0,\n",
        "    'NR': 0.5,\n",
        "    'POOR': 1,\n",
        "    '': 0  # Blank rows\n",
        "}\n",
        "\n",
        "# Apply the mapping to the building dataset\n",
        "steetpav_df['Value'] = steetpav_df['rating_wor'].map(value_mapping)\n",
        "\n",
        "#  Calculate vulnerability value for each NTA\n",
        "# Multiply 'Value' by 'FREQUENCY' and group by 'Geography' (NTA name) to sum the values\n",
        "steetpav_df['Weighted_Value'] = steetpav_df['Value'] * steetpav_df['FREQUENCY']\n",
        "\n",
        "# Group by Geography to calculate the total vulnerability value for each NTA\n",
        "vulnerability_df = steetpav_df.groupby('ntaname')['Weighted_Value'].sum().reset_index()\n",
        "\n",
        "# Merge the vulnerability values back with the NTA dataset to include all NTAs\n",
        "final_df = pd.merge(nta_2020_df[['NTAName']], vulnerability_df, left_on='NTAName', right_on='ntaname', how='left')\n",
        "\n",
        "# Fill any missing vulnerability values with 0 (in case an NTA has no building data)\n",
        "final_df['Weighted_Value'].fillna(0, inplace=True)\n",
        "\n",
        "# Export the final result to Excel\n",
        "final_df.to_excel('Street_pavement_recalculated_values_nta2020_new.xlsx', index=False)\n",
        "\n",
        "\n",
        "print(\"Vulnerability values calculated and exported.\")"
      ],
      "metadata": {
        "colab": {
          "base_uri": "https://localhost:8080/"
        },
        "id": "Uv4nGq4SUb0L",
        "outputId": "21d57e3e-6a9c-40f6-ddc6-37a493c6cf35"
      },
      "execution_count": null,
      "outputs": [
        {
          "output_type": "stream",
          "name": "stdout",
          "text": [
            "Vulnerability values calculated and exported.\n"
          ]
        },
        {
          "output_type": "stream",
          "name": "stderr",
          "text": [
            "<ipython-input-19-bfae8c7c05f0>:34: FutureWarning: A value is trying to be set on a copy of a DataFrame or Series through chained assignment using an inplace method.\n",
            "The behavior will change in pandas 3.0. This inplace method will never work because the intermediate object on which we are setting values always behaves as a copy.\n",
            "\n",
            "For example, when doing 'df[col].method(value, inplace=True)', try using 'df.method({col: value}, inplace=True)' or df[col] = df[col].method(value) instead, to perform the operation inplace on the original object.\n",
            "\n",
            "\n",
            "  final_df['Weighted_Value'].fillna(0, inplace=True)\n"
          ]
        }
      ]
    },
    {
      "cell_type": "markdown",
      "source": [
        "#### Wetlands"
      ],
      "metadata": {
        "id": "DsYWiDLORL2X"
      }
    },
    {
      "cell_type": "code",
      "source": [
        "wetlands_df = pd.read_excel('wetlands_Project__Statistics_TableToExcel.xlsx')\n",
        "\n",
        "# merge the average percent data with the NTA data\n",
        "merged_df = pd.merge(nta_2020_df, wetlands_df, left_on='NTAName', right_on='ntaname', how='left')\n",
        "\n",
        "# Export the final dataframe to an Excel file\n",
        "merged_df.to_excel('wetlands_nta2020.xlsx', index=False)\n",
        "\n",
        "print(\"Export completed\")"
      ],
      "metadata": {
        "colab": {
          "base_uri": "https://localhost:8080/"
        },
        "id": "-nHOz_20RN6l",
        "outputId": "4d01caf3-3bc9-424e-f533-e9db18b264fc"
      },
      "execution_count": null,
      "outputs": [
        {
          "output_type": "stream",
          "name": "stdout",
          "text": [
            "Export completed\n"
          ]
        }
      ]
    },
    {
      "cell_type": "markdown",
      "source": [
        "#### Parks Wild"
      ],
      "metadata": {
        "id": "puZPMs8LNhlL"
      }
    },
    {
      "cell_type": "code",
      "source": [
        "#merge with whole nta\n",
        "parks_wild_df = pd.read_excel('parks_wild_Projec_Statistics_TableToExcel.xlsx')\n",
        "\n",
        "#Merge the average percent data with the NTA data\n",
        "merged_df = pd.merge(nta_2020_df, parks_wild_df, left_on='NTAName', right_on='ntaname', how='left')\n",
        "\n",
        "#Export the final dataframe to an Excel file\n",
        "merged_df.to_excel('parks_wild_nta2020.xlsx', index=False)\n",
        "\n",
        "print(\"Export completed\")"
      ],
      "metadata": {
        "colab": {
          "base_uri": "https://localhost:8080/"
        },
        "id": "rf2A8XNfNkP5",
        "outputId": "746dcc5a-ed13-443a-e4f5-bb53f70c4917"
      },
      "execution_count": null,
      "outputs": [
        {
          "output_type": "stream",
          "name": "stdout",
          "text": [
            "Export completed\n"
          ]
        }
      ]
    },
    {
      "cell_type": "markdown",
      "source": [
        "#### forest restoration"
      ],
      "metadata": {
        "id": "sgs6gZdvO-Eq"
      }
    },
    {
      "cell_type": "code",
      "source": [
        "%cd /content/drive/MyDrive/Thesis/Fall_2024/Data/Datasets/Modified"
      ],
      "metadata": {
        "colab": {
          "base_uri": "https://localhost:8080/"
        },
        "id": "dEQHXjiZO-gw",
        "outputId": "54b1069d-b9a0-42a4-dac3-760248720472"
      },
      "execution_count": null,
      "outputs": [
        {
          "output_type": "stream",
          "name": "stdout",
          "text": [
            "/content/drive/MyDrive/Thesis/Fall_2024/Data/Datasets/Modified\n"
          ]
        }
      ]
    },
    {
      "cell_type": "code",
      "source": [
        "import pandas as pd\n",
        "\n",
        "forest_df = pd.read_excel('forestrestoration_Project2020_TableToExcel.xlsx')\n",
        "\n",
        "# Identify NTAs that are in the NTA dataset but missing in the forest restoration dataset\n",
        "missing_ntas = set(nta_2020_df['NTAName']) - set(forest_df['ntaname'])\n",
        "\n",
        "\n",
        "# Group by 'ntaname' and sum 'Shape_Area_park' for each NTA\n",
        "park_area_sum = forest_df.groupby('ntaname').agg(\n",
        "    total_park_area=('Shape_Area_park', 'sum'),\n",
        "    nta_area=('Shape_Area_nta', 'first')  # Assuming 'Shape_Area_nta' is the same for each NTA\n",
        ").reset_index()\n",
        "\n",
        "# Merge with the NTA dataset to ensure all NTAs are included\n",
        "merged_df = nta_2020_df[['NTAName']].merge(\n",
        "    park_area_sum,\n",
        "    left_on='NTAName',\n",
        "    right_on='ntaname',\n",
        "    how='left'\n",
        ")\n",
        "\n",
        "# Fill in missing values for NTAs without park areas\n",
        "merged_df['total_park_area'].fillna(0, inplace=True)\n",
        "merged_df['nta_area'].fillna(merged_df['nta_area'].mean(), inplace=True)\n",
        "\n",
        "# Export the result to an Excel file\n",
        "merged_df[['NTAName', 'total_park_area', 'nta_area']].to_excel('nta_park_area_summary_all_ntas.xlsx', index=False)\n",
        "\n",
        "print(\"Exported NTA park area summary to 'nta_park_area_summary_all_ntas.xlsx'.\")\n",
        "\n"
      ],
      "metadata": {
        "colab": {
          "base_uri": "https://localhost:8080/"
        },
        "id": "VmmDKd22O_Dr",
        "outputId": "424ef6a4-60f3-4754-d589-3edd5e33d12b"
      },
      "execution_count": null,
      "outputs": [
        {
          "output_type": "stream",
          "name": "stdout",
          "text": [
            "Exported NTA park area summary to 'nta_park_area_summary_all_ntas.xlsx'.\n"
          ]
        },
        {
          "output_type": "stream",
          "name": "stderr",
          "text": [
            "<ipython-input-9-3bf7e4a44883>:25: FutureWarning: A value is trying to be set on a copy of a DataFrame or Series through chained assignment using an inplace method.\n",
            "The behavior will change in pandas 3.0. This inplace method will never work because the intermediate object on which we are setting values always behaves as a copy.\n",
            "\n",
            "For example, when doing 'df[col].method(value, inplace=True)', try using 'df.method({col: value}, inplace=True)' or df[col] = df[col].method(value) instead, to perform the operation inplace on the original object.\n",
            "\n",
            "\n",
            "  merged_df['total_park_area'].fillna(0, inplace=True)\n",
            "<ipython-input-9-3bf7e4a44883>:26: FutureWarning: A value is trying to be set on a copy of a DataFrame or Series through chained assignment using an inplace method.\n",
            "The behavior will change in pandas 3.0. This inplace method will never work because the intermediate object on which we are setting values always behaves as a copy.\n",
            "\n",
            "For example, when doing 'df[col].method(value, inplace=True)', try using 'df.method({col: value}, inplace=True)' or df[col] = df[col].method(value) instead, to perform the operation inplace on the original object.\n",
            "\n",
            "\n",
            "  merged_df['nta_area'].fillna(merged_df['nta_area'].mean(), inplace=True)  # Use mean or any default value if nta_area is missing\n"
          ]
        }
      ]
    },
    {
      "cell_type": "markdown",
      "source": [
        "#### race and ethnicity"
      ],
      "metadata": {
        "id": "GF-4kjMfXLwA"
      }
    },
    {
      "cell_type": "code",
      "source": [
        "race_df = pd.read_csv('NYC EH Data Portal - Race and ethnicity (filtered).csv')"
      ],
      "metadata": {
        "id": "SoSDFVoMXVsW"
      },
      "execution_count": null,
      "outputs": []
    },
    {
      "cell_type": "code",
      "source": [
        "# Standardize column names for comparison\n",
        "nta_2020_df['NTAName'] = nta_2020_df['NTAName'].str.strip()\n",
        "race_df['Geography'] = race_df['Geography'].str.strip()\n",
        "\n",
        "# Find missing NTA names in the rent-burdened households file\n",
        "missing_ntas = nta_2020_df[~nta_2020_df['NTAName'].isin(race_df['Geography'])]\n",
        "missing_ntas_list = missing_ntas['NTAName'].tolist()\n",
        "\n",
        "# Print missing NTA names\n",
        "print(f\"Missing NTA Names in eviction_df under data: {missing_ntas_list}\")\n",
        "\n",
        "# Calculate the average percent for each NTA based on available time periods\n",
        "# Group by Geography (NTA) and calculate the average percent\n",
        "walked_df_avg = race_df.groupby('Geography').apply(\n",
        "    lambda x: x['Non-white (percent)'].mean()\n",
        ").reset_index(name='Average_Non-white (percent)')\n",
        "\n",
        "# Merge the average percent data with the NTA data\n",
        "merged_df = pd.merge(nta_2020_df, walked_df_avg, left_on='NTAName', right_on='Geography', how='left')\n",
        "\n",
        "# Export the final dataframe to an Excel file\n",
        "merged_df.to_excel('race_ethinicity_2020_df.xlsx', index=False)\n",
        "\n",
        "print(\"Export completed: 'walked_2020_df.xlsx'\")"
      ],
      "metadata": {
        "colab": {
          "base_uri": "https://localhost:8080/"
        },
        "id": "UqKGvI_vXm6j",
        "outputId": "401c5468-7308-47f2-e3a9-22bf0662df93"
      },
      "execution_count": null,
      "outputs": [
        {
          "output_type": "stream",
          "name": "stdout",
          "text": [
            "Missing NTA Names in eviction_df under data: ['Brooklyn Navy Yard', 'The Evergreens Cemetery', 'Highland Park-Cypress Hills Cemeteries (South)', 'Green-Wood Cemetery', 'Lincoln Terrace Park', 'Fort Hamilton', 'Dyker Beach Park', 'Calvert Vaux Park', 'Holy Cross Cemetery', 'Marine Park-Plumb Island', 'McGuire Fields', 'Canarsie Park & Pier', 'Prospect Park', 'Barren Island-Floyd Bennett Field', 'Jamaica Bay (West)', 'Shirley Chisholm State Park', 'North & South Brother Islands', 'Crotona Park', 'Yankee Stadium-Macombs Dam Park', 'Claremont Park', 'Soundview Park', 'Hart Island', 'Ferry Point Park-St. Raymond Cemetery', 'Hutchinson Metro Center', 'Woodlawn Cemetery', 'Van Cortlandt Park', 'Bronx Park', 'Pelham Bay Park', 'The Battery-Governors Island-Ellis Island-Liberty Island', 'United Nations', \"Randall's Island\", 'Highbridge Park', 'Inwood Hill Park', 'Central Park', 'Rikers Island', 'Sunnyside Yards (North)', \"St. Michael's Cemetery\", 'Astoria Park', 'Sunnyside Yards (South)', 'Calvary & Mount Zion Cemeteries', 'Mount Olivet & All Faiths Cemeteries', 'Middle Village Cemetery', 'St. John Cemetery', 'Highland Park-Cypress Hills Cemeteries (North)', 'Fort Totten', 'Kissena Park', 'Mount Hebron & Cedar Grove Cemeteries', 'Cunningham Park', 'Spring Creek Park', 'Alley Pond Park', 'Montefiore Cemetery', 'Rockaway Community Park', 'LaGuardia Airport', 'Flushing Meadows-Corona Park', 'Forest Park', 'John F. Kennedy International Airport', 'Jamaica Bay (East)', 'Jacob Riis Park-Fort Tilden-Breezy Point Tip', 'Snug Harbor', 'Freshkills Park (North)', 'Freshkills Park (South)', 'Fort Wadsworth', 'Hoffman & Swinburne Islands', 'Miller Field', 'Great Kills Park']\n"
          ]
        },
        {
          "output_type": "stream",
          "name": "stderr",
          "text": [
            "<ipython-input-7-4d3047495cca>:14: DeprecationWarning: DataFrameGroupBy.apply operated on the grouping columns. This behavior is deprecated, and in a future version of pandas the grouping columns will be excluded from the operation. Either pass `include_groups=False` to exclude the groupings or explicitly select the grouping columns after groupby to silence this warning.\n",
            "  walked_df_avg = race_df.groupby('Geography').apply(\n"
          ]
        },
        {
          "output_type": "stream",
          "name": "stdout",
          "text": [
            "Export completed: 'walked_2020_df.xlsx'\n"
          ]
        }
      ]
    },
    {
      "cell_type": "markdown",
      "source": [
        "#### Wetlands"
      ],
      "metadata": {
        "id": "roPtfYUrunSZ"
      }
    },
    {
      "cell_type": "code",
      "source": [
        "wetlands_df = pd.read_excel('wetlands_Project_Statistics_TableToExcel.xlsx')\n",
        "\n",
        "\n",
        "# Identify NTAs that are in the NTA dataset but missing in the wetlands dataset\n",
        "missing_ntas = set(nta_2020_df['NTAName']) - set(wetlands_df['ntaname'])"
      ],
      "metadata": {
        "id": "LBLB5K24wGkD"
      },
      "execution_count": null,
      "outputs": []
    },
    {
      "cell_type": "code",
      "source": [
        "# export the NTA names and wetlands area\n",
        "# Merge the wetlands data with the NTA data\n",
        "merged_df = nta_2020_df[['NTAName', 'Shape_Area']].merge(wetlands_df[['ntaname', 'Shape_Area_wetlands_sum']], left_on='NTAName', right_on='ntaname', how='left')\n",
        "\n",
        "# export the merged result to an Excel file\n",
        "merged_df.to_excel('nta_wetlands_nta2020.xlsx', index=False)\n",
        "\n",
        "print(\"Exported NTA wetlands summary to 'nta_wetlands_nta2020.xlsx'.\")\n"
      ],
      "metadata": {
        "colab": {
          "base_uri": "https://localhost:8080/"
        },
        "id": "l80Ixz_swNkL",
        "outputId": "ab01c580-861b-40e9-bfec-568fe04a1da2"
      },
      "execution_count": null,
      "outputs": [
        {
          "output_type": "stream",
          "name": "stdout",
          "text": [
            "Exported NTA wetlands summary to 'nta_wetlands_nta2020.xlsx'.\n"
          ]
        }
      ]
    },
    {
      "cell_type": "markdown",
      "source": [
        "#### Urban Animal Response"
      ],
      "metadata": {
        "id": "dTEVu50dn7za"
      }
    },
    {
      "cell_type": "code",
      "source": [
        "urban_animal_df = pd.read_excel('parkproperties_Statistics_2020ntacounting_condition_TableToExcel.xlsx')"
      ],
      "metadata": {
        "id": "ApEgjd6Cn-41"
      },
      "execution_count": null,
      "outputs": []
    },
    {
      "cell_type": "code",
      "source": [
        "# Identify missing NTAs in the building dataset\n",
        "missing_ntas = set(nta_2020_df['NTAName']) - set(urban_animal_df['ntaname'])\n",
        "\n",
        "# Create a dataframe to display missing NTAs\n",
        "missing_ntas_df = pd.DataFrame(list(missing_ntas), columns=['Missing_NTAs'])\n",
        "missing_ntas_df.head()"
      ],
      "metadata": {
        "colab": {
          "base_uri": "https://localhost:8080/",
          "height": 206
        },
        "id": "UZX-1kreoQQO",
        "outputId": "34a5cd26-7ff4-4667-d09b-b0a286e98b4f"
      },
      "execution_count": null,
      "outputs": [
        {
          "output_type": "execute_result",
          "data": {
            "text/plain": [
              "                                        Missing_NTAs\n",
              "0                                  LaGuardia Airport\n",
              "1                                        Snug Harbor\n",
              "2                                       Kissena Park\n",
              "3                                  Woodlawn Cemetery\n",
              "4  The Battery-Governors Island-Ellis Island-Libe..."
            ],
            "text/html": [
              "\n",
              "  <div id=\"df-cb099123-8c39-4d67-92e9-776a1d07c91d\" class=\"colab-df-container\">\n",
              "    <div>\n",
              "<style scoped>\n",
              "    .dataframe tbody tr th:only-of-type {\n",
              "        vertical-align: middle;\n",
              "    }\n",
              "\n",
              "    .dataframe tbody tr th {\n",
              "        vertical-align: top;\n",
              "    }\n",
              "\n",
              "    .dataframe thead th {\n",
              "        text-align: right;\n",
              "    }\n",
              "</style>\n",
              "<table border=\"1\" class=\"dataframe\">\n",
              "  <thead>\n",
              "    <tr style=\"text-align: right;\">\n",
              "      <th></th>\n",
              "      <th>Missing_NTAs</th>\n",
              "    </tr>\n",
              "  </thead>\n",
              "  <tbody>\n",
              "    <tr>\n",
              "      <th>0</th>\n",
              "      <td>LaGuardia Airport</td>\n",
              "    </tr>\n",
              "    <tr>\n",
              "      <th>1</th>\n",
              "      <td>Snug Harbor</td>\n",
              "    </tr>\n",
              "    <tr>\n",
              "      <th>2</th>\n",
              "      <td>Kissena Park</td>\n",
              "    </tr>\n",
              "    <tr>\n",
              "      <th>3</th>\n",
              "      <td>Woodlawn Cemetery</td>\n",
              "    </tr>\n",
              "    <tr>\n",
              "      <th>4</th>\n",
              "      <td>The Battery-Governors Island-Ellis Island-Libe...</td>\n",
              "    </tr>\n",
              "  </tbody>\n",
              "</table>\n",
              "</div>\n",
              "    <div class=\"colab-df-buttons\">\n",
              "\n",
              "  <div class=\"colab-df-container\">\n",
              "    <button class=\"colab-df-convert\" onclick=\"convertToInteractive('df-cb099123-8c39-4d67-92e9-776a1d07c91d')\"\n",
              "            title=\"Convert this dataframe to an interactive table.\"\n",
              "            style=\"display:none;\">\n",
              "\n",
              "  <svg xmlns=\"http://www.w3.org/2000/svg\" height=\"24px\" viewBox=\"0 -960 960 960\">\n",
              "    <path d=\"M120-120v-720h720v720H120Zm60-500h600v-160H180v160Zm220 220h160v-160H400v160Zm0 220h160v-160H400v160ZM180-400h160v-160H180v160Zm440 0h160v-160H620v160ZM180-180h160v-160H180v160Zm440 0h160v-160H620v160Z\"/>\n",
              "  </svg>\n",
              "    </button>\n",
              "\n",
              "  <style>\n",
              "    .colab-df-container {\n",
              "      display:flex;\n",
              "      gap: 12px;\n",
              "    }\n",
              "\n",
              "    .colab-df-convert {\n",
              "      background-color: #E8F0FE;\n",
              "      border: none;\n",
              "      border-radius: 50%;\n",
              "      cursor: pointer;\n",
              "      display: none;\n",
              "      fill: #1967D2;\n",
              "      height: 32px;\n",
              "      padding: 0 0 0 0;\n",
              "      width: 32px;\n",
              "    }\n",
              "\n",
              "    .colab-df-convert:hover {\n",
              "      background-color: #E2EBFA;\n",
              "      box-shadow: 0px 1px 2px rgba(60, 64, 67, 0.3), 0px 1px 3px 1px rgba(60, 64, 67, 0.15);\n",
              "      fill: #174EA6;\n",
              "    }\n",
              "\n",
              "    .colab-df-buttons div {\n",
              "      margin-bottom: 4px;\n",
              "    }\n",
              "\n",
              "    [theme=dark] .colab-df-convert {\n",
              "      background-color: #3B4455;\n",
              "      fill: #D2E3FC;\n",
              "    }\n",
              "\n",
              "    [theme=dark] .colab-df-convert:hover {\n",
              "      background-color: #434B5C;\n",
              "      box-shadow: 0px 1px 3px 1px rgba(0, 0, 0, 0.15);\n",
              "      filter: drop-shadow(0px 1px 2px rgba(0, 0, 0, 0.3));\n",
              "      fill: #FFFFFF;\n",
              "    }\n",
              "  </style>\n",
              "\n",
              "    <script>\n",
              "      const buttonEl =\n",
              "        document.querySelector('#df-cb099123-8c39-4d67-92e9-776a1d07c91d button.colab-df-convert');\n",
              "      buttonEl.style.display =\n",
              "        google.colab.kernel.accessAllowed ? 'block' : 'none';\n",
              "\n",
              "      async function convertToInteractive(key) {\n",
              "        const element = document.querySelector('#df-cb099123-8c39-4d67-92e9-776a1d07c91d');\n",
              "        const dataTable =\n",
              "          await google.colab.kernel.invokeFunction('convertToInteractive',\n",
              "                                                    [key], {});\n",
              "        if (!dataTable) return;\n",
              "\n",
              "        const docLinkHtml = 'Like what you see? Visit the ' +\n",
              "          '<a target=\"_blank\" href=https://colab.research.google.com/notebooks/data_table.ipynb>data table notebook</a>'\n",
              "          + ' to learn more about interactive tables.';\n",
              "        element.innerHTML = '';\n",
              "        dataTable['output_type'] = 'display_data';\n",
              "        await google.colab.output.renderOutput(dataTable, element);\n",
              "        const docLink = document.createElement('div');\n",
              "        docLink.innerHTML = docLinkHtml;\n",
              "        element.appendChild(docLink);\n",
              "      }\n",
              "    </script>\n",
              "  </div>\n",
              "\n",
              "\n",
              "<div id=\"df-08e3c469-fc38-4675-adf8-d0458dde76e2\">\n",
              "  <button class=\"colab-df-quickchart\" onclick=\"quickchart('df-08e3c469-fc38-4675-adf8-d0458dde76e2')\"\n",
              "            title=\"Suggest charts\"\n",
              "            style=\"display:none;\">\n",
              "\n",
              "<svg xmlns=\"http://www.w3.org/2000/svg\" height=\"24px\"viewBox=\"0 0 24 24\"\n",
              "     width=\"24px\">\n",
              "    <g>\n",
              "        <path d=\"M19 3H5c-1.1 0-2 .9-2 2v14c0 1.1.9 2 2 2h14c1.1 0 2-.9 2-2V5c0-1.1-.9-2-2-2zM9 17H7v-7h2v7zm4 0h-2V7h2v10zm4 0h-2v-4h2v4z\"/>\n",
              "    </g>\n",
              "</svg>\n",
              "  </button>\n",
              "\n",
              "<style>\n",
              "  .colab-df-quickchart {\n",
              "      --bg-color: #E8F0FE;\n",
              "      --fill-color: #1967D2;\n",
              "      --hover-bg-color: #E2EBFA;\n",
              "      --hover-fill-color: #174EA6;\n",
              "      --disabled-fill-color: #AAA;\n",
              "      --disabled-bg-color: #DDD;\n",
              "  }\n",
              "\n",
              "  [theme=dark] .colab-df-quickchart {\n",
              "      --bg-color: #3B4455;\n",
              "      --fill-color: #D2E3FC;\n",
              "      --hover-bg-color: #434B5C;\n",
              "      --hover-fill-color: #FFFFFF;\n",
              "      --disabled-bg-color: #3B4455;\n",
              "      --disabled-fill-color: #666;\n",
              "  }\n",
              "\n",
              "  .colab-df-quickchart {\n",
              "    background-color: var(--bg-color);\n",
              "    border: none;\n",
              "    border-radius: 50%;\n",
              "    cursor: pointer;\n",
              "    display: none;\n",
              "    fill: var(--fill-color);\n",
              "    height: 32px;\n",
              "    padding: 0;\n",
              "    width: 32px;\n",
              "  }\n",
              "\n",
              "  .colab-df-quickchart:hover {\n",
              "    background-color: var(--hover-bg-color);\n",
              "    box-shadow: 0 1px 2px rgba(60, 64, 67, 0.3), 0 1px 3px 1px rgba(60, 64, 67, 0.15);\n",
              "    fill: var(--button-hover-fill-color);\n",
              "  }\n",
              "\n",
              "  .colab-df-quickchart-complete:disabled,\n",
              "  .colab-df-quickchart-complete:disabled:hover {\n",
              "    background-color: var(--disabled-bg-color);\n",
              "    fill: var(--disabled-fill-color);\n",
              "    box-shadow: none;\n",
              "  }\n",
              "\n",
              "  .colab-df-spinner {\n",
              "    border: 2px solid var(--fill-color);\n",
              "    border-color: transparent;\n",
              "    border-bottom-color: var(--fill-color);\n",
              "    animation:\n",
              "      spin 1s steps(1) infinite;\n",
              "  }\n",
              "\n",
              "  @keyframes spin {\n",
              "    0% {\n",
              "      border-color: transparent;\n",
              "      border-bottom-color: var(--fill-color);\n",
              "      border-left-color: var(--fill-color);\n",
              "    }\n",
              "    20% {\n",
              "      border-color: transparent;\n",
              "      border-left-color: var(--fill-color);\n",
              "      border-top-color: var(--fill-color);\n",
              "    }\n",
              "    30% {\n",
              "      border-color: transparent;\n",
              "      border-left-color: var(--fill-color);\n",
              "      border-top-color: var(--fill-color);\n",
              "      border-right-color: var(--fill-color);\n",
              "    }\n",
              "    40% {\n",
              "      border-color: transparent;\n",
              "      border-right-color: var(--fill-color);\n",
              "      border-top-color: var(--fill-color);\n",
              "    }\n",
              "    60% {\n",
              "      border-color: transparent;\n",
              "      border-right-color: var(--fill-color);\n",
              "    }\n",
              "    80% {\n",
              "      border-color: transparent;\n",
              "      border-right-color: var(--fill-color);\n",
              "      border-bottom-color: var(--fill-color);\n",
              "    }\n",
              "    90% {\n",
              "      border-color: transparent;\n",
              "      border-bottom-color: var(--fill-color);\n",
              "    }\n",
              "  }\n",
              "</style>\n",
              "\n",
              "  <script>\n",
              "    async function quickchart(key) {\n",
              "      const quickchartButtonEl =\n",
              "        document.querySelector('#' + key + ' button');\n",
              "      quickchartButtonEl.disabled = true;  // To prevent multiple clicks.\n",
              "      quickchartButtonEl.classList.add('colab-df-spinner');\n",
              "      try {\n",
              "        const charts = await google.colab.kernel.invokeFunction(\n",
              "            'suggestCharts', [key], {});\n",
              "      } catch (error) {\n",
              "        console.error('Error during call to suggestCharts:', error);\n",
              "      }\n",
              "      quickchartButtonEl.classList.remove('colab-df-spinner');\n",
              "      quickchartButtonEl.classList.add('colab-df-quickchart-complete');\n",
              "    }\n",
              "    (() => {\n",
              "      let quickchartButtonEl =\n",
              "        document.querySelector('#df-08e3c469-fc38-4675-adf8-d0458dde76e2 button');\n",
              "      quickchartButtonEl.style.display =\n",
              "        google.colab.kernel.accessAllowed ? 'block' : 'none';\n",
              "    })();\n",
              "  </script>\n",
              "</div>\n",
              "\n",
              "    </div>\n",
              "  </div>\n"
            ],
            "application/vnd.google.colaboratory.intrinsic+json": {
              "type": "dataframe",
              "variable_name": "missing_ntas_df",
              "summary": "{\n  \"name\": \"missing_ntas_df\",\n  \"rows\": 45,\n  \"fields\": [\n    {\n      \"column\": \"Missing_NTAs\",\n      \"properties\": {\n        \"dtype\": \"string\",\n        \"num_unique_values\": 45,\n        \"samples\": [\n          \"Jamaica Bay (West)\",\n          \"Alley Pond Park\",\n          \"Middle Village Cemetery\"\n        ],\n        \"semantic_type\": \"\",\n        \"description\": \"\"\n      }\n    }\n  ]\n}"
            }
          },
          "metadata": {},
          "execution_count": 17
        }
      ]
    },
    {
      "cell_type": "code",
      "source": [
        "# Assign values to LSTSTATYPE\n",
        "# Define the mapping: 1 for constructed/permitted/under construction, 0 for marked/blanks\n",
        "value_mapping = {\n",
        "    'Unhealthy': 1,\n",
        "    'N/A': 1,\n",
        "    'Injured': 1,\n",
        "    'Healthy': 0.5,\n",
        "    'DOA': 1,\n",
        "    '': 0  # Blank rows\n",
        "}\n",
        "\n",
        "#Unhealthy\n",
        "#N/A\n",
        "#Injured\n",
        "#Healthy\n",
        "#DOA (<- means dead on arrival)\n",
        "#blanks"
      ],
      "metadata": {
        "id": "UlFV4QwGoQuH"
      },
      "execution_count": null,
      "outputs": []
    },
    {
      "cell_type": "code",
      "source": [
        "# Apply the mapping to the building dataset\n",
        "urban_animal_df['Value'] = urban_animal_df['Animal Condition'].map(value_mapping)"
      ],
      "metadata": {
        "id": "Aqqq16CboRkZ"
      },
      "execution_count": null,
      "outputs": []
    },
    {
      "cell_type": "code",
      "source": [
        "# Calculate vulnerability value for each NTA\n",
        "# Multiply 'Value' by 'FREQUENCY' and group by 'Geography' (NTA name) to sum the values\n",
        "urban_animal_df['Weighted_Value'] = urban_animal_df['Value'] * urban_animal_df['FREQUENCY']\n",
        "\n",
        "# Group by Geography to calculate the total vulnerability value for each NTA\n",
        "vulnerability_df = urban_animal_df.groupby('ntaname')['Weighted_Value'].sum().reset_index()\n",
        "\n",
        "# Merge the vulnerability values back with the NTA dataset to include all NTAs\n",
        "final_df = pd.merge(nta_2020_df[['NTAName']], vulnerability_df, left_on='NTAName', right_on='ntaname', how='left')\n",
        "\n",
        "# Fill any missing vulnerability values with 0 (in case an NTA has no building data)\n",
        "final_df['Weighted_Value'].fillna(0, inplace=True)\n",
        "\n",
        "# Export the final result to Excel\n",
        "final_df.to_excel('Urban_Animal_recalculated_values_nta2020.xlsx', index=False)\n",
        "\n",
        "print(\"Vulnerability values calculated and exported to 'Urban_Animal_recalculated_values_nta2020.xlsx'.\")"
      ],
      "metadata": {
        "colab": {
          "base_uri": "https://localhost:8080/"
        },
        "id": "_a_4gNxuokDp",
        "outputId": "d0e389d5-00b5-419b-a0ed-c871b80f2129"
      },
      "execution_count": null,
      "outputs": [
        {
          "output_type": "stream",
          "name": "stdout",
          "text": [
            "Vulnerability values calculated and exported to 'Urban_Animal_recalculated_values_nta2020.xlsx'.\n"
          ]
        },
        {
          "output_type": "stream",
          "name": "stderr",
          "text": [
            "<ipython-input-20-f358203e92b8>:12: FutureWarning: A value is trying to be set on a copy of a DataFrame or Series through chained assignment using an inplace method.\n",
            "The behavior will change in pandas 3.0. This inplace method will never work because the intermediate object on which we are setting values always behaves as a copy.\n",
            "\n",
            "For example, when doing 'df[col].method(value, inplace=True)', try using 'df.method({col: value}, inplace=True)' or df[col] = df[col].method(value) instead, to perform the operation inplace on the original object.\n",
            "\n",
            "\n",
            "  final_df['Weighted_Value'].fillna(0, inplace=True)\n"
          ]
        }
      ]
    },
    {
      "cell_type": "markdown",
      "source": [
        "#### Park"
      ],
      "metadata": {
        "id": "qvVdgeXoRZxd"
      }
    },
    {
      "cell_type": "code",
      "source": [
        "%cd /content/drive/MyDrive/Thesis/Fall_2024/Data/Datasets/Modified"
      ],
      "metadata": {
        "colab": {
          "base_uri": "https://localhost:8080/"
        },
        "id": "Xbrta8c-Rl8X",
        "outputId": "9580d9c1-088e-47b3-b1f2-ac82433d3fef"
      },
      "execution_count": null,
      "outputs": [
        {
          "output_type": "stream",
          "name": "stdout",
          "text": [
            "/content/drive/MyDrive/Thesis/Fall_2024/Data/Datasets/Modified\n"
          ]
        }
      ]
    },
    {
      "cell_type": "code",
      "source": [
        "park_df = pd.read_excel('park_wild_2020nta_Project_TableToExcel.xlsx')"
      ],
      "metadata": {
        "id": "JSeOKeCGRsrT"
      },
      "execution_count": null,
      "outputs": []
    },
    {
      "cell_type": "code",
      "source": [
        "#  Identify missing NTAs in the building dataset\n",
        "missing_ntas = set(nta_2020_df['NTAName']) - set(park_df['ntaname'])\n",
        "\n",
        "# Create a dataframe to display missing NTAs\n",
        "missing_ntas_df = pd.DataFrame(list(missing_ntas), columns=['Missing_NTAs'])\n",
        "missing_ntas_df.head()"
      ],
      "metadata": {
        "colab": {
          "base_uri": "https://localhost:8080/",
          "height": 206
        },
        "id": "ZL1wpzKiRskp",
        "outputId": "3ee3bc9a-9345-413d-c651-70947dfa4e3e"
      },
      "execution_count": null,
      "outputs": [
        {
          "output_type": "execute_result",
          "data": {
            "text/plain": [
              "                      Missing_NTAs\n",
              "0  Astoria (East)-Woodside (North)\n",
              "1                    South Jamaica\n",
              "2                  Fordham Heights\n",
              "3                 Dyker Beach Park\n",
              "4                   Brighton Beach"
            ],
            "text/html": [
              "\n",
              "  <div id=\"df-51796df3-d426-4afb-aaab-4ad62be343f0\" class=\"colab-df-container\">\n",
              "    <div>\n",
              "<style scoped>\n",
              "    .dataframe tbody tr th:only-of-type {\n",
              "        vertical-align: middle;\n",
              "    }\n",
              "\n",
              "    .dataframe tbody tr th {\n",
              "        vertical-align: top;\n",
              "    }\n",
              "\n",
              "    .dataframe thead th {\n",
              "        text-align: right;\n",
              "    }\n",
              "</style>\n",
              "<table border=\"1\" class=\"dataframe\">\n",
              "  <thead>\n",
              "    <tr style=\"text-align: right;\">\n",
              "      <th></th>\n",
              "      <th>Missing_NTAs</th>\n",
              "    </tr>\n",
              "  </thead>\n",
              "  <tbody>\n",
              "    <tr>\n",
              "      <th>0</th>\n",
              "      <td>Astoria (East)-Woodside (North)</td>\n",
              "    </tr>\n",
              "    <tr>\n",
              "      <th>1</th>\n",
              "      <td>South Jamaica</td>\n",
              "    </tr>\n",
              "    <tr>\n",
              "      <th>2</th>\n",
              "      <td>Fordham Heights</td>\n",
              "    </tr>\n",
              "    <tr>\n",
              "      <th>3</th>\n",
              "      <td>Dyker Beach Park</td>\n",
              "    </tr>\n",
              "    <tr>\n",
              "      <th>4</th>\n",
              "      <td>Brighton Beach</td>\n",
              "    </tr>\n",
              "  </tbody>\n",
              "</table>\n",
              "</div>\n",
              "    <div class=\"colab-df-buttons\">\n",
              "\n",
              "  <div class=\"colab-df-container\">\n",
              "    <button class=\"colab-df-convert\" onclick=\"convertToInteractive('df-51796df3-d426-4afb-aaab-4ad62be343f0')\"\n",
              "            title=\"Convert this dataframe to an interactive table.\"\n",
              "            style=\"display:none;\">\n",
              "\n",
              "  <svg xmlns=\"http://www.w3.org/2000/svg\" height=\"24px\" viewBox=\"0 -960 960 960\">\n",
              "    <path d=\"M120-120v-720h720v720H120Zm60-500h600v-160H180v160Zm220 220h160v-160H400v160Zm0 220h160v-160H400v160ZM180-400h160v-160H180v160Zm440 0h160v-160H620v160ZM180-180h160v-160H180v160Zm440 0h160v-160H620v160Z\"/>\n",
              "  </svg>\n",
              "    </button>\n",
              "\n",
              "  <style>\n",
              "    .colab-df-container {\n",
              "      display:flex;\n",
              "      gap: 12px;\n",
              "    }\n",
              "\n",
              "    .colab-df-convert {\n",
              "      background-color: #E8F0FE;\n",
              "      border: none;\n",
              "      border-radius: 50%;\n",
              "      cursor: pointer;\n",
              "      display: none;\n",
              "      fill: #1967D2;\n",
              "      height: 32px;\n",
              "      padding: 0 0 0 0;\n",
              "      width: 32px;\n",
              "    }\n",
              "\n",
              "    .colab-df-convert:hover {\n",
              "      background-color: #E2EBFA;\n",
              "      box-shadow: 0px 1px 2px rgba(60, 64, 67, 0.3), 0px 1px 3px 1px rgba(60, 64, 67, 0.15);\n",
              "      fill: #174EA6;\n",
              "    }\n",
              "\n",
              "    .colab-df-buttons div {\n",
              "      margin-bottom: 4px;\n",
              "    }\n",
              "\n",
              "    [theme=dark] .colab-df-convert {\n",
              "      background-color: #3B4455;\n",
              "      fill: #D2E3FC;\n",
              "    }\n",
              "\n",
              "    [theme=dark] .colab-df-convert:hover {\n",
              "      background-color: #434B5C;\n",
              "      box-shadow: 0px 1px 3px 1px rgba(0, 0, 0, 0.15);\n",
              "      filter: drop-shadow(0px 1px 2px rgba(0, 0, 0, 0.3));\n",
              "      fill: #FFFFFF;\n",
              "    }\n",
              "  </style>\n",
              "\n",
              "    <script>\n",
              "      const buttonEl =\n",
              "        document.querySelector('#df-51796df3-d426-4afb-aaab-4ad62be343f0 button.colab-df-convert');\n",
              "      buttonEl.style.display =\n",
              "        google.colab.kernel.accessAllowed ? 'block' : 'none';\n",
              "\n",
              "      async function convertToInteractive(key) {\n",
              "        const element = document.querySelector('#df-51796df3-d426-4afb-aaab-4ad62be343f0');\n",
              "        const dataTable =\n",
              "          await google.colab.kernel.invokeFunction('convertToInteractive',\n",
              "                                                    [key], {});\n",
              "        if (!dataTable) return;\n",
              "\n",
              "        const docLinkHtml = 'Like what you see? Visit the ' +\n",
              "          '<a target=\"_blank\" href=https://colab.research.google.com/notebooks/data_table.ipynb>data table notebook</a>'\n",
              "          + ' to learn more about interactive tables.';\n",
              "        element.innerHTML = '';\n",
              "        dataTable['output_type'] = 'display_data';\n",
              "        await google.colab.output.renderOutput(dataTable, element);\n",
              "        const docLink = document.createElement('div');\n",
              "        docLink.innerHTML = docLinkHtml;\n",
              "        element.appendChild(docLink);\n",
              "      }\n",
              "    </script>\n",
              "  </div>\n",
              "\n",
              "\n",
              "<div id=\"df-f39a2494-6745-49e6-ab3c-5329ce67906f\">\n",
              "  <button class=\"colab-df-quickchart\" onclick=\"quickchart('df-f39a2494-6745-49e6-ab3c-5329ce67906f')\"\n",
              "            title=\"Suggest charts\"\n",
              "            style=\"display:none;\">\n",
              "\n",
              "<svg xmlns=\"http://www.w3.org/2000/svg\" height=\"24px\"viewBox=\"0 0 24 24\"\n",
              "     width=\"24px\">\n",
              "    <g>\n",
              "        <path d=\"M19 3H5c-1.1 0-2 .9-2 2v14c0 1.1.9 2 2 2h14c1.1 0 2-.9 2-2V5c0-1.1-.9-2-2-2zM9 17H7v-7h2v7zm4 0h-2V7h2v10zm4 0h-2v-4h2v4z\"/>\n",
              "    </g>\n",
              "</svg>\n",
              "  </button>\n",
              "\n",
              "<style>\n",
              "  .colab-df-quickchart {\n",
              "      --bg-color: #E8F0FE;\n",
              "      --fill-color: #1967D2;\n",
              "      --hover-bg-color: #E2EBFA;\n",
              "      --hover-fill-color: #174EA6;\n",
              "      --disabled-fill-color: #AAA;\n",
              "      --disabled-bg-color: #DDD;\n",
              "  }\n",
              "\n",
              "  [theme=dark] .colab-df-quickchart {\n",
              "      --bg-color: #3B4455;\n",
              "      --fill-color: #D2E3FC;\n",
              "      --hover-bg-color: #434B5C;\n",
              "      --hover-fill-color: #FFFFFF;\n",
              "      --disabled-bg-color: #3B4455;\n",
              "      --disabled-fill-color: #666;\n",
              "  }\n",
              "\n",
              "  .colab-df-quickchart {\n",
              "    background-color: var(--bg-color);\n",
              "    border: none;\n",
              "    border-radius: 50%;\n",
              "    cursor: pointer;\n",
              "    display: none;\n",
              "    fill: var(--fill-color);\n",
              "    height: 32px;\n",
              "    padding: 0;\n",
              "    width: 32px;\n",
              "  }\n",
              "\n",
              "  .colab-df-quickchart:hover {\n",
              "    background-color: var(--hover-bg-color);\n",
              "    box-shadow: 0 1px 2px rgba(60, 64, 67, 0.3), 0 1px 3px 1px rgba(60, 64, 67, 0.15);\n",
              "    fill: var(--button-hover-fill-color);\n",
              "  }\n",
              "\n",
              "  .colab-df-quickchart-complete:disabled,\n",
              "  .colab-df-quickchart-complete:disabled:hover {\n",
              "    background-color: var(--disabled-bg-color);\n",
              "    fill: var(--disabled-fill-color);\n",
              "    box-shadow: none;\n",
              "  }\n",
              "\n",
              "  .colab-df-spinner {\n",
              "    border: 2px solid var(--fill-color);\n",
              "    border-color: transparent;\n",
              "    border-bottom-color: var(--fill-color);\n",
              "    animation:\n",
              "      spin 1s steps(1) infinite;\n",
              "  }\n",
              "\n",
              "  @keyframes spin {\n",
              "    0% {\n",
              "      border-color: transparent;\n",
              "      border-bottom-color: var(--fill-color);\n",
              "      border-left-color: var(--fill-color);\n",
              "    }\n",
              "    20% {\n",
              "      border-color: transparent;\n",
              "      border-left-color: var(--fill-color);\n",
              "      border-top-color: var(--fill-color);\n",
              "    }\n",
              "    30% {\n",
              "      border-color: transparent;\n",
              "      border-left-color: var(--fill-color);\n",
              "      border-top-color: var(--fill-color);\n",
              "      border-right-color: var(--fill-color);\n",
              "    }\n",
              "    40% {\n",
              "      border-color: transparent;\n",
              "      border-right-color: var(--fill-color);\n",
              "      border-top-color: var(--fill-color);\n",
              "    }\n",
              "    60% {\n",
              "      border-color: transparent;\n",
              "      border-right-color: var(--fill-color);\n",
              "    }\n",
              "    80% {\n",
              "      border-color: transparent;\n",
              "      border-right-color: var(--fill-color);\n",
              "      border-bottom-color: var(--fill-color);\n",
              "    }\n",
              "    90% {\n",
              "      border-color: transparent;\n",
              "      border-bottom-color: var(--fill-color);\n",
              "    }\n",
              "  }\n",
              "</style>\n",
              "\n",
              "  <script>\n",
              "    async function quickchart(key) {\n",
              "      const quickchartButtonEl =\n",
              "        document.querySelector('#' + key + ' button');\n",
              "      quickchartButtonEl.disabled = true;  // To prevent multiple clicks.\n",
              "      quickchartButtonEl.classList.add('colab-df-spinner');\n",
              "      try {\n",
              "        const charts = await google.colab.kernel.invokeFunction(\n",
              "            'suggestCharts', [key], {});\n",
              "      } catch (error) {\n",
              "        console.error('Error during call to suggestCharts:', error);\n",
              "      }\n",
              "      quickchartButtonEl.classList.remove('colab-df-spinner');\n",
              "      quickchartButtonEl.classList.add('colab-df-quickchart-complete');\n",
              "    }\n",
              "    (() => {\n",
              "      let quickchartButtonEl =\n",
              "        document.querySelector('#df-f39a2494-6745-49e6-ab3c-5329ce67906f button');\n",
              "      quickchartButtonEl.style.display =\n",
              "        google.colab.kernel.accessAllowed ? 'block' : 'none';\n",
              "    })();\n",
              "  </script>\n",
              "</div>\n",
              "\n",
              "    </div>\n",
              "  </div>\n"
            ],
            "application/vnd.google.colaboratory.intrinsic+json": {
              "type": "dataframe",
              "variable_name": "missing_ntas_df",
              "summary": "{\n  \"name\": \"missing_ntas_df\",\n  \"rows\": 204,\n  \"fields\": [\n    {\n      \"column\": \"Missing_NTAs\",\n      \"properties\": {\n        \"dtype\": \"string\",\n        \"num_unique_values\": 204,\n        \"samples\": [\n          \"Park Slope\",\n          \"Clinton Hill\",\n          \"Tremont\"\n        ],\n        \"semantic_type\": \"\",\n        \"description\": \"\"\n      }\n    }\n  ]\n}"
            }
          },
          "metadata": {},
          "execution_count": 7
        }
      ]
    },
    {
      "cell_type": "code",
      "source": [
        "import pandas as pd\n",
        "\n",
        "# Sum the park areas within each NTA\n",
        "park_area_sum_df = park_df.groupby('ntaname').agg(\n",
        "    total_park_area=('Shape_Area', 'sum'),\n",
        "    nta_area=('Shape_Area_nta', 'first')  # Assuming 'Shape_Area_nta' is the same for all rows in the same NTA\n",
        ").reset_index()"
      ],
      "metadata": {
        "id": "dlI23TBcRsJr"
      },
      "execution_count": null,
      "outputs": []
    },
    {
      "cell_type": "code",
      "source": [
        "# Merge the total park area and nta_area with the NTA dataset\n",
        "final_df = pd.merge(nta_2020_df[['NTAName']], park_area_sum_df, left_on='NTAName', right_on='ntaname', how='left')\n",
        "\n",
        "# Fill any missing total park areas with 0 (if an NTA has no parks listed in the park dataset)\n",
        "final_df['total_park_area'].fillna(0, inplace=True)\n",
        "\n",
        "#  Export the results to an Excel file\n",
        "final_df.to_excel('nta_park_area_summary.xlsx', index=False)\n",
        "\n",
        "print(\"Park area summaries calculated and exported to 'nta_park_area_summary.xlsx'.\")"
      ],
      "metadata": {
        "colab": {
          "base_uri": "https://localhost:8080/"
        },
        "id": "ZqymgUYJRrzI",
        "outputId": "9b5abda9-761e-45bb-fc1e-91f8d1830fbd"
      },
      "execution_count": null,
      "outputs": [
        {
          "output_type": "stream",
          "name": "stdout",
          "text": [
            "Park area summaries calculated and exported to 'nta_park_area_summary.xlsx'.\n"
          ]
        },
        {
          "output_type": "stream",
          "name": "stderr",
          "text": [
            "<ipython-input-9-03eb4e38bdd7>:5: FutureWarning: A value is trying to be set on a copy of a DataFrame or Series through chained assignment using an inplace method.\n",
            "The behavior will change in pandas 3.0. This inplace method will never work because the intermediate object on which we are setting values always behaves as a copy.\n",
            "\n",
            "For example, when doing 'df[col].method(value, inplace=True)', try using 'df.method({col: value}, inplace=True)' or df[col] = df[col].method(value) instead, to perform the operation inplace on the original object.\n",
            "\n",
            "\n",
            "  final_df['total_park_area'].fillna(0, inplace=True)\n"
          ]
        }
      ]
    },
    {
      "cell_type": "markdown",
      "source": [
        "#### Cooling sites"
      ],
      "metadata": {
        "id": "qawvBL13h-iM"
      }
    },
    {
      "cell_type": "code",
      "source": [
        "coolingsites_df = pd.read_excel('Cool_It__NYC_2020_Statistics2_TableToExcel.xlsx')"
      ],
      "metadata": {
        "id": "XzWzbiPpiDU6"
      },
      "execution_count": null,
      "outputs": []
    },
    {
      "cell_type": "code",
      "source": [
        "# Identify missing NTAs in the building dataset\n",
        "missing_ntas = set(nta_2020_df['NTAName']) - set(coolingsites_df['ntaname'])\n",
        "\n",
        "# Create a dataframe to display missing NTAs\n",
        "missing_ntas_df = pd.DataFrame(list(missing_ntas), columns=['Missing_NTAs'])\n",
        "missing_ntas_df.head()"
      ],
      "metadata": {
        "colab": {
          "base_uri": "https://localhost:8080/",
          "height": 206
        },
        "id": "DE-2O5jniDBg",
        "outputId": "0ccb7358-c859-4fd0-f64f-0e98973351b7"
      },
      "execution_count": null,
      "outputs": [
        {
          "output_type": "execute_result",
          "data": {
            "text/plain": [
              "              Missing_NTAs\n",
              "0  St. George-New Brighton\n",
              "1                Sunnyside\n",
              "2        Spring Creek Park\n",
              "3             Astoria Park\n",
              "4      South Richmond Hill"
            ],
            "text/html": [
              "\n",
              "  <div id=\"df-f7092cdd-c08f-4b35-9f24-3ef38336fae9\" class=\"colab-df-container\">\n",
              "    <div>\n",
              "<style scoped>\n",
              "    .dataframe tbody tr th:only-of-type {\n",
              "        vertical-align: middle;\n",
              "    }\n",
              "\n",
              "    .dataframe tbody tr th {\n",
              "        vertical-align: top;\n",
              "    }\n",
              "\n",
              "    .dataframe thead th {\n",
              "        text-align: right;\n",
              "    }\n",
              "</style>\n",
              "<table border=\"1\" class=\"dataframe\">\n",
              "  <thead>\n",
              "    <tr style=\"text-align: right;\">\n",
              "      <th></th>\n",
              "      <th>Missing_NTAs</th>\n",
              "    </tr>\n",
              "  </thead>\n",
              "  <tbody>\n",
              "    <tr>\n",
              "      <th>0</th>\n",
              "      <td>St. George-New Brighton</td>\n",
              "    </tr>\n",
              "    <tr>\n",
              "      <th>1</th>\n",
              "      <td>Sunnyside</td>\n",
              "    </tr>\n",
              "    <tr>\n",
              "      <th>2</th>\n",
              "      <td>Spring Creek Park</td>\n",
              "    </tr>\n",
              "    <tr>\n",
              "      <th>3</th>\n",
              "      <td>Astoria Park</td>\n",
              "    </tr>\n",
              "    <tr>\n",
              "      <th>4</th>\n",
              "      <td>South Richmond Hill</td>\n",
              "    </tr>\n",
              "  </tbody>\n",
              "</table>\n",
              "</div>\n",
              "    <div class=\"colab-df-buttons\">\n",
              "\n",
              "  <div class=\"colab-df-container\">\n",
              "    <button class=\"colab-df-convert\" onclick=\"convertToInteractive('df-f7092cdd-c08f-4b35-9f24-3ef38336fae9')\"\n",
              "            title=\"Convert this dataframe to an interactive table.\"\n",
              "            style=\"display:none;\">\n",
              "\n",
              "  <svg xmlns=\"http://www.w3.org/2000/svg\" height=\"24px\" viewBox=\"0 -960 960 960\">\n",
              "    <path d=\"M120-120v-720h720v720H120Zm60-500h600v-160H180v160Zm220 220h160v-160H400v160Zm0 220h160v-160H400v160ZM180-400h160v-160H180v160Zm440 0h160v-160H620v160ZM180-180h160v-160H180v160Zm440 0h160v-160H620v160Z\"/>\n",
              "  </svg>\n",
              "    </button>\n",
              "\n",
              "  <style>\n",
              "    .colab-df-container {\n",
              "      display:flex;\n",
              "      gap: 12px;\n",
              "    }\n",
              "\n",
              "    .colab-df-convert {\n",
              "      background-color: #E8F0FE;\n",
              "      border: none;\n",
              "      border-radius: 50%;\n",
              "      cursor: pointer;\n",
              "      display: none;\n",
              "      fill: #1967D2;\n",
              "      height: 32px;\n",
              "      padding: 0 0 0 0;\n",
              "      width: 32px;\n",
              "    }\n",
              "\n",
              "    .colab-df-convert:hover {\n",
              "      background-color: #E2EBFA;\n",
              "      box-shadow: 0px 1px 2px rgba(60, 64, 67, 0.3), 0px 1px 3px 1px rgba(60, 64, 67, 0.15);\n",
              "      fill: #174EA6;\n",
              "    }\n",
              "\n",
              "    .colab-df-buttons div {\n",
              "      margin-bottom: 4px;\n",
              "    }\n",
              "\n",
              "    [theme=dark] .colab-df-convert {\n",
              "      background-color: #3B4455;\n",
              "      fill: #D2E3FC;\n",
              "    }\n",
              "\n",
              "    [theme=dark] .colab-df-convert:hover {\n",
              "      background-color: #434B5C;\n",
              "      box-shadow: 0px 1px 3px 1px rgba(0, 0, 0, 0.15);\n",
              "      filter: drop-shadow(0px 1px 2px rgba(0, 0, 0, 0.3));\n",
              "      fill: #FFFFFF;\n",
              "    }\n",
              "  </style>\n",
              "\n",
              "    <script>\n",
              "      const buttonEl =\n",
              "        document.querySelector('#df-f7092cdd-c08f-4b35-9f24-3ef38336fae9 button.colab-df-convert');\n",
              "      buttonEl.style.display =\n",
              "        google.colab.kernel.accessAllowed ? 'block' : 'none';\n",
              "\n",
              "      async function convertToInteractive(key) {\n",
              "        const element = document.querySelector('#df-f7092cdd-c08f-4b35-9f24-3ef38336fae9');\n",
              "        const dataTable =\n",
              "          await google.colab.kernel.invokeFunction('convertToInteractive',\n",
              "                                                    [key], {});\n",
              "        if (!dataTable) return;\n",
              "\n",
              "        const docLinkHtml = 'Like what you see? Visit the ' +\n",
              "          '<a target=\"_blank\" href=https://colab.research.google.com/notebooks/data_table.ipynb>data table notebook</a>'\n",
              "          + ' to learn more about interactive tables.';\n",
              "        element.innerHTML = '';\n",
              "        dataTable['output_type'] = 'display_data';\n",
              "        await google.colab.output.renderOutput(dataTable, element);\n",
              "        const docLink = document.createElement('div');\n",
              "        docLink.innerHTML = docLinkHtml;\n",
              "        element.appendChild(docLink);\n",
              "      }\n",
              "    </script>\n",
              "  </div>\n",
              "\n",
              "\n",
              "<div id=\"df-04177192-917a-4693-823b-d0ddc9c00571\">\n",
              "  <button class=\"colab-df-quickchart\" onclick=\"quickchart('df-04177192-917a-4693-823b-d0ddc9c00571')\"\n",
              "            title=\"Suggest charts\"\n",
              "            style=\"display:none;\">\n",
              "\n",
              "<svg xmlns=\"http://www.w3.org/2000/svg\" height=\"24px\"viewBox=\"0 0 24 24\"\n",
              "     width=\"24px\">\n",
              "    <g>\n",
              "        <path d=\"M19 3H5c-1.1 0-2 .9-2 2v14c0 1.1.9 2 2 2h14c1.1 0 2-.9 2-2V5c0-1.1-.9-2-2-2zM9 17H7v-7h2v7zm4 0h-2V7h2v10zm4 0h-2v-4h2v4z\"/>\n",
              "    </g>\n",
              "</svg>\n",
              "  </button>\n",
              "\n",
              "<style>\n",
              "  .colab-df-quickchart {\n",
              "      --bg-color: #E8F0FE;\n",
              "      --fill-color: #1967D2;\n",
              "      --hover-bg-color: #E2EBFA;\n",
              "      --hover-fill-color: #174EA6;\n",
              "      --disabled-fill-color: #AAA;\n",
              "      --disabled-bg-color: #DDD;\n",
              "  }\n",
              "\n",
              "  [theme=dark] .colab-df-quickchart {\n",
              "      --bg-color: #3B4455;\n",
              "      --fill-color: #D2E3FC;\n",
              "      --hover-bg-color: #434B5C;\n",
              "      --hover-fill-color: #FFFFFF;\n",
              "      --disabled-bg-color: #3B4455;\n",
              "      --disabled-fill-color: #666;\n",
              "  }\n",
              "\n",
              "  .colab-df-quickchart {\n",
              "    background-color: var(--bg-color);\n",
              "    border: none;\n",
              "    border-radius: 50%;\n",
              "    cursor: pointer;\n",
              "    display: none;\n",
              "    fill: var(--fill-color);\n",
              "    height: 32px;\n",
              "    padding: 0;\n",
              "    width: 32px;\n",
              "  }\n",
              "\n",
              "  .colab-df-quickchart:hover {\n",
              "    background-color: var(--hover-bg-color);\n",
              "    box-shadow: 0 1px 2px rgba(60, 64, 67, 0.3), 0 1px 3px 1px rgba(60, 64, 67, 0.15);\n",
              "    fill: var(--button-hover-fill-color);\n",
              "  }\n",
              "\n",
              "  .colab-df-quickchart-complete:disabled,\n",
              "  .colab-df-quickchart-complete:disabled:hover {\n",
              "    background-color: var(--disabled-bg-color);\n",
              "    fill: var(--disabled-fill-color);\n",
              "    box-shadow: none;\n",
              "  }\n",
              "\n",
              "  .colab-df-spinner {\n",
              "    border: 2px solid var(--fill-color);\n",
              "    border-color: transparent;\n",
              "    border-bottom-color: var(--fill-color);\n",
              "    animation:\n",
              "      spin 1s steps(1) infinite;\n",
              "  }\n",
              "\n",
              "  @keyframes spin {\n",
              "    0% {\n",
              "      border-color: transparent;\n",
              "      border-bottom-color: var(--fill-color);\n",
              "      border-left-color: var(--fill-color);\n",
              "    }\n",
              "    20% {\n",
              "      border-color: transparent;\n",
              "      border-left-color: var(--fill-color);\n",
              "      border-top-color: var(--fill-color);\n",
              "    }\n",
              "    30% {\n",
              "      border-color: transparent;\n",
              "      border-left-color: var(--fill-color);\n",
              "      border-top-color: var(--fill-color);\n",
              "      border-right-color: var(--fill-color);\n",
              "    }\n",
              "    40% {\n",
              "      border-color: transparent;\n",
              "      border-right-color: var(--fill-color);\n",
              "      border-top-color: var(--fill-color);\n",
              "    }\n",
              "    60% {\n",
              "      border-color: transparent;\n",
              "      border-right-color: var(--fill-color);\n",
              "    }\n",
              "    80% {\n",
              "      border-color: transparent;\n",
              "      border-right-color: var(--fill-color);\n",
              "      border-bottom-color: var(--fill-color);\n",
              "    }\n",
              "    90% {\n",
              "      border-color: transparent;\n",
              "      border-bottom-color: var(--fill-color);\n",
              "    }\n",
              "  }\n",
              "</style>\n",
              "\n",
              "  <script>\n",
              "    async function quickchart(key) {\n",
              "      const quickchartButtonEl =\n",
              "        document.querySelector('#' + key + ' button');\n",
              "      quickchartButtonEl.disabled = true;  // To prevent multiple clicks.\n",
              "      quickchartButtonEl.classList.add('colab-df-spinner');\n",
              "      try {\n",
              "        const charts = await google.colab.kernel.invokeFunction(\n",
              "            'suggestCharts', [key], {});\n",
              "      } catch (error) {\n",
              "        console.error('Error during call to suggestCharts:', error);\n",
              "      }\n",
              "      quickchartButtonEl.classList.remove('colab-df-spinner');\n",
              "      quickchartButtonEl.classList.add('colab-df-quickchart-complete');\n",
              "    }\n",
              "    (() => {\n",
              "      let quickchartButtonEl =\n",
              "        document.querySelector('#df-04177192-917a-4693-823b-d0ddc9c00571 button');\n",
              "      quickchartButtonEl.style.display =\n",
              "        google.colab.kernel.accessAllowed ? 'block' : 'none';\n",
              "    })();\n",
              "  </script>\n",
              "</div>\n",
              "\n",
              "    </div>\n",
              "  </div>\n"
            ],
            "application/vnd.google.colaboratory.intrinsic+json": {
              "type": "dataframe",
              "variable_name": "missing_ntas_df",
              "summary": "{\n  \"name\": \"missing_ntas_df\",\n  \"rows\": 182,\n  \"fields\": [\n    {\n      \"column\": \"Missing_NTAs\",\n      \"properties\": {\n        \"dtype\": \"string\",\n        \"num_unique_values\": 182,\n        \"samples\": [\n          \"Prospect Lefferts Gardens-Wingate\",\n          \"Brooklyn Navy Yard\",\n          \"Kew Gardens Hills\"\n        ],\n        \"semantic_type\": \"\",\n        \"description\": \"\"\n      }\n    }\n  ]\n}"
            }
          },
          "metadata": {},
          "execution_count": 30
        }
      ]
    },
    {
      "cell_type": "code",
      "source": [
        "#  Assign values to LSTSTATYPE\n",
        "# Define the mapping: 1 for constructed/permitted/under construction, 0 for marked/blanks\n",
        "value_mapping = {\n",
        "    'Activated': 1,\n",
        "    'Broken': 0.25,\n",
        "    'Not Yet Activated': 0.75,\n",
        "    '': 0  # Blank rows\n",
        "}\n",
        "\n",
        "#Activated\n",
        "#Broken\n",
        "#NotYetActivated\n",
        "#UnderConstruction"
      ],
      "metadata": {
        "id": "pytxoraQiCrz"
      },
      "execution_count": null,
      "outputs": []
    },
    {
      "cell_type": "code",
      "source": [
        "# Apply the mapping to the building dataset\n",
        "coolingsites_df['Value'] = coolingsites_df['Status'].map(value_mapping)"
      ],
      "metadata": {
        "id": "4k079TQiiCTK"
      },
      "execution_count": null,
      "outputs": []
    },
    {
      "cell_type": "code",
      "source": [
        "#  Calculate vulnerability value for each NTA\n",
        "# Multiply 'Value' by 'FREQUENCY' and group by 'Geography' (NTA name) to sum the values\n",
        "coolingsites_df['Weighted_Value'] = coolingsites_df['Value'] * coolingsites_df['FREQUENCY']\n",
        "\n",
        "# Group by Geography to calculate the total vulnerability value for each NTA\n",
        "vulnerability_df = coolingsites_df.groupby('ntaname')['Weighted_Value'].sum().reset_index()\n",
        "\n",
        "# Merge the vulnerability values back with the NTA dataset to include all NTAs\n",
        "final_df = pd.merge(nta_2020_df[['NTAName']], vulnerability_df, left_on='NTAName', right_on='ntaname', how='left')\n",
        "\n",
        "# Fill any missing vulnerability values with 0 (in case an NTA has no building data)\n",
        "final_df['Weighted_Value'].fillna(0, inplace=True)\n",
        "\n",
        "#  Export the final result to Excel\n",
        "final_df.to_excel('Coolingsites_recalculated_values_nta2020.xlsx', index=False)\n",
        "\n",
        "print(\"Vulnerability values calculated and exported to 'Coolingsites_recalculated_values_nta2020.xlsx'.\")"
      ],
      "metadata": {
        "colab": {
          "base_uri": "https://localhost:8080/"
        },
        "id": "iVTy8E_KjLuT",
        "outputId": "1caf1a3e-fd48-4386-e852-ae7c9dd60686"
      },
      "execution_count": null,
      "outputs": [
        {
          "output_type": "stream",
          "name": "stdout",
          "text": [
            "Vulnerability values calculated and exported to 'Coolingsites_recalculated_values_nta2020.xlsx'.\n"
          ]
        },
        {
          "output_type": "stream",
          "name": "stderr",
          "text": [
            "<ipython-input-34-56156decc7f6>:12: FutureWarning: A value is trying to be set on a copy of a DataFrame or Series through chained assignment using an inplace method.\n",
            "The behavior will change in pandas 3.0. This inplace method will never work because the intermediate object on which we are setting values always behaves as a copy.\n",
            "\n",
            "For example, when doing 'df[col].method(value, inplace=True)', try using 'df.method({col: value}, inplace=True)' or df[col] = df[col].method(value) instead, to perform the operation inplace on the original object.\n",
            "\n",
            "\n",
            "  final_df['Weighted_Value'].fillna(0, inplace=True)\n"
          ]
        }
      ]
    },
    {
      "cell_type": "markdown",
      "source": [
        "#### Drinking Fountains"
      ],
      "metadata": {
        "id": "Jh3iGBk_cn_i"
      }
    },
    {
      "cell_type": "code",
      "source": [
        "drinkingfountain_df = pd.read_excel('Cool_It__NYC_2020_DrinkingFountain_Statistics_TableToExcel.xlsx')"
      ],
      "metadata": {
        "id": "dKDF_xSfcrlQ"
      },
      "execution_count": null,
      "outputs": []
    },
    {
      "cell_type": "code",
      "source": [
        "# Identify missing NTAs in the building dataset\n",
        "missing_ntas = set(nta_2020_df['NTAName']) - set(drinkingfountain_df['ntaname'])\n",
        "\n",
        "# Create a dataframe to display missing NTAs\n",
        "missing_ntas_df = pd.DataFrame(list(missing_ntas), columns=['Missing_NTAs'])\n",
        "missing_ntas_df.head()"
      ],
      "metadata": {
        "colab": {
          "base_uri": "https://localhost:8080/",
          "height": 206
        },
        "id": "z9xeWLlQcrPc",
        "outputId": "8996aeb6-5dfe-4529-b0cd-d2df09f0cf3d"
      },
      "execution_count": null,
      "outputs": [
        {
          "output_type": "execute_result",
          "data": {
            "text/plain": [
              "                        Missing_NTAs\n",
              "0            Middle Village Cemetery\n",
              "1        Shirley Chisholm State Park\n",
              "2                  Spring Creek Park\n",
              "3  Barren Island-Floyd Bennett Field\n",
              "4                      Richmond Hill"
            ],
            "text/html": [
              "\n",
              "  <div id=\"df-bd2aac44-c37d-4809-96b4-19b7c3737b62\" class=\"colab-df-container\">\n",
              "    <div>\n",
              "<style scoped>\n",
              "    .dataframe tbody tr th:only-of-type {\n",
              "        vertical-align: middle;\n",
              "    }\n",
              "\n",
              "    .dataframe tbody tr th {\n",
              "        vertical-align: top;\n",
              "    }\n",
              "\n",
              "    .dataframe thead th {\n",
              "        text-align: right;\n",
              "    }\n",
              "</style>\n",
              "<table border=\"1\" class=\"dataframe\">\n",
              "  <thead>\n",
              "    <tr style=\"text-align: right;\">\n",
              "      <th></th>\n",
              "      <th>Missing_NTAs</th>\n",
              "    </tr>\n",
              "  </thead>\n",
              "  <tbody>\n",
              "    <tr>\n",
              "      <th>0</th>\n",
              "      <td>Middle Village Cemetery</td>\n",
              "    </tr>\n",
              "    <tr>\n",
              "      <th>1</th>\n",
              "      <td>Shirley Chisholm State Park</td>\n",
              "    </tr>\n",
              "    <tr>\n",
              "      <th>2</th>\n",
              "      <td>Spring Creek Park</td>\n",
              "    </tr>\n",
              "    <tr>\n",
              "      <th>3</th>\n",
              "      <td>Barren Island-Floyd Bennett Field</td>\n",
              "    </tr>\n",
              "    <tr>\n",
              "      <th>4</th>\n",
              "      <td>Richmond Hill</td>\n",
              "    </tr>\n",
              "  </tbody>\n",
              "</table>\n",
              "</div>\n",
              "    <div class=\"colab-df-buttons\">\n",
              "\n",
              "  <div class=\"colab-df-container\">\n",
              "    <button class=\"colab-df-convert\" onclick=\"convertToInteractive('df-bd2aac44-c37d-4809-96b4-19b7c3737b62')\"\n",
              "            title=\"Convert this dataframe to an interactive table.\"\n",
              "            style=\"display:none;\">\n",
              "\n",
              "  <svg xmlns=\"http://www.w3.org/2000/svg\" height=\"24px\" viewBox=\"0 -960 960 960\">\n",
              "    <path d=\"M120-120v-720h720v720H120Zm60-500h600v-160H180v160Zm220 220h160v-160H400v160Zm0 220h160v-160H400v160ZM180-400h160v-160H180v160Zm440 0h160v-160H620v160ZM180-180h160v-160H180v160Zm440 0h160v-160H620v160Z\"/>\n",
              "  </svg>\n",
              "    </button>\n",
              "\n",
              "  <style>\n",
              "    .colab-df-container {\n",
              "      display:flex;\n",
              "      gap: 12px;\n",
              "    }\n",
              "\n",
              "    .colab-df-convert {\n",
              "      background-color: #E8F0FE;\n",
              "      border: none;\n",
              "      border-radius: 50%;\n",
              "      cursor: pointer;\n",
              "      display: none;\n",
              "      fill: #1967D2;\n",
              "      height: 32px;\n",
              "      padding: 0 0 0 0;\n",
              "      width: 32px;\n",
              "    }\n",
              "\n",
              "    .colab-df-convert:hover {\n",
              "      background-color: #E2EBFA;\n",
              "      box-shadow: 0px 1px 2px rgba(60, 64, 67, 0.3), 0px 1px 3px 1px rgba(60, 64, 67, 0.15);\n",
              "      fill: #174EA6;\n",
              "    }\n",
              "\n",
              "    .colab-df-buttons div {\n",
              "      margin-bottom: 4px;\n",
              "    }\n",
              "\n",
              "    [theme=dark] .colab-df-convert {\n",
              "      background-color: #3B4455;\n",
              "      fill: #D2E3FC;\n",
              "    }\n",
              "\n",
              "    [theme=dark] .colab-df-convert:hover {\n",
              "      background-color: #434B5C;\n",
              "      box-shadow: 0px 1px 3px 1px rgba(0, 0, 0, 0.15);\n",
              "      filter: drop-shadow(0px 1px 2px rgba(0, 0, 0, 0.3));\n",
              "      fill: #FFFFFF;\n",
              "    }\n",
              "  </style>\n",
              "\n",
              "    <script>\n",
              "      const buttonEl =\n",
              "        document.querySelector('#df-bd2aac44-c37d-4809-96b4-19b7c3737b62 button.colab-df-convert');\n",
              "      buttonEl.style.display =\n",
              "        google.colab.kernel.accessAllowed ? 'block' : 'none';\n",
              "\n",
              "      async function convertToInteractive(key) {\n",
              "        const element = document.querySelector('#df-bd2aac44-c37d-4809-96b4-19b7c3737b62');\n",
              "        const dataTable =\n",
              "          await google.colab.kernel.invokeFunction('convertToInteractive',\n",
              "                                                    [key], {});\n",
              "        if (!dataTable) return;\n",
              "\n",
              "        const docLinkHtml = 'Like what you see? Visit the ' +\n",
              "          '<a target=\"_blank\" href=https://colab.research.google.com/notebooks/data_table.ipynb>data table notebook</a>'\n",
              "          + ' to learn more about interactive tables.';\n",
              "        element.innerHTML = '';\n",
              "        dataTable['output_type'] = 'display_data';\n",
              "        await google.colab.output.renderOutput(dataTable, element);\n",
              "        const docLink = document.createElement('div');\n",
              "        docLink.innerHTML = docLinkHtml;\n",
              "        element.appendChild(docLink);\n",
              "      }\n",
              "    </script>\n",
              "  </div>\n",
              "\n",
              "\n",
              "<div id=\"df-1e46d03c-8f85-4bd5-966e-23e293a5cabe\">\n",
              "  <button class=\"colab-df-quickchart\" onclick=\"quickchart('df-1e46d03c-8f85-4bd5-966e-23e293a5cabe')\"\n",
              "            title=\"Suggest charts\"\n",
              "            style=\"display:none;\">\n",
              "\n",
              "<svg xmlns=\"http://www.w3.org/2000/svg\" height=\"24px\"viewBox=\"0 0 24 24\"\n",
              "     width=\"24px\">\n",
              "    <g>\n",
              "        <path d=\"M19 3H5c-1.1 0-2 .9-2 2v14c0 1.1.9 2 2 2h14c1.1 0 2-.9 2-2V5c0-1.1-.9-2-2-2zM9 17H7v-7h2v7zm4 0h-2V7h2v10zm4 0h-2v-4h2v4z\"/>\n",
              "    </g>\n",
              "</svg>\n",
              "  </button>\n",
              "\n",
              "<style>\n",
              "  .colab-df-quickchart {\n",
              "      --bg-color: #E8F0FE;\n",
              "      --fill-color: #1967D2;\n",
              "      --hover-bg-color: #E2EBFA;\n",
              "      --hover-fill-color: #174EA6;\n",
              "      --disabled-fill-color: #AAA;\n",
              "      --disabled-bg-color: #DDD;\n",
              "  }\n",
              "\n",
              "  [theme=dark] .colab-df-quickchart {\n",
              "      --bg-color: #3B4455;\n",
              "      --fill-color: #D2E3FC;\n",
              "      --hover-bg-color: #434B5C;\n",
              "      --hover-fill-color: #FFFFFF;\n",
              "      --disabled-bg-color: #3B4455;\n",
              "      --disabled-fill-color: #666;\n",
              "  }\n",
              "\n",
              "  .colab-df-quickchart {\n",
              "    background-color: var(--bg-color);\n",
              "    border: none;\n",
              "    border-radius: 50%;\n",
              "    cursor: pointer;\n",
              "    display: none;\n",
              "    fill: var(--fill-color);\n",
              "    height: 32px;\n",
              "    padding: 0;\n",
              "    width: 32px;\n",
              "  }\n",
              "\n",
              "  .colab-df-quickchart:hover {\n",
              "    background-color: var(--hover-bg-color);\n",
              "    box-shadow: 0 1px 2px rgba(60, 64, 67, 0.3), 0 1px 3px 1px rgba(60, 64, 67, 0.15);\n",
              "    fill: var(--button-hover-fill-color);\n",
              "  }\n",
              "\n",
              "  .colab-df-quickchart-complete:disabled,\n",
              "  .colab-df-quickchart-complete:disabled:hover {\n",
              "    background-color: var(--disabled-bg-color);\n",
              "    fill: var(--disabled-fill-color);\n",
              "    box-shadow: none;\n",
              "  }\n",
              "\n",
              "  .colab-df-spinner {\n",
              "    border: 2px solid var(--fill-color);\n",
              "    border-color: transparent;\n",
              "    border-bottom-color: var(--fill-color);\n",
              "    animation:\n",
              "      spin 1s steps(1) infinite;\n",
              "  }\n",
              "\n",
              "  @keyframes spin {\n",
              "    0% {\n",
              "      border-color: transparent;\n",
              "      border-bottom-color: var(--fill-color);\n",
              "      border-left-color: var(--fill-color);\n",
              "    }\n",
              "    20% {\n",
              "      border-color: transparent;\n",
              "      border-left-color: var(--fill-color);\n",
              "      border-top-color: var(--fill-color);\n",
              "    }\n",
              "    30% {\n",
              "      border-color: transparent;\n",
              "      border-left-color: var(--fill-color);\n",
              "      border-top-color: var(--fill-color);\n",
              "      border-right-color: var(--fill-color);\n",
              "    }\n",
              "    40% {\n",
              "      border-color: transparent;\n",
              "      border-right-color: var(--fill-color);\n",
              "      border-top-color: var(--fill-color);\n",
              "    }\n",
              "    60% {\n",
              "      border-color: transparent;\n",
              "      border-right-color: var(--fill-color);\n",
              "    }\n",
              "    80% {\n",
              "      border-color: transparent;\n",
              "      border-right-color: var(--fill-color);\n",
              "      border-bottom-color: var(--fill-color);\n",
              "    }\n",
              "    90% {\n",
              "      border-color: transparent;\n",
              "      border-bottom-color: var(--fill-color);\n",
              "    }\n",
              "  }\n",
              "</style>\n",
              "\n",
              "  <script>\n",
              "    async function quickchart(key) {\n",
              "      const quickchartButtonEl =\n",
              "        document.querySelector('#' + key + ' button');\n",
              "      quickchartButtonEl.disabled = true;  // To prevent multiple clicks.\n",
              "      quickchartButtonEl.classList.add('colab-df-spinner');\n",
              "      try {\n",
              "        const charts = await google.colab.kernel.invokeFunction(\n",
              "            'suggestCharts', [key], {});\n",
              "      } catch (error) {\n",
              "        console.error('Error during call to suggestCharts:', error);\n",
              "      }\n",
              "      quickchartButtonEl.classList.remove('colab-df-spinner');\n",
              "      quickchartButtonEl.classList.add('colab-df-quickchart-complete');\n",
              "    }\n",
              "    (() => {\n",
              "      let quickchartButtonEl =\n",
              "        document.querySelector('#df-1e46d03c-8f85-4bd5-966e-23e293a5cabe button');\n",
              "      quickchartButtonEl.style.display =\n",
              "        google.colab.kernel.accessAllowed ? 'block' : 'none';\n",
              "    })();\n",
              "  </script>\n",
              "</div>\n",
              "\n",
              "    </div>\n",
              "  </div>\n"
            ],
            "application/vnd.google.colaboratory.intrinsic+json": {
              "type": "dataframe",
              "variable_name": "missing_ntas_df",
              "summary": "{\n  \"name\": \"missing_ntas_df\",\n  \"rows\": 34,\n  \"fields\": [\n    {\n      \"column\": \"Missing_NTAs\",\n      \"properties\": {\n        \"dtype\": \"string\",\n        \"num_unique_values\": 34,\n        \"samples\": [\n          \"Rikers Island\",\n          \"Mount Olivet & All Faiths Cemeteries\",\n          \"Snug Harbor\"\n        ],\n        \"semantic_type\": \"\",\n        \"description\": \"\"\n      }\n    }\n  ]\n}"
            }
          },
          "metadata": {},
          "execution_count": 23
        }
      ]
    },
    {
      "cell_type": "code",
      "source": [
        "# Step 2: Assign values to LSTSTATYPE\n",
        "# Define the mapping: 1 for constructed/permitted/under construction, 0 for marked/blanks\n",
        "value_mapping = {\n",
        "    'Activated': 1,\n",
        "    'Broken': 0.25,\n",
        "    'NotYetActivated': 0.75,\n",
        "    'UnderConstruction': 0.5,\n",
        "    '': 0  # Blank rows\n",
        "}\n",
        "\n",
        "#Activated\n",
        "#Broken\n",
        "#NotYetActivated\n",
        "#UnderConstruction"
      ],
      "metadata": {
        "id": "GnylCnlQdLWD"
      },
      "execution_count": null,
      "outputs": []
    },
    {
      "cell_type": "code",
      "source": [
        "# Apply the mapping to the building dataset\n",
        "drinkingfountain_df['Value'] = drinkingfountain_df['DF Activated'].map(value_mapping)"
      ],
      "metadata": {
        "id": "3RrgOojbdLC_"
      },
      "execution_count": null,
      "outputs": []
    },
    {
      "cell_type": "code",
      "source": [
        "# Calculate vulnerability value for each NTA\n",
        "# Multiply 'Value' by 'FREQUENCY' and group by 'Geography' (NTA name) to sum the values\n",
        "drinkingfountain_df['Weighted_Value'] = drinkingfountain_df['Value'] * drinkingfountain_df['FREQUENCY']\n",
        "\n",
        "# Group by Geography to calculate the total vulnerability value for each NTA\n",
        "vulnerability_df = drinkingfountain_df.groupby('ntaname')['Weighted_Value'].sum().reset_index()\n",
        "\n",
        "# Merge the vulnerability values back with the NTA dataset to include all NTAs\n",
        "final_df = pd.merge(nta_2020_df[['NTAName']], vulnerability_df, left_on='NTAName', right_on='ntaname', how='left')\n",
        "\n",
        "# Fill any missing vulnerability values with 0 (in case an NTA has no building data)\n",
        "final_df['Weighted_Value'].fillna(0, inplace=True)\n",
        "\n",
        "# Export the final result to Excel\n",
        "final_df.to_excel('DrinkingFountain_recalculated_values_nta2020.xlsx', index=False)\n",
        "\n",
        "print(\"Vulnerability values calculated and exported to 'DrinkingFountain_recalculated_values_nta2020.xlsx'.\")"
      ],
      "metadata": {
        "colab": {
          "base_uri": "https://localhost:8080/"
        },
        "id": "xN9jQyb-dKpi",
        "outputId": "cb6460ae-b376-47b1-cbb9-2ff111a379a6"
      },
      "execution_count": null,
      "outputs": [
        {
          "output_type": "stream",
          "name": "stdout",
          "text": [
            "Vulnerability values calculated and exported to 'DrinkingFountain_recalculated_values_nta2020.xlsx'.\n"
          ]
        },
        {
          "output_type": "stream",
          "name": "stderr",
          "text": [
            "<ipython-input-28-95fe40e51132>:12: FutureWarning: A value is trying to be set on a copy of a DataFrame or Series through chained assignment using an inplace method.\n",
            "The behavior will change in pandas 3.0. This inplace method will never work because the intermediate object on which we are setting values always behaves as a copy.\n",
            "\n",
            "For example, when doing 'df[col].method(value, inplace=True)', try using 'df.method({col: value}, inplace=True)' or df[col] = df[col].method(value) instead, to perform the operation inplace on the original object.\n",
            "\n",
            "\n",
            "  final_df['Weighted_Value'].fillna(0, inplace=True)\n"
          ]
        }
      ]
    },
    {
      "cell_type": "markdown",
      "source": [
        "#### Spray Shower"
      ],
      "metadata": {
        "id": "d-ZhgSQBVTMa"
      }
    },
    {
      "cell_type": "code",
      "source": [
        "sprayshower_df = pd.read_excel('Cool_It__NYC_2020_Statistics_sprayshower_TableToExcel.xlsx')"
      ],
      "metadata": {
        "id": "fehiu2VnVTzw"
      },
      "execution_count": null,
      "outputs": []
    },
    {
      "cell_type": "code",
      "source": [
        "# Identify missing NTAs in the building dataset\n",
        "missing_ntas = set(nta_2020_df['NTAName']) - set(sprayshower_df['ntaname'])\n",
        "\n",
        "# Create a dataframe to display missing NTAs\n",
        "missing_ntas_df = pd.DataFrame(list(missing_ntas), columns=['Missing_NTAs'])\n",
        "missing_ntas_df.head()"
      ],
      "metadata": {
        "colab": {
          "base_uri": "https://localhost:8080/",
          "height": 206
        },
        "id": "cDh5AMN1VULW",
        "outputId": "140c89ab-6ae7-4934-a02d-40e3403b99d4"
      },
      "execution_count": null,
      "outputs": [
        {
          "output_type": "execute_result",
          "data": {
            "text/plain": [
              "                  Missing_NTAs\n",
              "0      Middle Village Cemetery\n",
              "1        East Flatbush-Erasmus\n",
              "2  Shirley Chisholm State Park\n",
              "3            Spring Creek Park\n",
              "4      Freshkills Park (North)"
            ],
            "text/html": [
              "\n",
              "  <div id=\"df-457a29c8-990b-4a3d-a610-d7538856488e\" class=\"colab-df-container\">\n",
              "    <div>\n",
              "<style scoped>\n",
              "    .dataframe tbody tr th:only-of-type {\n",
              "        vertical-align: middle;\n",
              "    }\n",
              "\n",
              "    .dataframe tbody tr th {\n",
              "        vertical-align: top;\n",
              "    }\n",
              "\n",
              "    .dataframe thead th {\n",
              "        text-align: right;\n",
              "    }\n",
              "</style>\n",
              "<table border=\"1\" class=\"dataframe\">\n",
              "  <thead>\n",
              "    <tr style=\"text-align: right;\">\n",
              "      <th></th>\n",
              "      <th>Missing_NTAs</th>\n",
              "    </tr>\n",
              "  </thead>\n",
              "  <tbody>\n",
              "    <tr>\n",
              "      <th>0</th>\n",
              "      <td>Middle Village Cemetery</td>\n",
              "    </tr>\n",
              "    <tr>\n",
              "      <th>1</th>\n",
              "      <td>East Flatbush-Erasmus</td>\n",
              "    </tr>\n",
              "    <tr>\n",
              "      <th>2</th>\n",
              "      <td>Shirley Chisholm State Park</td>\n",
              "    </tr>\n",
              "    <tr>\n",
              "      <th>3</th>\n",
              "      <td>Spring Creek Park</td>\n",
              "    </tr>\n",
              "    <tr>\n",
              "      <th>4</th>\n",
              "      <td>Freshkills Park (North)</td>\n",
              "    </tr>\n",
              "  </tbody>\n",
              "</table>\n",
              "</div>\n",
              "    <div class=\"colab-df-buttons\">\n",
              "\n",
              "  <div class=\"colab-df-container\">\n",
              "    <button class=\"colab-df-convert\" onclick=\"convertToInteractive('df-457a29c8-990b-4a3d-a610-d7538856488e')\"\n",
              "            title=\"Convert this dataframe to an interactive table.\"\n",
              "            style=\"display:none;\">\n",
              "\n",
              "  <svg xmlns=\"http://www.w3.org/2000/svg\" height=\"24px\" viewBox=\"0 -960 960 960\">\n",
              "    <path d=\"M120-120v-720h720v720H120Zm60-500h600v-160H180v160Zm220 220h160v-160H400v160Zm0 220h160v-160H400v160ZM180-400h160v-160H180v160Zm440 0h160v-160H620v160ZM180-180h160v-160H180v160Zm440 0h160v-160H620v160Z\"/>\n",
              "  </svg>\n",
              "    </button>\n",
              "\n",
              "  <style>\n",
              "    .colab-df-container {\n",
              "      display:flex;\n",
              "      gap: 12px;\n",
              "    }\n",
              "\n",
              "    .colab-df-convert {\n",
              "      background-color: #E8F0FE;\n",
              "      border: none;\n",
              "      border-radius: 50%;\n",
              "      cursor: pointer;\n",
              "      display: none;\n",
              "      fill: #1967D2;\n",
              "      height: 32px;\n",
              "      padding: 0 0 0 0;\n",
              "      width: 32px;\n",
              "    }\n",
              "\n",
              "    .colab-df-convert:hover {\n",
              "      background-color: #E2EBFA;\n",
              "      box-shadow: 0px 1px 2px rgba(60, 64, 67, 0.3), 0px 1px 3px 1px rgba(60, 64, 67, 0.15);\n",
              "      fill: #174EA6;\n",
              "    }\n",
              "\n",
              "    .colab-df-buttons div {\n",
              "      margin-bottom: 4px;\n",
              "    }\n",
              "\n",
              "    [theme=dark] .colab-df-convert {\n",
              "      background-color: #3B4455;\n",
              "      fill: #D2E3FC;\n",
              "    }\n",
              "\n",
              "    [theme=dark] .colab-df-convert:hover {\n",
              "      background-color: #434B5C;\n",
              "      box-shadow: 0px 1px 3px 1px rgba(0, 0, 0, 0.15);\n",
              "      filter: drop-shadow(0px 1px 2px rgba(0, 0, 0, 0.3));\n",
              "      fill: #FFFFFF;\n",
              "    }\n",
              "  </style>\n",
              "\n",
              "    <script>\n",
              "      const buttonEl =\n",
              "        document.querySelector('#df-457a29c8-990b-4a3d-a610-d7538856488e button.colab-df-convert');\n",
              "      buttonEl.style.display =\n",
              "        google.colab.kernel.accessAllowed ? 'block' : 'none';\n",
              "\n",
              "      async function convertToInteractive(key) {\n",
              "        const element = document.querySelector('#df-457a29c8-990b-4a3d-a610-d7538856488e');\n",
              "        const dataTable =\n",
              "          await google.colab.kernel.invokeFunction('convertToInteractive',\n",
              "                                                    [key], {});\n",
              "        if (!dataTable) return;\n",
              "\n",
              "        const docLinkHtml = 'Like what you see? Visit the ' +\n",
              "          '<a target=\"_blank\" href=https://colab.research.google.com/notebooks/data_table.ipynb>data table notebook</a>'\n",
              "          + ' to learn more about interactive tables.';\n",
              "        element.innerHTML = '';\n",
              "        dataTable['output_type'] = 'display_data';\n",
              "        await google.colab.output.renderOutput(dataTable, element);\n",
              "        const docLink = document.createElement('div');\n",
              "        docLink.innerHTML = docLinkHtml;\n",
              "        element.appendChild(docLink);\n",
              "      }\n",
              "    </script>\n",
              "  </div>\n",
              "\n",
              "\n",
              "<div id=\"df-218cf71e-0270-4a7d-b033-f5af4eaa7d87\">\n",
              "  <button class=\"colab-df-quickchart\" onclick=\"quickchart('df-218cf71e-0270-4a7d-b033-f5af4eaa7d87')\"\n",
              "            title=\"Suggest charts\"\n",
              "            style=\"display:none;\">\n",
              "\n",
              "<svg xmlns=\"http://www.w3.org/2000/svg\" height=\"24px\"viewBox=\"0 0 24 24\"\n",
              "     width=\"24px\">\n",
              "    <g>\n",
              "        <path d=\"M19 3H5c-1.1 0-2 .9-2 2v14c0 1.1.9 2 2 2h14c1.1 0 2-.9 2-2V5c0-1.1-.9-2-2-2zM9 17H7v-7h2v7zm4 0h-2V7h2v10zm4 0h-2v-4h2v4z\"/>\n",
              "    </g>\n",
              "</svg>\n",
              "  </button>\n",
              "\n",
              "<style>\n",
              "  .colab-df-quickchart {\n",
              "      --bg-color: #E8F0FE;\n",
              "      --fill-color: #1967D2;\n",
              "      --hover-bg-color: #E2EBFA;\n",
              "      --hover-fill-color: #174EA6;\n",
              "      --disabled-fill-color: #AAA;\n",
              "      --disabled-bg-color: #DDD;\n",
              "  }\n",
              "\n",
              "  [theme=dark] .colab-df-quickchart {\n",
              "      --bg-color: #3B4455;\n",
              "      --fill-color: #D2E3FC;\n",
              "      --hover-bg-color: #434B5C;\n",
              "      --hover-fill-color: #FFFFFF;\n",
              "      --disabled-bg-color: #3B4455;\n",
              "      --disabled-fill-color: #666;\n",
              "  }\n",
              "\n",
              "  .colab-df-quickchart {\n",
              "    background-color: var(--bg-color);\n",
              "    border: none;\n",
              "    border-radius: 50%;\n",
              "    cursor: pointer;\n",
              "    display: none;\n",
              "    fill: var(--fill-color);\n",
              "    height: 32px;\n",
              "    padding: 0;\n",
              "    width: 32px;\n",
              "  }\n",
              "\n",
              "  .colab-df-quickchart:hover {\n",
              "    background-color: var(--hover-bg-color);\n",
              "    box-shadow: 0 1px 2px rgba(60, 64, 67, 0.3), 0 1px 3px 1px rgba(60, 64, 67, 0.15);\n",
              "    fill: var(--button-hover-fill-color);\n",
              "  }\n",
              "\n",
              "  .colab-df-quickchart-complete:disabled,\n",
              "  .colab-df-quickchart-complete:disabled:hover {\n",
              "    background-color: var(--disabled-bg-color);\n",
              "    fill: var(--disabled-fill-color);\n",
              "    box-shadow: none;\n",
              "  }\n",
              "\n",
              "  .colab-df-spinner {\n",
              "    border: 2px solid var(--fill-color);\n",
              "    border-color: transparent;\n",
              "    border-bottom-color: var(--fill-color);\n",
              "    animation:\n",
              "      spin 1s steps(1) infinite;\n",
              "  }\n",
              "\n",
              "  @keyframes spin {\n",
              "    0% {\n",
              "      border-color: transparent;\n",
              "      border-bottom-color: var(--fill-color);\n",
              "      border-left-color: var(--fill-color);\n",
              "    }\n",
              "    20% {\n",
              "      border-color: transparent;\n",
              "      border-left-color: var(--fill-color);\n",
              "      border-top-color: var(--fill-color);\n",
              "    }\n",
              "    30% {\n",
              "      border-color: transparent;\n",
              "      border-left-color: var(--fill-color);\n",
              "      border-top-color: var(--fill-color);\n",
              "      border-right-color: var(--fill-color);\n",
              "    }\n",
              "    40% {\n",
              "      border-color: transparent;\n",
              "      border-right-color: var(--fill-color);\n",
              "      border-top-color: var(--fill-color);\n",
              "    }\n",
              "    60% {\n",
              "      border-color: transparent;\n",
              "      border-right-color: var(--fill-color);\n",
              "    }\n",
              "    80% {\n",
              "      border-color: transparent;\n",
              "      border-right-color: var(--fill-color);\n",
              "      border-bottom-color: var(--fill-color);\n",
              "    }\n",
              "    90% {\n",
              "      border-color: transparent;\n",
              "      border-bottom-color: var(--fill-color);\n",
              "    }\n",
              "  }\n",
              "</style>\n",
              "\n",
              "  <script>\n",
              "    async function quickchart(key) {\n",
              "      const quickchartButtonEl =\n",
              "        document.querySelector('#' + key + ' button');\n",
              "      quickchartButtonEl.disabled = true;  // To prevent multiple clicks.\n",
              "      quickchartButtonEl.classList.add('colab-df-spinner');\n",
              "      try {\n",
              "        const charts = await google.colab.kernel.invokeFunction(\n",
              "            'suggestCharts', [key], {});\n",
              "      } catch (error) {\n",
              "        console.error('Error during call to suggestCharts:', error);\n",
              "      }\n",
              "      quickchartButtonEl.classList.remove('colab-df-spinner');\n",
              "      quickchartButtonEl.classList.add('colab-df-quickchart-complete');\n",
              "    }\n",
              "    (() => {\n",
              "      let quickchartButtonEl =\n",
              "        document.querySelector('#df-218cf71e-0270-4a7d-b033-f5af4eaa7d87 button');\n",
              "      quickchartButtonEl.style.display =\n",
              "        google.colab.kernel.accessAllowed ? 'block' : 'none';\n",
              "    })();\n",
              "  </script>\n",
              "</div>\n",
              "\n",
              "    </div>\n",
              "  </div>\n"
            ],
            "application/vnd.google.colaboratory.intrinsic+json": {
              "type": "dataframe",
              "variable_name": "missing_ntas_df",
              "summary": "{\n  \"name\": \"missing_ntas_df\",\n  \"rows\": 50,\n  \"fields\": [\n    {\n      \"column\": \"Missing_NTAs\",\n      \"properties\": {\n        \"dtype\": \"string\",\n        \"num_unique_values\": 50,\n        \"samples\": [\n          \"Flatbush (West)-Ditmas Park-Parkville\",\n          \"Mount Hebron & Cedar Grove Cemeteries\",\n          \"Fort Hamilton\"\n        ],\n        \"semantic_type\": \"\",\n        \"description\": \"\"\n      }\n    }\n  ]\n}"
            }
          },
          "metadata": {},
          "execution_count": 17
        }
      ]
    },
    {
      "cell_type": "code",
      "source": [
        "# Assign values to LSTSTATYPE\n",
        "# Define the mapping: 1 for constructed/permitted/under construction, 0 for marked/blanks\n",
        "value_mapping = {\n",
        "    'Activated': 1,\n",
        "    'Broken': 0.25,\n",
        "    'Not Yet Activated': 0.75,\n",
        "    'Under Construction': 0.5,\n",
        "    '': 0  # Blank rows\n",
        "}\n",
        "\n",
        "\n",
        "#Activated\n",
        "#Broken\n",
        "#Not Yet Activated\n",
        "#Under Construction"
      ],
      "metadata": {
        "id": "_iURCEzsVh8y"
      },
      "execution_count": null,
      "outputs": []
    },
    {
      "cell_type": "code",
      "source": [
        "# Apply the mapping to the building dataset\n",
        "sprayshower_df['Value'] = sprayshower_df['Status'].map(value_mapping)"
      ],
      "metadata": {
        "id": "_UGZgbDTVhoj"
      },
      "execution_count": null,
      "outputs": []
    },
    {
      "cell_type": "code",
      "source": [
        "# Calculate vulnerability value for each NTA\n",
        "# Multiply 'Value' by 'FREQUENCY' and group by 'Geography' (NTA name) to sum the values\n",
        "sprayshower_df['Weighted_Value'] = sprayshower_df['Value'] * sprayshower_df['FREQUENCY']\n",
        "\n",
        "# Group by Geography to calculate the total vulnerability value for each NTA\n",
        "vulnerability_df = sprayshower_df.groupby('ntaname')['Weighted_Value'].sum().reset_index()\n",
        "\n",
        "# Merge the vulnerability values back with the NTA dataset to include all NTAs\n",
        "final_df = pd.merge(nta_2020_df[['NTAName']], vulnerability_df, left_on='NTAName', right_on='ntaname', how='left')\n",
        "\n",
        "# Fill any missing vulnerability values with 0 (in case an NTA has no building data)\n",
        "final_df['Weighted_Value'].fillna(0, inplace=True)\n",
        "\n",
        "# Step 4: Export the final result to Excel\n",
        "final_df.to_excel('Sprayshower_recalculated_values_nta2020.xlsx', index=False)\n",
        "\n",
        "\n",
        "print(\"Vulnerability values calculated and exported to 'Sprayshower_recalculated_values_nta2020.xlsx'.\")"
      ],
      "metadata": {
        "colab": {
          "base_uri": "https://localhost:8080/"
        },
        "id": "HhAXGwL5VhdY",
        "outputId": "bf714e04-e11c-42ed-9454-bfac6db67f57"
      },
      "execution_count": null,
      "outputs": [
        {
          "output_type": "stream",
          "name": "stdout",
          "text": [
            "Vulnerability values calculated and exported to 'Sprayshower_recalculated_values_nta2020.xlsx'.\n"
          ]
        },
        {
          "output_type": "stream",
          "name": "stderr",
          "text": [
            "<ipython-input-21-f1239716af23>:12: FutureWarning: A value is trying to be set on a copy of a DataFrame or Series through chained assignment using an inplace method.\n",
            "The behavior will change in pandas 3.0. This inplace method will never work because the intermediate object on which we are setting values always behaves as a copy.\n",
            "\n",
            "For example, when doing 'df[col].method(value, inplace=True)', try using 'df.method({col: value}, inplace=True)' or df[col] = df[col].method(value) instead, to perform the operation inplace on the original object.\n",
            "\n",
            "\n",
            "  final_df['Weighted_Value'].fillna(0, inplace=True)\n"
          ]
        }
      ]
    },
    {
      "cell_type": "markdown",
      "source": [
        "#### GI (green infrastructure)"
      ],
      "metadata": {
        "id": "_O7VX3zwH6PE"
      }
    },
    {
      "cell_type": "code",
      "source": [
        "%cd /content/drive/MyDrive/Thesis/Fall_2024/Data/Datasets/Modified"
      ],
      "metadata": {
        "id": "Jp-4YiY9H6vz",
        "colab": {
          "base_uri": "https://localhost:8080/"
        },
        "outputId": "eadaa556-af13-4e3a-bbf3-9a4890b63c3a"
      },
      "execution_count": null,
      "outputs": [
        {
          "output_type": "stream",
          "name": "stdout",
          "text": [
            "/content/drive/MyDrive/Thesis/Fall_2024/Data/Datasets/Modified\n"
          ]
        }
      ]
    },
    {
      "cell_type": "code",
      "source": [
        "gi_df = pd.read_excel('DEP_GI_Assets_Pub_Statistics_2020nta_TableToExcel.xlsx')"
      ],
      "metadata": {
        "id": "l5MfYR-OH7z7"
      },
      "execution_count": null,
      "outputs": []
    },
    {
      "cell_type": "code",
      "source": [
        "# Identify missing NTAs in the building dataset\n",
        "missing_ntas = set(nta_2020_df['NTAName']) - set(gi_df['ntaname'])\n",
        "\n",
        "# Create a dataframe to display missing NTAs\n",
        "missing_ntas_df = pd.DataFrame(list(missing_ntas), columns=['Missing_NTAs'])\n",
        "missing_ntas_df.head()"
      ],
      "metadata": {
        "id": "bYiXGGQIH7h5",
        "colab": {
          "base_uri": "https://localhost:8080/",
          "height": 206
        },
        "outputId": "6107053f-5aaa-489d-95d1-642833990c17"
      },
      "execution_count": null,
      "outputs": [
        {
          "output_type": "execute_result",
          "data": {
            "text/plain": [
              "                  Missing_NTAs\n",
              "0      Middle Village Cemetery\n",
              "1              Alley Pond Park\n",
              "2  Shirley Chisholm State Park\n",
              "3      St. George-New Brighton\n",
              "4            Spring Creek Park"
            ],
            "text/html": [
              "\n",
              "  <div id=\"df-d9cb0749-1798-4a62-9108-9815eb4cea93\" class=\"colab-df-container\">\n",
              "    <div>\n",
              "<style scoped>\n",
              "    .dataframe tbody tr th:only-of-type {\n",
              "        vertical-align: middle;\n",
              "    }\n",
              "\n",
              "    .dataframe tbody tr th {\n",
              "        vertical-align: top;\n",
              "    }\n",
              "\n",
              "    .dataframe thead th {\n",
              "        text-align: right;\n",
              "    }\n",
              "</style>\n",
              "<table border=\"1\" class=\"dataframe\">\n",
              "  <thead>\n",
              "    <tr style=\"text-align: right;\">\n",
              "      <th></th>\n",
              "      <th>Missing_NTAs</th>\n",
              "    </tr>\n",
              "  </thead>\n",
              "  <tbody>\n",
              "    <tr>\n",
              "      <th>0</th>\n",
              "      <td>Middle Village Cemetery</td>\n",
              "    </tr>\n",
              "    <tr>\n",
              "      <th>1</th>\n",
              "      <td>Alley Pond Park</td>\n",
              "    </tr>\n",
              "    <tr>\n",
              "      <th>2</th>\n",
              "      <td>Shirley Chisholm State Park</td>\n",
              "    </tr>\n",
              "    <tr>\n",
              "      <th>3</th>\n",
              "      <td>St. George-New Brighton</td>\n",
              "    </tr>\n",
              "    <tr>\n",
              "      <th>4</th>\n",
              "      <td>Spring Creek Park</td>\n",
              "    </tr>\n",
              "  </tbody>\n",
              "</table>\n",
              "</div>\n",
              "    <div class=\"colab-df-buttons\">\n",
              "\n",
              "  <div class=\"colab-df-container\">\n",
              "    <button class=\"colab-df-convert\" onclick=\"convertToInteractive('df-d9cb0749-1798-4a62-9108-9815eb4cea93')\"\n",
              "            title=\"Convert this dataframe to an interactive table.\"\n",
              "            style=\"display:none;\">\n",
              "\n",
              "  <svg xmlns=\"http://www.w3.org/2000/svg\" height=\"24px\" viewBox=\"0 -960 960 960\">\n",
              "    <path d=\"M120-120v-720h720v720H120Zm60-500h600v-160H180v160Zm220 220h160v-160H400v160Zm0 220h160v-160H400v160ZM180-400h160v-160H180v160Zm440 0h160v-160H620v160ZM180-180h160v-160H180v160Zm440 0h160v-160H620v160Z\"/>\n",
              "  </svg>\n",
              "    </button>\n",
              "\n",
              "  <style>\n",
              "    .colab-df-container {\n",
              "      display:flex;\n",
              "      gap: 12px;\n",
              "    }\n",
              "\n",
              "    .colab-df-convert {\n",
              "      background-color: #E8F0FE;\n",
              "      border: none;\n",
              "      border-radius: 50%;\n",
              "      cursor: pointer;\n",
              "      display: none;\n",
              "      fill: #1967D2;\n",
              "      height: 32px;\n",
              "      padding: 0 0 0 0;\n",
              "      width: 32px;\n",
              "    }\n",
              "\n",
              "    .colab-df-convert:hover {\n",
              "      background-color: #E2EBFA;\n",
              "      box-shadow: 0px 1px 2px rgba(60, 64, 67, 0.3), 0px 1px 3px 1px rgba(60, 64, 67, 0.15);\n",
              "      fill: #174EA6;\n",
              "    }\n",
              "\n",
              "    .colab-df-buttons div {\n",
              "      margin-bottom: 4px;\n",
              "    }\n",
              "\n",
              "    [theme=dark] .colab-df-convert {\n",
              "      background-color: #3B4455;\n",
              "      fill: #D2E3FC;\n",
              "    }\n",
              "\n",
              "    [theme=dark] .colab-df-convert:hover {\n",
              "      background-color: #434B5C;\n",
              "      box-shadow: 0px 1px 3px 1px rgba(0, 0, 0, 0.15);\n",
              "      filter: drop-shadow(0px 1px 2px rgba(0, 0, 0, 0.3));\n",
              "      fill: #FFFFFF;\n",
              "    }\n",
              "  </style>\n",
              "\n",
              "    <script>\n",
              "      const buttonEl =\n",
              "        document.querySelector('#df-d9cb0749-1798-4a62-9108-9815eb4cea93 button.colab-df-convert');\n",
              "      buttonEl.style.display =\n",
              "        google.colab.kernel.accessAllowed ? 'block' : 'none';\n",
              "\n",
              "      async function convertToInteractive(key) {\n",
              "        const element = document.querySelector('#df-d9cb0749-1798-4a62-9108-9815eb4cea93');\n",
              "        const dataTable =\n",
              "          await google.colab.kernel.invokeFunction('convertToInteractive',\n",
              "                                                    [key], {});\n",
              "        if (!dataTable) return;\n",
              "\n",
              "        const docLinkHtml = 'Like what you see? Visit the ' +\n",
              "          '<a target=\"_blank\" href=https://colab.research.google.com/notebooks/data_table.ipynb>data table notebook</a>'\n",
              "          + ' to learn more about interactive tables.';\n",
              "        element.innerHTML = '';\n",
              "        dataTable['output_type'] = 'display_data';\n",
              "        await google.colab.output.renderOutput(dataTable, element);\n",
              "        const docLink = document.createElement('div');\n",
              "        docLink.innerHTML = docLinkHtml;\n",
              "        element.appendChild(docLink);\n",
              "      }\n",
              "    </script>\n",
              "  </div>\n",
              "\n",
              "\n",
              "<div id=\"df-b31e539a-2831-4c7f-b6f2-13cc3d7f91a6\">\n",
              "  <button class=\"colab-df-quickchart\" onclick=\"quickchart('df-b31e539a-2831-4c7f-b6f2-13cc3d7f91a6')\"\n",
              "            title=\"Suggest charts\"\n",
              "            style=\"display:none;\">\n",
              "\n",
              "<svg xmlns=\"http://www.w3.org/2000/svg\" height=\"24px\"viewBox=\"0 0 24 24\"\n",
              "     width=\"24px\">\n",
              "    <g>\n",
              "        <path d=\"M19 3H5c-1.1 0-2 .9-2 2v14c0 1.1.9 2 2 2h14c1.1 0 2-.9 2-2V5c0-1.1-.9-2-2-2zM9 17H7v-7h2v7zm4 0h-2V7h2v10zm4 0h-2v-4h2v4z\"/>\n",
              "    </g>\n",
              "</svg>\n",
              "  </button>\n",
              "\n",
              "<style>\n",
              "  .colab-df-quickchart {\n",
              "      --bg-color: #E8F0FE;\n",
              "      --fill-color: #1967D2;\n",
              "      --hover-bg-color: #E2EBFA;\n",
              "      --hover-fill-color: #174EA6;\n",
              "      --disabled-fill-color: #AAA;\n",
              "      --disabled-bg-color: #DDD;\n",
              "  }\n",
              "\n",
              "  [theme=dark] .colab-df-quickchart {\n",
              "      --bg-color: #3B4455;\n",
              "      --fill-color: #D2E3FC;\n",
              "      --hover-bg-color: #434B5C;\n",
              "      --hover-fill-color: #FFFFFF;\n",
              "      --disabled-bg-color: #3B4455;\n",
              "      --disabled-fill-color: #666;\n",
              "  }\n",
              "\n",
              "  .colab-df-quickchart {\n",
              "    background-color: var(--bg-color);\n",
              "    border: none;\n",
              "    border-radius: 50%;\n",
              "    cursor: pointer;\n",
              "    display: none;\n",
              "    fill: var(--fill-color);\n",
              "    height: 32px;\n",
              "    padding: 0;\n",
              "    width: 32px;\n",
              "  }\n",
              "\n",
              "  .colab-df-quickchart:hover {\n",
              "    background-color: var(--hover-bg-color);\n",
              "    box-shadow: 0 1px 2px rgba(60, 64, 67, 0.3), 0 1px 3px 1px rgba(60, 64, 67, 0.15);\n",
              "    fill: var(--button-hover-fill-color);\n",
              "  }\n",
              "\n",
              "  .colab-df-quickchart-complete:disabled,\n",
              "  .colab-df-quickchart-complete:disabled:hover {\n",
              "    background-color: var(--disabled-bg-color);\n",
              "    fill: var(--disabled-fill-color);\n",
              "    box-shadow: none;\n",
              "  }\n",
              "\n",
              "  .colab-df-spinner {\n",
              "    border: 2px solid var(--fill-color);\n",
              "    border-color: transparent;\n",
              "    border-bottom-color: var(--fill-color);\n",
              "    animation:\n",
              "      spin 1s steps(1) infinite;\n",
              "  }\n",
              "\n",
              "  @keyframes spin {\n",
              "    0% {\n",
              "      border-color: transparent;\n",
              "      border-bottom-color: var(--fill-color);\n",
              "      border-left-color: var(--fill-color);\n",
              "    }\n",
              "    20% {\n",
              "      border-color: transparent;\n",
              "      border-left-color: var(--fill-color);\n",
              "      border-top-color: var(--fill-color);\n",
              "    }\n",
              "    30% {\n",
              "      border-color: transparent;\n",
              "      border-left-color: var(--fill-color);\n",
              "      border-top-color: var(--fill-color);\n",
              "      border-right-color: var(--fill-color);\n",
              "    }\n",
              "    40% {\n",
              "      border-color: transparent;\n",
              "      border-right-color: var(--fill-color);\n",
              "      border-top-color: var(--fill-color);\n",
              "    }\n",
              "    60% {\n",
              "      border-color: transparent;\n",
              "      border-right-color: var(--fill-color);\n",
              "    }\n",
              "    80% {\n",
              "      border-color: transparent;\n",
              "      border-right-color: var(--fill-color);\n",
              "      border-bottom-color: var(--fill-color);\n",
              "    }\n",
              "    90% {\n",
              "      border-color: transparent;\n",
              "      border-bottom-color: var(--fill-color);\n",
              "    }\n",
              "  }\n",
              "</style>\n",
              "\n",
              "  <script>\n",
              "    async function quickchart(key) {\n",
              "      const quickchartButtonEl =\n",
              "        document.querySelector('#' + key + ' button');\n",
              "      quickchartButtonEl.disabled = true;  // To prevent multiple clicks.\n",
              "      quickchartButtonEl.classList.add('colab-df-spinner');\n",
              "      try {\n",
              "        const charts = await google.colab.kernel.invokeFunction(\n",
              "            'suggestCharts', [key], {});\n",
              "      } catch (error) {\n",
              "        console.error('Error during call to suggestCharts:', error);\n",
              "      }\n",
              "      quickchartButtonEl.classList.remove('colab-df-spinner');\n",
              "      quickchartButtonEl.classList.add('colab-df-quickchart-complete');\n",
              "    }\n",
              "    (() => {\n",
              "      let quickchartButtonEl =\n",
              "        document.querySelector('#df-b31e539a-2831-4c7f-b6f2-13cc3d7f91a6 button');\n",
              "      quickchartButtonEl.style.display =\n",
              "        google.colab.kernel.accessAllowed ? 'block' : 'none';\n",
              "    })();\n",
              "  </script>\n",
              "</div>\n",
              "\n",
              "    </div>\n",
              "  </div>\n"
            ],
            "application/vnd.google.colaboratory.intrinsic+json": {
              "type": "dataframe",
              "variable_name": "missing_ntas_df",
              "summary": "{\n  \"name\": \"missing_ntas_df\",\n  \"rows\": 55,\n  \"fields\": [\n    {\n      \"column\": \"Missing_NTAs\",\n      \"properties\": {\n        \"dtype\": \"string\",\n        \"num_unique_values\": 55,\n        \"samples\": [\n          \"Woodlawn Cemetery\",\n          \"Freshkills Park (North)\",\n          \"St. John Cemetery\"\n        ],\n        \"semantic_type\": \"\",\n        \"description\": \"\"\n      }\n    }\n  ]\n}"
            }
          },
          "metadata": {},
          "execution_count": 7
        }
      ]
    },
    {
      "cell_type": "code",
      "source": [
        "# Assign values to LSTSTATYPE\n",
        "# Define the mapping: 1 for constructed/permitted/under construction, 0 for marked/blanks\n",
        "value_mapping = {\n",
        "    '100% Design Accepted': 0.5,\n",
        "    '100% Design Submitted': 0.5,\n",
        "    '90% Design Accepted': 0.25,\n",
        "    '90% Design Submitted': 0.25,\n",
        "    'Constructed': 1,\n",
        "    'Constructed (Full Maintenance)': 1,\n",
        "    'Constructed (In Guarantee)': 1,\n",
        "    'In Construction': 0.75,\n",
        "    '': 0  # Blank rows\n",
        "}\n",
        "\n",
        "#''\n",
        "#100% Design Accepted\n",
        "#100% Design Submitted\n",
        "#90% Design Accepted\n",
        "#90% Design Submitted\n",
        "#Constructed\n",
        "#Constructed (Full Maintenance)\n",
        "#Constructed (In Guarantee)\n",
        "#In Construction"
      ],
      "metadata": {
        "id": "Ciy_5xB3H7SC"
      },
      "execution_count": null,
      "outputs": []
    },
    {
      "cell_type": "code",
      "source": [
        "# Apply the mapping to the building dataset\n",
        "gi_df['Value'] = gi_df['Status'].map(value_mapping)"
      ],
      "metadata": {
        "id": "XC-05YNBaUXZ"
      },
      "execution_count": null,
      "outputs": []
    },
    {
      "cell_type": "code",
      "source": [
        "# Calculate vulnerability value for each NTA\n",
        "# Multiply 'Value' by 'FREQUENCY' and group by 'Geography' (NTA name) to sum the values\n",
        "gi_df['Weighted_Value'] = gi_df['Value'] * gi_df['FREQUENCY']\n",
        "\n",
        "# Group by Geography to calculate the total vulnerability value for each NTA\n",
        "vulnerability_df = gi_df.groupby('ntaname')['Weighted_Value'].sum().reset_index()\n",
        "\n",
        "# Merge the vulnerability values back with the NTA dataset to include all NTAs\n",
        "final_df = pd.merge(nta_2020_df[['NTAName']], vulnerability_df, left_on='NTAName', right_on='ntaname', how='left')\n",
        "\n",
        "# Fill any missing vulnerability values with 0 (in case an NTA has no building data)\n",
        "final_df['Weighted_Value'].fillna(0, inplace=True)\n",
        "\n",
        "# Export the final result to Excel\n",
        "final_df.to_excel('GI_recalculated_values_nta2020.xlsx', index=False)\n",
        "\n",
        "print(\"Vulnerability values calculated and exported to 'GI_recalculated_values.xlsx'.\")"
      ],
      "metadata": {
        "colab": {
          "base_uri": "https://localhost:8080/"
        },
        "id": "xVVgMpz8aUEr",
        "outputId": "45904926-39af-4228-b709-d3758f1d19b8"
      },
      "execution_count": null,
      "outputs": [
        {
          "output_type": "stream",
          "name": "stdout",
          "text": [
            "Vulnerability values calculated and exported to 'GI_recalculated_values.xlsx'.\n"
          ]
        },
        {
          "output_type": "stream",
          "name": "stderr",
          "text": [
            "<ipython-input-10-66da04351b4e>:12: FutureWarning: A value is trying to be set on a copy of a DataFrame or Series through chained assignment using an inplace method.\n",
            "The behavior will change in pandas 3.0. This inplace method will never work because the intermediate object on which we are setting values always behaves as a copy.\n",
            "\n",
            "For example, when doing 'df[col].method(value, inplace=True)', try using 'df.method({col: value}, inplace=True)' or df[col] = df[col].method(value) instead, to perform the operation inplace on the original object.\n",
            "\n",
            "\n",
            "  final_df['Weighted_Value'].fillna(0, inplace=True)\n"
          ]
        }
      ]
    },
    {
      "cell_type": "markdown",
      "source": [
        "#### Building"
      ],
      "metadata": {
        "id": "2FxtnEe5J8lT"
      }
    },
    {
      "cell_type": "code",
      "source": [
        "%cd /content/drive/MyDrive/Thesis/Fall_2024/Data/Datasets/Modified"
      ],
      "metadata": {
        "colab": {
          "base_uri": "https://localhost:8080/"
        },
        "id": "HzAokEZKDVSn",
        "outputId": "af3d153a-752f-4ae8-9406-7c680c1d3a89"
      },
      "execution_count": null,
      "outputs": [
        {
          "output_type": "stream",
          "name": "stdout",
          "text": [
            "/content/drive/MyDrive/Thesis/Fall_2024/Data/Datasets/Modified\n"
          ]
        }
      ]
    },
    {
      "cell_type": "code",
      "source": [
        "building_df = pd.read_excel('building_Select1_Statistics_TableToExcel.xlsx')  # Building dataset with 'LSTSTATYPE' and 'FREQUENCY'"
      ],
      "metadata": {
        "id": "vtnlEEQqJ9h3"
      },
      "execution_count": null,
      "outputs": []
    },
    {
      "cell_type": "code",
      "source": [
        "# Identify missing NTAs in the building dataset\n",
        "missing_ntas = set(nta_2020_df['NTAName']) - set(building_df['ntaname'])\n",
        "\n",
        "# Create a dataframe to display missing NTAs\n",
        "missing_ntas_df = pd.DataFrame(list(missing_ntas), columns=['Missing_NTAs'])\n",
        "missing_ntas_df.head()"
      ],
      "metadata": {
        "colab": {
          "base_uri": "https://localhost:8080/",
          "height": 206
        },
        "id": "pL4trsY7KAJo",
        "outputId": "485d2407-63a4-46ef-ae7f-2904eaa7590c"
      },
      "execution_count": null,
      "outputs": [
        {
          "output_type": "execute_result",
          "data": {
            "text/plain": [
              "                  Missing_NTAs\n",
              "0      Middle Village Cemetery\n",
              "1              Alley Pond Park\n",
              "2  Shirley Chisholm State Park\n",
              "3            Spring Creek Park\n",
              "4      Freshkills Park (North)"
            ],
            "text/html": [
              "\n",
              "  <div id=\"df-1959c054-a675-4466-8d92-64f0cdaa7e3c\" class=\"colab-df-container\">\n",
              "    <div>\n",
              "<style scoped>\n",
              "    .dataframe tbody tr th:only-of-type {\n",
              "        vertical-align: middle;\n",
              "    }\n",
              "\n",
              "    .dataframe tbody tr th {\n",
              "        vertical-align: top;\n",
              "    }\n",
              "\n",
              "    .dataframe thead th {\n",
              "        text-align: right;\n",
              "    }\n",
              "</style>\n",
              "<table border=\"1\" class=\"dataframe\">\n",
              "  <thead>\n",
              "    <tr style=\"text-align: right;\">\n",
              "      <th></th>\n",
              "      <th>Missing_NTAs</th>\n",
              "    </tr>\n",
              "  </thead>\n",
              "  <tbody>\n",
              "    <tr>\n",
              "      <th>0</th>\n",
              "      <td>Middle Village Cemetery</td>\n",
              "    </tr>\n",
              "    <tr>\n",
              "      <th>1</th>\n",
              "      <td>Alley Pond Park</td>\n",
              "    </tr>\n",
              "    <tr>\n",
              "      <th>2</th>\n",
              "      <td>Shirley Chisholm State Park</td>\n",
              "    </tr>\n",
              "    <tr>\n",
              "      <th>3</th>\n",
              "      <td>Spring Creek Park</td>\n",
              "    </tr>\n",
              "    <tr>\n",
              "      <th>4</th>\n",
              "      <td>Freshkills Park (North)</td>\n",
              "    </tr>\n",
              "  </tbody>\n",
              "</table>\n",
              "</div>\n",
              "    <div class=\"colab-df-buttons\">\n",
              "\n",
              "  <div class=\"colab-df-container\">\n",
              "    <button class=\"colab-df-convert\" onclick=\"convertToInteractive('df-1959c054-a675-4466-8d92-64f0cdaa7e3c')\"\n",
              "            title=\"Convert this dataframe to an interactive table.\"\n",
              "            style=\"display:none;\">\n",
              "\n",
              "  <svg xmlns=\"http://www.w3.org/2000/svg\" height=\"24px\" viewBox=\"0 -960 960 960\">\n",
              "    <path d=\"M120-120v-720h720v720H120Zm60-500h600v-160H180v160Zm220 220h160v-160H400v160Zm0 220h160v-160H400v160ZM180-400h160v-160H180v160Zm440 0h160v-160H620v160ZM180-180h160v-160H180v160Zm440 0h160v-160H620v160Z\"/>\n",
              "  </svg>\n",
              "    </button>\n",
              "\n",
              "  <style>\n",
              "    .colab-df-container {\n",
              "      display:flex;\n",
              "      gap: 12px;\n",
              "    }\n",
              "\n",
              "    .colab-df-convert {\n",
              "      background-color: #E8F0FE;\n",
              "      border: none;\n",
              "      border-radius: 50%;\n",
              "      cursor: pointer;\n",
              "      display: none;\n",
              "      fill: #1967D2;\n",
              "      height: 32px;\n",
              "      padding: 0 0 0 0;\n",
              "      width: 32px;\n",
              "    }\n",
              "\n",
              "    .colab-df-convert:hover {\n",
              "      background-color: #E2EBFA;\n",
              "      box-shadow: 0px 1px 2px rgba(60, 64, 67, 0.3), 0px 1px 3px 1px rgba(60, 64, 67, 0.15);\n",
              "      fill: #174EA6;\n",
              "    }\n",
              "\n",
              "    .colab-df-buttons div {\n",
              "      margin-bottom: 4px;\n",
              "    }\n",
              "\n",
              "    [theme=dark] .colab-df-convert {\n",
              "      background-color: #3B4455;\n",
              "      fill: #D2E3FC;\n",
              "    }\n",
              "\n",
              "    [theme=dark] .colab-df-convert:hover {\n",
              "      background-color: #434B5C;\n",
              "      box-shadow: 0px 1px 3px 1px rgba(0, 0, 0, 0.15);\n",
              "      filter: drop-shadow(0px 1px 2px rgba(0, 0, 0, 0.3));\n",
              "      fill: #FFFFFF;\n",
              "    }\n",
              "  </style>\n",
              "\n",
              "    <script>\n",
              "      const buttonEl =\n",
              "        document.querySelector('#df-1959c054-a675-4466-8d92-64f0cdaa7e3c button.colab-df-convert');\n",
              "      buttonEl.style.display =\n",
              "        google.colab.kernel.accessAllowed ? 'block' : 'none';\n",
              "\n",
              "      async function convertToInteractive(key) {\n",
              "        const element = document.querySelector('#df-1959c054-a675-4466-8d92-64f0cdaa7e3c');\n",
              "        const dataTable =\n",
              "          await google.colab.kernel.invokeFunction('convertToInteractive',\n",
              "                                                    [key], {});\n",
              "        if (!dataTable) return;\n",
              "\n",
              "        const docLinkHtml = 'Like what you see? Visit the ' +\n",
              "          '<a target=\"_blank\" href=https://colab.research.google.com/notebooks/data_table.ipynb>data table notebook</a>'\n",
              "          + ' to learn more about interactive tables.';\n",
              "        element.innerHTML = '';\n",
              "        dataTable['output_type'] = 'display_data';\n",
              "        await google.colab.output.renderOutput(dataTable, element);\n",
              "        const docLink = document.createElement('div');\n",
              "        docLink.innerHTML = docLinkHtml;\n",
              "        element.appendChild(docLink);\n",
              "      }\n",
              "    </script>\n",
              "  </div>\n",
              "\n",
              "\n",
              "<div id=\"df-c23be228-0be7-4570-bb6f-1c0cfb19e718\">\n",
              "  <button class=\"colab-df-quickchart\" onclick=\"quickchart('df-c23be228-0be7-4570-bb6f-1c0cfb19e718')\"\n",
              "            title=\"Suggest charts\"\n",
              "            style=\"display:none;\">\n",
              "\n",
              "<svg xmlns=\"http://www.w3.org/2000/svg\" height=\"24px\"viewBox=\"0 0 24 24\"\n",
              "     width=\"24px\">\n",
              "    <g>\n",
              "        <path d=\"M19 3H5c-1.1 0-2 .9-2 2v14c0 1.1.9 2 2 2h14c1.1 0 2-.9 2-2V5c0-1.1-.9-2-2-2zM9 17H7v-7h2v7zm4 0h-2V7h2v10zm4 0h-2v-4h2v4z\"/>\n",
              "    </g>\n",
              "</svg>\n",
              "  </button>\n",
              "\n",
              "<style>\n",
              "  .colab-df-quickchart {\n",
              "      --bg-color: #E8F0FE;\n",
              "      --fill-color: #1967D2;\n",
              "      --hover-bg-color: #E2EBFA;\n",
              "      --hover-fill-color: #174EA6;\n",
              "      --disabled-fill-color: #AAA;\n",
              "      --disabled-bg-color: #DDD;\n",
              "  }\n",
              "\n",
              "  [theme=dark] .colab-df-quickchart {\n",
              "      --bg-color: #3B4455;\n",
              "      --fill-color: #D2E3FC;\n",
              "      --hover-bg-color: #434B5C;\n",
              "      --hover-fill-color: #FFFFFF;\n",
              "      --disabled-bg-color: #3B4455;\n",
              "      --disabled-fill-color: #666;\n",
              "  }\n",
              "\n",
              "  .colab-df-quickchart {\n",
              "    background-color: var(--bg-color);\n",
              "    border: none;\n",
              "    border-radius: 50%;\n",
              "    cursor: pointer;\n",
              "    display: none;\n",
              "    fill: var(--fill-color);\n",
              "    height: 32px;\n",
              "    padding: 0;\n",
              "    width: 32px;\n",
              "  }\n",
              "\n",
              "  .colab-df-quickchart:hover {\n",
              "    background-color: var(--hover-bg-color);\n",
              "    box-shadow: 0 1px 2px rgba(60, 64, 67, 0.3), 0 1px 3px 1px rgba(60, 64, 67, 0.15);\n",
              "    fill: var(--button-hover-fill-color);\n",
              "  }\n",
              "\n",
              "  .colab-df-quickchart-complete:disabled,\n",
              "  .colab-df-quickchart-complete:disabled:hover {\n",
              "    background-color: var(--disabled-bg-color);\n",
              "    fill: var(--disabled-fill-color);\n",
              "    box-shadow: none;\n",
              "  }\n",
              "\n",
              "  .colab-df-spinner {\n",
              "    border: 2px solid var(--fill-color);\n",
              "    border-color: transparent;\n",
              "    border-bottom-color: var(--fill-color);\n",
              "    animation:\n",
              "      spin 1s steps(1) infinite;\n",
              "  }\n",
              "\n",
              "  @keyframes spin {\n",
              "    0% {\n",
              "      border-color: transparent;\n",
              "      border-bottom-color: var(--fill-color);\n",
              "      border-left-color: var(--fill-color);\n",
              "    }\n",
              "    20% {\n",
              "      border-color: transparent;\n",
              "      border-left-color: var(--fill-color);\n",
              "      border-top-color: var(--fill-color);\n",
              "    }\n",
              "    30% {\n",
              "      border-color: transparent;\n",
              "      border-left-color: var(--fill-color);\n",
              "      border-top-color: var(--fill-color);\n",
              "      border-right-color: var(--fill-color);\n",
              "    }\n",
              "    40% {\n",
              "      border-color: transparent;\n",
              "      border-right-color: var(--fill-color);\n",
              "      border-top-color: var(--fill-color);\n",
              "    }\n",
              "    60% {\n",
              "      border-color: transparent;\n",
              "      border-right-color: var(--fill-color);\n",
              "    }\n",
              "    80% {\n",
              "      border-color: transparent;\n",
              "      border-right-color: var(--fill-color);\n",
              "      border-bottom-color: var(--fill-color);\n",
              "    }\n",
              "    90% {\n",
              "      border-color: transparent;\n",
              "      border-bottom-color: var(--fill-color);\n",
              "    }\n",
              "  }\n",
              "</style>\n",
              "\n",
              "  <script>\n",
              "    async function quickchart(key) {\n",
              "      const quickchartButtonEl =\n",
              "        document.querySelector('#' + key + ' button');\n",
              "      quickchartButtonEl.disabled = true;  // To prevent multiple clicks.\n",
              "      quickchartButtonEl.classList.add('colab-df-spinner');\n",
              "      try {\n",
              "        const charts = await google.colab.kernel.invokeFunction(\n",
              "            'suggestCharts', [key], {});\n",
              "      } catch (error) {\n",
              "        console.error('Error during call to suggestCharts:', error);\n",
              "      }\n",
              "      quickchartButtonEl.classList.remove('colab-df-spinner');\n",
              "      quickchartButtonEl.classList.add('colab-df-quickchart-complete');\n",
              "    }\n",
              "    (() => {\n",
              "      let quickchartButtonEl =\n",
              "        document.querySelector('#df-c23be228-0be7-4570-bb6f-1c0cfb19e718 button');\n",
              "      quickchartButtonEl.style.display =\n",
              "        google.colab.kernel.accessAllowed ? 'block' : 'none';\n",
              "    })();\n",
              "  </script>\n",
              "</div>\n",
              "\n",
              "    </div>\n",
              "  </div>\n"
            ],
            "application/vnd.google.colaboratory.intrinsic+json": {
              "type": "dataframe",
              "variable_name": "missing_ntas_df",
              "summary": "{\n  \"name\": \"missing_ntas_df\",\n  \"rows\": 61,\n  \"fields\": [\n    {\n      \"column\": \"Missing_NTAs\",\n      \"properties\": {\n        \"dtype\": \"string\",\n        \"num_unique_values\": 61,\n        \"samples\": [\n          \"Middle Village Cemetery\",\n          \"Astoria Park\",\n          \"Ferry Point Park-St. Raymond Cemetery\"\n        ],\n        \"semantic_type\": \"\",\n        \"description\": \"\"\n      }\n    }\n  ]\n}"
            }
          },
          "metadata": {},
          "execution_count": 12
        }
      ]
    },
    {
      "cell_type": "code",
      "source": [
        "#  Assign values to LSTSTATYPE\n",
        "# Define the mapping: 1 for constructed/permitted/under construction, 0 for marked/blanks\n",
        "value_mapping = {\n",
        "    'Constructed': 1,\n",
        "    'Permitted': 0.5,\n",
        "    'Under Construction': 0.75,\n",
        "    'Marked for Construction': 0.25,\n",
        "    '': 0  # Blank rows\n",
        "}"
      ],
      "metadata": {
        "id": "lbPX-PYiDgQl"
      },
      "execution_count": null,
      "outputs": []
    },
    {
      "cell_type": "code",
      "source": [
        "# Apply the mapping to the building dataset\n",
        "building_df['Value'] = building_df['LSTSTATYPE'].map(value_mapping)"
      ],
      "metadata": {
        "id": "X4kLOh1_J-MO"
      },
      "execution_count": null,
      "outputs": []
    },
    {
      "cell_type": "code",
      "source": [
        "# Calculate vulnerability value for each NTA\n",
        "# Multiply 'Value' by 'FREQUENCY' and group by 'Geography' (NTA name) to sum the values\n",
        "building_df['Weighted_Value'] = building_df['Value'] * building_df['FREQUENCY']\n",
        "\n",
        "# Group by Geography to calculate the total vulnerability value for each NTA\n",
        "vulnerability_df = building_df.groupby('ntaname')['Weighted_Value'].sum().reset_index()\n",
        "\n",
        "# Merge the vulnerability values back with the NTA dataset to include all NTAs\n",
        "final_df = pd.merge(nta_2020_df[['NTAName']], vulnerability_df, left_on='NTAName', right_on='ntaname', how='left')\n",
        "\n",
        "# Fill any missing vulnerability values with 0 (in case an NTA has no building data)\n",
        "final_df['Weighted_Value'].fillna(0, inplace=True)\n",
        "\n",
        "# Export the final result to Excel\n",
        "final_df.to_excel('building_recalculated_values_nta2020.xlsx', index=False)\n",
        "\n",
        "\n",
        "print(\"Vulnerability values calculated and exported to 'building_recalculated_values_nta2020.xlsx'.\")"
      ],
      "metadata": {
        "colab": {
          "base_uri": "https://localhost:8080/"
        },
        "id": "ggsHqQynDorY",
        "outputId": "8899ed7e-5bc2-4923-d9c3-e6a33ded74f2"
      },
      "execution_count": null,
      "outputs": [
        {
          "output_type": "stream",
          "name": "stdout",
          "text": [
            "Vulnerability values calculated and exported to 'building_recalculated_values_nta2020.xlsx'.\n"
          ]
        },
        {
          "output_type": "stream",
          "name": "stderr",
          "text": [
            "<ipython-input-15-0f086da39f21>:12: FutureWarning: A value is trying to be set on a copy of a DataFrame or Series through chained assignment using an inplace method.\n",
            "The behavior will change in pandas 3.0. This inplace method will never work because the intermediate object on which we are setting values always behaves as a copy.\n",
            "\n",
            "For example, when doing 'df[col].method(value, inplace=True)', try using 'df.method({col: value}, inplace=True)' or df[col] = df[col].method(value) instead, to perform the operation inplace on the original object.\n",
            "\n",
            "\n",
            "  final_df['Weighted_Value'].fillna(0, inplace=True)\n"
          ]
        }
      ]
    },
    {
      "cell_type": "code",
      "source": [
        "building_df.head()"
      ],
      "metadata": {
        "colab": {
          "base_uri": "https://localhost:8080/",
          "height": 206
        },
        "id": "Gy1Pnip9Elcr",
        "outputId": "6b8d11bf-841a-4e73-9093-c68e4d0d9d61"
      },
      "execution_count": null,
      "outputs": [
        {
          "output_type": "execute_result",
          "data": {
            "text/plain": [
              "   OBJECTID                           ntaname nta2020   LSTSTATYPE  FREQUENCY  \\\n",
              "0         1                               NaN     NaN  Constructed          2   \n",
              "1         2                          Allerton  BX1104  Constructed         14   \n",
              "2         3                 Astoria (Central)  QN0103  Constructed         25   \n",
              "3         4   Astoria (East)-Woodside (North)  QN0104  Constructed          7   \n",
              "4         5  Astoria (North)-Ditmars-Steinway  QN0101  Constructed         14   \n",
              "\n",
              "   COUNT_building_Select1_AddSpatialJoin.ntaname  Value  Weighted_Value  \n",
              "0                                            NaN    1.0             2.0  \n",
              "1                                           14.0    1.0            14.0  \n",
              "2                                           25.0    1.0            25.0  \n",
              "3                                            7.0    1.0             7.0  \n",
              "4                                           14.0    1.0            14.0  "
            ],
            "text/html": [
              "\n",
              "  <div id=\"df-3cc3b63b-b776-423a-aef0-db78a155d892\" class=\"colab-df-container\">\n",
              "    <div>\n",
              "<style scoped>\n",
              "    .dataframe tbody tr th:only-of-type {\n",
              "        vertical-align: middle;\n",
              "    }\n",
              "\n",
              "    .dataframe tbody tr th {\n",
              "        vertical-align: top;\n",
              "    }\n",
              "\n",
              "    .dataframe thead th {\n",
              "        text-align: right;\n",
              "    }\n",
              "</style>\n",
              "<table border=\"1\" class=\"dataframe\">\n",
              "  <thead>\n",
              "    <tr style=\"text-align: right;\">\n",
              "      <th></th>\n",
              "      <th>OBJECTID</th>\n",
              "      <th>ntaname</th>\n",
              "      <th>nta2020</th>\n",
              "      <th>LSTSTATYPE</th>\n",
              "      <th>FREQUENCY</th>\n",
              "      <th>COUNT_building_Select1_AddSpatialJoin.ntaname</th>\n",
              "      <th>Value</th>\n",
              "      <th>Weighted_Value</th>\n",
              "    </tr>\n",
              "  </thead>\n",
              "  <tbody>\n",
              "    <tr>\n",
              "      <th>0</th>\n",
              "      <td>1</td>\n",
              "      <td>NaN</td>\n",
              "      <td>NaN</td>\n",
              "      <td>Constructed</td>\n",
              "      <td>2</td>\n",
              "      <td>NaN</td>\n",
              "      <td>1.0</td>\n",
              "      <td>2.0</td>\n",
              "    </tr>\n",
              "    <tr>\n",
              "      <th>1</th>\n",
              "      <td>2</td>\n",
              "      <td>Allerton</td>\n",
              "      <td>BX1104</td>\n",
              "      <td>Constructed</td>\n",
              "      <td>14</td>\n",
              "      <td>14.0</td>\n",
              "      <td>1.0</td>\n",
              "      <td>14.0</td>\n",
              "    </tr>\n",
              "    <tr>\n",
              "      <th>2</th>\n",
              "      <td>3</td>\n",
              "      <td>Astoria (Central)</td>\n",
              "      <td>QN0103</td>\n",
              "      <td>Constructed</td>\n",
              "      <td>25</td>\n",
              "      <td>25.0</td>\n",
              "      <td>1.0</td>\n",
              "      <td>25.0</td>\n",
              "    </tr>\n",
              "    <tr>\n",
              "      <th>3</th>\n",
              "      <td>4</td>\n",
              "      <td>Astoria (East)-Woodside (North)</td>\n",
              "      <td>QN0104</td>\n",
              "      <td>Constructed</td>\n",
              "      <td>7</td>\n",
              "      <td>7.0</td>\n",
              "      <td>1.0</td>\n",
              "      <td>7.0</td>\n",
              "    </tr>\n",
              "    <tr>\n",
              "      <th>4</th>\n",
              "      <td>5</td>\n",
              "      <td>Astoria (North)-Ditmars-Steinway</td>\n",
              "      <td>QN0101</td>\n",
              "      <td>Constructed</td>\n",
              "      <td>14</td>\n",
              "      <td>14.0</td>\n",
              "      <td>1.0</td>\n",
              "      <td>14.0</td>\n",
              "    </tr>\n",
              "  </tbody>\n",
              "</table>\n",
              "</div>\n",
              "    <div class=\"colab-df-buttons\">\n",
              "\n",
              "  <div class=\"colab-df-container\">\n",
              "    <button class=\"colab-df-convert\" onclick=\"convertToInteractive('df-3cc3b63b-b776-423a-aef0-db78a155d892')\"\n",
              "            title=\"Convert this dataframe to an interactive table.\"\n",
              "            style=\"display:none;\">\n",
              "\n",
              "  <svg xmlns=\"http://www.w3.org/2000/svg\" height=\"24px\" viewBox=\"0 -960 960 960\">\n",
              "    <path d=\"M120-120v-720h720v720H120Zm60-500h600v-160H180v160Zm220 220h160v-160H400v160Zm0 220h160v-160H400v160ZM180-400h160v-160H180v160Zm440 0h160v-160H620v160ZM180-180h160v-160H180v160Zm440 0h160v-160H620v160Z\"/>\n",
              "  </svg>\n",
              "    </button>\n",
              "\n",
              "  <style>\n",
              "    .colab-df-container {\n",
              "      display:flex;\n",
              "      gap: 12px;\n",
              "    }\n",
              "\n",
              "    .colab-df-convert {\n",
              "      background-color: #E8F0FE;\n",
              "      border: none;\n",
              "      border-radius: 50%;\n",
              "      cursor: pointer;\n",
              "      display: none;\n",
              "      fill: #1967D2;\n",
              "      height: 32px;\n",
              "      padding: 0 0 0 0;\n",
              "      width: 32px;\n",
              "    }\n",
              "\n",
              "    .colab-df-convert:hover {\n",
              "      background-color: #E2EBFA;\n",
              "      box-shadow: 0px 1px 2px rgba(60, 64, 67, 0.3), 0px 1px 3px 1px rgba(60, 64, 67, 0.15);\n",
              "      fill: #174EA6;\n",
              "    }\n",
              "\n",
              "    .colab-df-buttons div {\n",
              "      margin-bottom: 4px;\n",
              "    }\n",
              "\n",
              "    [theme=dark] .colab-df-convert {\n",
              "      background-color: #3B4455;\n",
              "      fill: #D2E3FC;\n",
              "    }\n",
              "\n",
              "    [theme=dark] .colab-df-convert:hover {\n",
              "      background-color: #434B5C;\n",
              "      box-shadow: 0px 1px 3px 1px rgba(0, 0, 0, 0.15);\n",
              "      filter: drop-shadow(0px 1px 2px rgba(0, 0, 0, 0.3));\n",
              "      fill: #FFFFFF;\n",
              "    }\n",
              "  </style>\n",
              "\n",
              "    <script>\n",
              "      const buttonEl =\n",
              "        document.querySelector('#df-3cc3b63b-b776-423a-aef0-db78a155d892 button.colab-df-convert');\n",
              "      buttonEl.style.display =\n",
              "        google.colab.kernel.accessAllowed ? 'block' : 'none';\n",
              "\n",
              "      async function convertToInteractive(key) {\n",
              "        const element = document.querySelector('#df-3cc3b63b-b776-423a-aef0-db78a155d892');\n",
              "        const dataTable =\n",
              "          await google.colab.kernel.invokeFunction('convertToInteractive',\n",
              "                                                    [key], {});\n",
              "        if (!dataTable) return;\n",
              "\n",
              "        const docLinkHtml = 'Like what you see? Visit the ' +\n",
              "          '<a target=\"_blank\" href=https://colab.research.google.com/notebooks/data_table.ipynb>data table notebook</a>'\n",
              "          + ' to learn more about interactive tables.';\n",
              "        element.innerHTML = '';\n",
              "        dataTable['output_type'] = 'display_data';\n",
              "        await google.colab.output.renderOutput(dataTable, element);\n",
              "        const docLink = document.createElement('div');\n",
              "        docLink.innerHTML = docLinkHtml;\n",
              "        element.appendChild(docLink);\n",
              "      }\n",
              "    </script>\n",
              "  </div>\n",
              "\n",
              "\n",
              "<div id=\"df-30659935-d9e5-41b8-b883-ba18a4bf4ddd\">\n",
              "  <button class=\"colab-df-quickchart\" onclick=\"quickchart('df-30659935-d9e5-41b8-b883-ba18a4bf4ddd')\"\n",
              "            title=\"Suggest charts\"\n",
              "            style=\"display:none;\">\n",
              "\n",
              "<svg xmlns=\"http://www.w3.org/2000/svg\" height=\"24px\"viewBox=\"0 0 24 24\"\n",
              "     width=\"24px\">\n",
              "    <g>\n",
              "        <path d=\"M19 3H5c-1.1 0-2 .9-2 2v14c0 1.1.9 2 2 2h14c1.1 0 2-.9 2-2V5c0-1.1-.9-2-2-2zM9 17H7v-7h2v7zm4 0h-2V7h2v10zm4 0h-2v-4h2v4z\"/>\n",
              "    </g>\n",
              "</svg>\n",
              "  </button>\n",
              "\n",
              "<style>\n",
              "  .colab-df-quickchart {\n",
              "      --bg-color: #E8F0FE;\n",
              "      --fill-color: #1967D2;\n",
              "      --hover-bg-color: #E2EBFA;\n",
              "      --hover-fill-color: #174EA6;\n",
              "      --disabled-fill-color: #AAA;\n",
              "      --disabled-bg-color: #DDD;\n",
              "  }\n",
              "\n",
              "  [theme=dark] .colab-df-quickchart {\n",
              "      --bg-color: #3B4455;\n",
              "      --fill-color: #D2E3FC;\n",
              "      --hover-bg-color: #434B5C;\n",
              "      --hover-fill-color: #FFFFFF;\n",
              "      --disabled-bg-color: #3B4455;\n",
              "      --disabled-fill-color: #666;\n",
              "  }\n",
              "\n",
              "  .colab-df-quickchart {\n",
              "    background-color: var(--bg-color);\n",
              "    border: none;\n",
              "    border-radius: 50%;\n",
              "    cursor: pointer;\n",
              "    display: none;\n",
              "    fill: var(--fill-color);\n",
              "    height: 32px;\n",
              "    padding: 0;\n",
              "    width: 32px;\n",
              "  }\n",
              "\n",
              "  .colab-df-quickchart:hover {\n",
              "    background-color: var(--hover-bg-color);\n",
              "    box-shadow: 0 1px 2px rgba(60, 64, 67, 0.3), 0 1px 3px 1px rgba(60, 64, 67, 0.15);\n",
              "    fill: var(--button-hover-fill-color);\n",
              "  }\n",
              "\n",
              "  .colab-df-quickchart-complete:disabled,\n",
              "  .colab-df-quickchart-complete:disabled:hover {\n",
              "    background-color: var(--disabled-bg-color);\n",
              "    fill: var(--disabled-fill-color);\n",
              "    box-shadow: none;\n",
              "  }\n",
              "\n",
              "  .colab-df-spinner {\n",
              "    border: 2px solid var(--fill-color);\n",
              "    border-color: transparent;\n",
              "    border-bottom-color: var(--fill-color);\n",
              "    animation:\n",
              "      spin 1s steps(1) infinite;\n",
              "  }\n",
              "\n",
              "  @keyframes spin {\n",
              "    0% {\n",
              "      border-color: transparent;\n",
              "      border-bottom-color: var(--fill-color);\n",
              "      border-left-color: var(--fill-color);\n",
              "    }\n",
              "    20% {\n",
              "      border-color: transparent;\n",
              "      border-left-color: var(--fill-color);\n",
              "      border-top-color: var(--fill-color);\n",
              "    }\n",
              "    30% {\n",
              "      border-color: transparent;\n",
              "      border-left-color: var(--fill-color);\n",
              "      border-top-color: var(--fill-color);\n",
              "      border-right-color: var(--fill-color);\n",
              "    }\n",
              "    40% {\n",
              "      border-color: transparent;\n",
              "      border-right-color: var(--fill-color);\n",
              "      border-top-color: var(--fill-color);\n",
              "    }\n",
              "    60% {\n",
              "      border-color: transparent;\n",
              "      border-right-color: var(--fill-color);\n",
              "    }\n",
              "    80% {\n",
              "      border-color: transparent;\n",
              "      border-right-color: var(--fill-color);\n",
              "      border-bottom-color: var(--fill-color);\n",
              "    }\n",
              "    90% {\n",
              "      border-color: transparent;\n",
              "      border-bottom-color: var(--fill-color);\n",
              "    }\n",
              "  }\n",
              "</style>\n",
              "\n",
              "  <script>\n",
              "    async function quickchart(key) {\n",
              "      const quickchartButtonEl =\n",
              "        document.querySelector('#' + key + ' button');\n",
              "      quickchartButtonEl.disabled = true;  // To prevent multiple clicks.\n",
              "      quickchartButtonEl.classList.add('colab-df-spinner');\n",
              "      try {\n",
              "        const charts = await google.colab.kernel.invokeFunction(\n",
              "            'suggestCharts', [key], {});\n",
              "      } catch (error) {\n",
              "        console.error('Error during call to suggestCharts:', error);\n",
              "      }\n",
              "      quickchartButtonEl.classList.remove('colab-df-spinner');\n",
              "      quickchartButtonEl.classList.add('colab-df-quickchart-complete');\n",
              "    }\n",
              "    (() => {\n",
              "      let quickchartButtonEl =\n",
              "        document.querySelector('#df-30659935-d9e5-41b8-b883-ba18a4bf4ddd button');\n",
              "      quickchartButtonEl.style.display =\n",
              "        google.colab.kernel.accessAllowed ? 'block' : 'none';\n",
              "    })();\n",
              "  </script>\n",
              "</div>\n",
              "\n",
              "    </div>\n",
              "  </div>\n"
            ],
            "application/vnd.google.colaboratory.intrinsic+json": {
              "type": "dataframe",
              "variable_name": "building_df",
              "summary": "{\n  \"name\": \"building_df\",\n  \"rows\": 210,\n  \"fields\": [\n    {\n      \"column\": \"OBJECTID\",\n      \"properties\": {\n        \"dtype\": \"number\",\n        \"std\": 60,\n        \"min\": 1,\n        \"max\": 210,\n        \"num_unique_values\": 210,\n        \"samples\": [\n          31,\n          173,\n          85\n        ],\n        \"semantic_type\": \"\",\n        \"description\": \"\"\n      }\n    },\n    {\n      \"column\": \"ntaname\",\n      \"properties\": {\n        \"dtype\": \"string\",\n        \"num_unique_values\": 201,\n        \"samples\": [\n          \"Jamaica Estates-Holliswood\",\n          \"Bensonhurst\",\n          \"Chinatown-Two Bridges\"\n        ],\n        \"semantic_type\": \"\",\n        \"description\": \"\"\n      }\n    },\n    {\n      \"column\": \"nta2020\",\n      \"properties\": {\n        \"dtype\": \"string\",\n        \"num_unique_values\": 201,\n        \"samples\": [\n          \"QN0804\",\n          \"BK1101\",\n          \"MN0301\"\n        ],\n        \"semantic_type\": \"\",\n        \"description\": \"\"\n      }\n    },\n    {\n      \"column\": \"LSTSTATYPE\",\n      \"properties\": {\n        \"dtype\": \"category\",\n        \"num_unique_values\": 5,\n        \"samples\": [\n          \"Permitted\",\n          \"Marked for Construction\",\n          \"Under Construction\"\n        ],\n        \"semantic_type\": \"\",\n        \"description\": \"\"\n      }\n    },\n    {\n      \"column\": \"FREQUENCY\",\n      \"properties\": {\n        \"dtype\": \"number\",\n        \"std\": 137,\n        \"min\": 1,\n        \"max\": 991,\n        \"num_unique_values\": 89,\n        \"samples\": [\n          3,\n          246,\n          6\n        ],\n        \"semantic_type\": \"\",\n        \"description\": \"\"\n      }\n    },\n    {\n      \"column\": \"COUNT_building_Select1_AddSpatialJoin.ntaname\",\n      \"properties\": {\n        \"dtype\": \"number\",\n        \"std\": 137.89931611099192,\n        \"min\": 1.0,\n        \"max\": 991.0,\n        \"num_unique_values\": 89,\n        \"samples\": [\n          3.0,\n          246.0,\n          6.0\n        ],\n        \"semantic_type\": \"\",\n        \"description\": \"\"\n      }\n    },\n    {\n      \"column\": \"Value\",\n      \"properties\": {\n        \"dtype\": \"number\",\n        \"std\": 0.11923106604733494,\n        \"min\": 0.0,\n        \"max\": 1.0,\n        \"num_unique_values\": 2,\n        \"samples\": [\n          0.0,\n          1.0\n        ],\n        \"semantic_type\": \"\",\n        \"description\": \"\"\n      }\n    },\n    {\n      \"column\": \"Weighted_Value\",\n      \"properties\": {\n        \"dtype\": \"number\",\n        \"std\": 137.904024476718,\n        \"min\": 0.0,\n        \"max\": 991.0,\n        \"num_unique_values\": 90,\n        \"samples\": [\n          337.0,\n          47.0\n        ],\n        \"semantic_type\": \"\",\n        \"description\": \"\"\n      }\n    }\n  ]\n}"
            }
          },
          "metadata": {},
          "execution_count": 15
        }
      ]
    },
    {
      "cell_type": "code",
      "source": [
        "vulnerability_df.head()"
      ],
      "metadata": {
        "colab": {
          "base_uri": "https://localhost:8080/",
          "height": 206
        },
        "id": "N_byJEcJDokz",
        "outputId": "8456113d-dfee-41c1-a4ff-0fba3b9bf2f2"
      },
      "execution_count": null,
      "outputs": [
        {
          "output_type": "execute_result",
          "data": {
            "text/plain": [
              "  nta2020  Weighted_Value\n",
              "0  BK0101            23.0\n",
              "1  BK0102           117.0\n",
              "2  BK0103           131.0\n",
              "3  BK0104            52.0\n",
              "4  BK0201           117.0"
            ],
            "text/html": [
              "\n",
              "  <div id=\"df-8f2577a2-4ac9-4a0c-b821-a83131bd0751\" class=\"colab-df-container\">\n",
              "    <div>\n",
              "<style scoped>\n",
              "    .dataframe tbody tr th:only-of-type {\n",
              "        vertical-align: middle;\n",
              "    }\n",
              "\n",
              "    .dataframe tbody tr th {\n",
              "        vertical-align: top;\n",
              "    }\n",
              "\n",
              "    .dataframe thead th {\n",
              "        text-align: right;\n",
              "    }\n",
              "</style>\n",
              "<table border=\"1\" class=\"dataframe\">\n",
              "  <thead>\n",
              "    <tr style=\"text-align: right;\">\n",
              "      <th></th>\n",
              "      <th>nta2020</th>\n",
              "      <th>Weighted_Value</th>\n",
              "    </tr>\n",
              "  </thead>\n",
              "  <tbody>\n",
              "    <tr>\n",
              "      <th>0</th>\n",
              "      <td>BK0101</td>\n",
              "      <td>23.0</td>\n",
              "    </tr>\n",
              "    <tr>\n",
              "      <th>1</th>\n",
              "      <td>BK0102</td>\n",
              "      <td>117.0</td>\n",
              "    </tr>\n",
              "    <tr>\n",
              "      <th>2</th>\n",
              "      <td>BK0103</td>\n",
              "      <td>131.0</td>\n",
              "    </tr>\n",
              "    <tr>\n",
              "      <th>3</th>\n",
              "      <td>BK0104</td>\n",
              "      <td>52.0</td>\n",
              "    </tr>\n",
              "    <tr>\n",
              "      <th>4</th>\n",
              "      <td>BK0201</td>\n",
              "      <td>117.0</td>\n",
              "    </tr>\n",
              "  </tbody>\n",
              "</table>\n",
              "</div>\n",
              "    <div class=\"colab-df-buttons\">\n",
              "\n",
              "  <div class=\"colab-df-container\">\n",
              "    <button class=\"colab-df-convert\" onclick=\"convertToInteractive('df-8f2577a2-4ac9-4a0c-b821-a83131bd0751')\"\n",
              "            title=\"Convert this dataframe to an interactive table.\"\n",
              "            style=\"display:none;\">\n",
              "\n",
              "  <svg xmlns=\"http://www.w3.org/2000/svg\" height=\"24px\" viewBox=\"0 -960 960 960\">\n",
              "    <path d=\"M120-120v-720h720v720H120Zm60-500h600v-160H180v160Zm220 220h160v-160H400v160Zm0 220h160v-160H400v160ZM180-400h160v-160H180v160Zm440 0h160v-160H620v160ZM180-180h160v-160H180v160Zm440 0h160v-160H620v160Z\"/>\n",
              "  </svg>\n",
              "    </button>\n",
              "\n",
              "  <style>\n",
              "    .colab-df-container {\n",
              "      display:flex;\n",
              "      gap: 12px;\n",
              "    }\n",
              "\n",
              "    .colab-df-convert {\n",
              "      background-color: #E8F0FE;\n",
              "      border: none;\n",
              "      border-radius: 50%;\n",
              "      cursor: pointer;\n",
              "      display: none;\n",
              "      fill: #1967D2;\n",
              "      height: 32px;\n",
              "      padding: 0 0 0 0;\n",
              "      width: 32px;\n",
              "    }\n",
              "\n",
              "    .colab-df-convert:hover {\n",
              "      background-color: #E2EBFA;\n",
              "      box-shadow: 0px 1px 2px rgba(60, 64, 67, 0.3), 0px 1px 3px 1px rgba(60, 64, 67, 0.15);\n",
              "      fill: #174EA6;\n",
              "    }\n",
              "\n",
              "    .colab-df-buttons div {\n",
              "      margin-bottom: 4px;\n",
              "    }\n",
              "\n",
              "    [theme=dark] .colab-df-convert {\n",
              "      background-color: #3B4455;\n",
              "      fill: #D2E3FC;\n",
              "    }\n",
              "\n",
              "    [theme=dark] .colab-df-convert:hover {\n",
              "      background-color: #434B5C;\n",
              "      box-shadow: 0px 1px 3px 1px rgba(0, 0, 0, 0.15);\n",
              "      filter: drop-shadow(0px 1px 2px rgba(0, 0, 0, 0.3));\n",
              "      fill: #FFFFFF;\n",
              "    }\n",
              "  </style>\n",
              "\n",
              "    <script>\n",
              "      const buttonEl =\n",
              "        document.querySelector('#df-8f2577a2-4ac9-4a0c-b821-a83131bd0751 button.colab-df-convert');\n",
              "      buttonEl.style.display =\n",
              "        google.colab.kernel.accessAllowed ? 'block' : 'none';\n",
              "\n",
              "      async function convertToInteractive(key) {\n",
              "        const element = document.querySelector('#df-8f2577a2-4ac9-4a0c-b821-a83131bd0751');\n",
              "        const dataTable =\n",
              "          await google.colab.kernel.invokeFunction('convertToInteractive',\n",
              "                                                    [key], {});\n",
              "        if (!dataTable) return;\n",
              "\n",
              "        const docLinkHtml = 'Like what you see? Visit the ' +\n",
              "          '<a target=\"_blank\" href=https://colab.research.google.com/notebooks/data_table.ipynb>data table notebook</a>'\n",
              "          + ' to learn more about interactive tables.';\n",
              "        element.innerHTML = '';\n",
              "        dataTable['output_type'] = 'display_data';\n",
              "        await google.colab.output.renderOutput(dataTable, element);\n",
              "        const docLink = document.createElement('div');\n",
              "        docLink.innerHTML = docLinkHtml;\n",
              "        element.appendChild(docLink);\n",
              "      }\n",
              "    </script>\n",
              "  </div>\n",
              "\n",
              "\n",
              "<div id=\"df-ad849411-6d95-44f4-8b72-bcc65667119a\">\n",
              "  <button class=\"colab-df-quickchart\" onclick=\"quickchart('df-ad849411-6d95-44f4-8b72-bcc65667119a')\"\n",
              "            title=\"Suggest charts\"\n",
              "            style=\"display:none;\">\n",
              "\n",
              "<svg xmlns=\"http://www.w3.org/2000/svg\" height=\"24px\"viewBox=\"0 0 24 24\"\n",
              "     width=\"24px\">\n",
              "    <g>\n",
              "        <path d=\"M19 3H5c-1.1 0-2 .9-2 2v14c0 1.1.9 2 2 2h14c1.1 0 2-.9 2-2V5c0-1.1-.9-2-2-2zM9 17H7v-7h2v7zm4 0h-2V7h2v10zm4 0h-2v-4h2v4z\"/>\n",
              "    </g>\n",
              "</svg>\n",
              "  </button>\n",
              "\n",
              "<style>\n",
              "  .colab-df-quickchart {\n",
              "      --bg-color: #E8F0FE;\n",
              "      --fill-color: #1967D2;\n",
              "      --hover-bg-color: #E2EBFA;\n",
              "      --hover-fill-color: #174EA6;\n",
              "      --disabled-fill-color: #AAA;\n",
              "      --disabled-bg-color: #DDD;\n",
              "  }\n",
              "\n",
              "  [theme=dark] .colab-df-quickchart {\n",
              "      --bg-color: #3B4455;\n",
              "      --fill-color: #D2E3FC;\n",
              "      --hover-bg-color: #434B5C;\n",
              "      --hover-fill-color: #FFFFFF;\n",
              "      --disabled-bg-color: #3B4455;\n",
              "      --disabled-fill-color: #666;\n",
              "  }\n",
              "\n",
              "  .colab-df-quickchart {\n",
              "    background-color: var(--bg-color);\n",
              "    border: none;\n",
              "    border-radius: 50%;\n",
              "    cursor: pointer;\n",
              "    display: none;\n",
              "    fill: var(--fill-color);\n",
              "    height: 32px;\n",
              "    padding: 0;\n",
              "    width: 32px;\n",
              "  }\n",
              "\n",
              "  .colab-df-quickchart:hover {\n",
              "    background-color: var(--hover-bg-color);\n",
              "    box-shadow: 0 1px 2px rgba(60, 64, 67, 0.3), 0 1px 3px 1px rgba(60, 64, 67, 0.15);\n",
              "    fill: var(--button-hover-fill-color);\n",
              "  }\n",
              "\n",
              "  .colab-df-quickchart-complete:disabled,\n",
              "  .colab-df-quickchart-complete:disabled:hover {\n",
              "    background-color: var(--disabled-bg-color);\n",
              "    fill: var(--disabled-fill-color);\n",
              "    box-shadow: none;\n",
              "  }\n",
              "\n",
              "  .colab-df-spinner {\n",
              "    border: 2px solid var(--fill-color);\n",
              "    border-color: transparent;\n",
              "    border-bottom-color: var(--fill-color);\n",
              "    animation:\n",
              "      spin 1s steps(1) infinite;\n",
              "  }\n",
              "\n",
              "  @keyframes spin {\n",
              "    0% {\n",
              "      border-color: transparent;\n",
              "      border-bottom-color: var(--fill-color);\n",
              "      border-left-color: var(--fill-color);\n",
              "    }\n",
              "    20% {\n",
              "      border-color: transparent;\n",
              "      border-left-color: var(--fill-color);\n",
              "      border-top-color: var(--fill-color);\n",
              "    }\n",
              "    30% {\n",
              "      border-color: transparent;\n",
              "      border-left-color: var(--fill-color);\n",
              "      border-top-color: var(--fill-color);\n",
              "      border-right-color: var(--fill-color);\n",
              "    }\n",
              "    40% {\n",
              "      border-color: transparent;\n",
              "      border-right-color: var(--fill-color);\n",
              "      border-top-color: var(--fill-color);\n",
              "    }\n",
              "    60% {\n",
              "      border-color: transparent;\n",
              "      border-right-color: var(--fill-color);\n",
              "    }\n",
              "    80% {\n",
              "      border-color: transparent;\n",
              "      border-right-color: var(--fill-color);\n",
              "      border-bottom-color: var(--fill-color);\n",
              "    }\n",
              "    90% {\n",
              "      border-color: transparent;\n",
              "      border-bottom-color: var(--fill-color);\n",
              "    }\n",
              "  }\n",
              "</style>\n",
              "\n",
              "  <script>\n",
              "    async function quickchart(key) {\n",
              "      const quickchartButtonEl =\n",
              "        document.querySelector('#' + key + ' button');\n",
              "      quickchartButtonEl.disabled = true;  // To prevent multiple clicks.\n",
              "      quickchartButtonEl.classList.add('colab-df-spinner');\n",
              "      try {\n",
              "        const charts = await google.colab.kernel.invokeFunction(\n",
              "            'suggestCharts', [key], {});\n",
              "      } catch (error) {\n",
              "        console.error('Error during call to suggestCharts:', error);\n",
              "      }\n",
              "      quickchartButtonEl.classList.remove('colab-df-spinner');\n",
              "      quickchartButtonEl.classList.add('colab-df-quickchart-complete');\n",
              "    }\n",
              "    (() => {\n",
              "      let quickchartButtonEl =\n",
              "        document.querySelector('#df-ad849411-6d95-44f4-8b72-bcc65667119a button');\n",
              "      quickchartButtonEl.style.display =\n",
              "        google.colab.kernel.accessAllowed ? 'block' : 'none';\n",
              "    })();\n",
              "  </script>\n",
              "</div>\n",
              "\n",
              "    </div>\n",
              "  </div>\n"
            ],
            "application/vnd.google.colaboratory.intrinsic+json": {
              "type": "dataframe",
              "variable_name": "vulnerability_df",
              "summary": "{\n  \"name\": \"vulnerability_df\",\n  \"rows\": 201,\n  \"fields\": [\n    {\n      \"column\": \"nta2020\",\n      \"properties\": {\n        \"dtype\": \"string\",\n        \"num_unique_values\": 201,\n        \"samples\": [\n          \"MN0101\",\n          \"BK0503\",\n          \"BK1061\"\n        ],\n        \"semantic_type\": \"\",\n        \"description\": \"\"\n      }\n    },\n    {\n      \"column\": \"Weighted_Value\",\n      \"properties\": {\n        \"dtype\": \"number\",\n        \"std\": 140.08936504604827,\n        \"min\": 1.0,\n        \"max\": 993.0,\n        \"num_unique_values\": 89,\n        \"samples\": [\n          35.0,\n          176.0,\n          27.0\n        ],\n        \"semantic_type\": \"\",\n        \"description\": \"\"\n      }\n    }\n  ]\n}"
            }
          },
          "metadata": {},
          "execution_count": 16
        }
      ]
    },
    {
      "cell_type": "markdown",
      "source": [
        "#### Independent Living Difficulty (adults)"
      ],
      "metadata": {
        "id": "gbJ_2TTRCmNm"
      }
    },
    {
      "cell_type": "code",
      "source": [
        "ind_dif_2020_df = pd.read_csv('NYC EH Data Portal - Independent living difficulty (adults) (filtered)_2020 (num).csv')"
      ],
      "metadata": {
        "id": "Bnx9qz3RCmoc"
      },
      "execution_count": null,
      "outputs": []
    },
    {
      "cell_type": "code",
      "source": [
        "# standardize column names for comparison\n",
        "nta_2020_df['NTAName'] = nta_2020_df['NTAName'].str.strip()\n",
        "ind_dif_2020_df['Geography'] = ind_dif_2020_df['Geography'].str.strip()"
      ],
      "metadata": {
        "id": "0r1ur0ZJCnHT"
      },
      "execution_count": null,
      "outputs": []
    },
    {
      "cell_type": "code",
      "source": [
        "# Find missing NTA names in the rent-burdened households file\n",
        "missing_ntas = nta_2020_df[~nta_2020_df['NTAName'].isin(ind_dif_2020_df['Geography'])]\n",
        "missing_ntas_list = missing_ntas['NTAName'].tolist()\n",
        "\n",
        "# Print missing NTA names\n",
        "print(f\"Missing NTA Names in eviction_df under data: {missing_ntas_list}\")"
      ],
      "metadata": {
        "colab": {
          "base_uri": "https://localhost:8080/"
        },
        "id": "kJBZI22BCnat",
        "outputId": "d07dc004-58e3-4e08-d796-3bc90fcee960"
      },
      "execution_count": null,
      "outputs": [
        {
          "output_type": "stream",
          "name": "stdout",
          "text": [
            "Missing NTA Names in eviction_df under data: ['Brooklyn Navy Yard', 'The Evergreens Cemetery', 'Highland Park-Cypress Hills Cemeteries (South)', 'Green-Wood Cemetery', 'Lincoln Terrace Park', 'Fort Hamilton', 'Dyker Beach Park', 'Calvert Vaux Park', 'Holy Cross Cemetery', 'Marine Park-Plumb Island', 'McGuire Fields', 'Canarsie Park & Pier', 'Prospect Park', 'Barren Island-Floyd Bennett Field', 'Jamaica Bay (West)', 'Shirley Chisholm State Park', 'North & South Brother Islands', 'Crotona Park', 'Yankee Stadium-Macombs Dam Park', 'Claremont Park', 'Soundview Park', 'Hart Island', 'Ferry Point Park-St. Raymond Cemetery', 'Hutchinson Metro Center', 'Woodlawn Cemetery', 'Van Cortlandt Park', 'Bronx Park', 'Pelham Bay Park', 'The Battery-Governors Island-Ellis Island-Liberty Island', 'United Nations', \"Randall's Island\", 'Highbridge Park', 'Inwood Hill Park', 'Central Park', 'Rikers Island', 'Sunnyside Yards (North)', \"St. Michael's Cemetery\", 'Astoria Park', 'Sunnyside Yards (South)', 'Calvary & Mount Zion Cemeteries', 'Mount Olivet & All Faiths Cemeteries', 'Middle Village Cemetery', 'St. John Cemetery', 'Highland Park-Cypress Hills Cemeteries (North)', 'Fort Totten', 'Kissena Park', 'Mount Hebron & Cedar Grove Cemeteries', 'Cunningham Park', 'Spring Creek Park', 'Alley Pond Park', 'Montefiore Cemetery', 'Rockaway Community Park', 'LaGuardia Airport', 'Flushing Meadows-Corona Park', 'Forest Park', 'John F. Kennedy International Airport', 'Jamaica Bay (East)', 'Jacob Riis Park-Fort Tilden-Breezy Point Tip', 'Snug Harbor', 'Freshkills Park (North)', 'Freshkills Park (South)', 'Fort Wadsworth', 'Hoffman & Swinburne Islands', 'Miller Field', 'Great Kills Park']\n"
          ]
        }
      ]
    },
    {
      "cell_type": "code",
      "source": [
        "# Calculate the average percent for each NTA based on available time periods\n",
        "# Group by Geography (NTA) and calculate the average percent\n",
        "ind_dif_2020_df_avg = ind_dif_2020_df.groupby('Geography').apply(\n",
        "    lambda x: x['Percent'].mean()\n",
        ").reset_index(name='Average_Individual_Level_Dif_Percent')"
      ],
      "metadata": {
        "colab": {
          "base_uri": "https://localhost:8080/"
        },
        "id": "HgWWW3LhDNkq",
        "outputId": "b0b44bf3-e661-4b59-8550-92e8208aa587"
      },
      "execution_count": null,
      "outputs": [
        {
          "output_type": "stream",
          "name": "stderr",
          "text": [
            "<ipython-input-16-f5a91cf0ce23>:3: DeprecationWarning: DataFrameGroupBy.apply operated on the grouping columns. This behavior is deprecated, and in a future version of pandas the grouping columns will be excluded from the operation. Either pass `include_groups=False` to exclude the groupings or explicitly select the grouping columns after groupby to silence this warning.\n",
            "  ind_dif_2020_df_avg = ind_dif_2020_df.groupby('Geography').apply(\n"
          ]
        }
      ]
    },
    {
      "cell_type": "code",
      "source": [
        "# Merge the average percent data with the NTA data\n",
        "merged_df = pd.merge(nta_2020_df, ind_dif_2020_df_avg, left_on='NTAName', right_on='Geography', how='left')\n",
        "\n",
        "# Export the final dataframe to an Excel file\n",
        "merged_df.to_excel('ind_dif_2020_df.xlsx', index=False)\n",
        "\n",
        "print(\"Export completed: 'ind_dif_2020_df.xlsx'\")"
      ],
      "metadata": {
        "colab": {
          "base_uri": "https://localhost:8080/"
        },
        "id": "KnlNIgsoDNR2",
        "outputId": "b253b74f-e422-4088-a0af-c239c3eebb7a"
      },
      "execution_count": null,
      "outputs": [
        {
          "output_type": "stream",
          "name": "stdout",
          "text": [
            "Export completed: 'ind_dif_2020_df.xlsx'\n"
          ]
        }
      ]
    },
    {
      "cell_type": "markdown",
      "source": [
        "#### Graduated High-school"
      ],
      "metadata": {
        "id": "ZQnkAWQp9kdD"
      }
    },
    {
      "cell_type": "code",
      "source": [
        "grad_high_2020_df = pd.read_csv('NYC EH Data Portal - Graduated high school (filtered)_2020 (num).csv')"
      ],
      "metadata": {
        "id": "p5aO2-_w9lBT"
      },
      "execution_count": null,
      "outputs": []
    },
    {
      "cell_type": "code",
      "source": [
        "# Standardize column names for comparison\n",
        "nta_2020_df['NTAName'] = nta_2020_df['NTAName'].str.strip()\n",
        "grad_high_2020_df['Geography'] = grad_high_2020_df['Geography'].str.strip()"
      ],
      "metadata": {
        "id": "8qb0xB3Z9w6q"
      },
      "execution_count": null,
      "outputs": []
    },
    {
      "cell_type": "code",
      "source": [
        "# Find missing NTA names in the rent-burdened households file\n",
        "missing_ntas = nta_2020_df[~nta_2020_df['NTAName'].isin(grad_high_2020_df['Geography'])]\n",
        "missing_ntas_list = missing_ntas['NTAName'].tolist()\n",
        "\n",
        "# Print missing NTA names\n",
        "print(f\"Missing NTA Names in eviction_df under data: {missing_ntas_list}\")"
      ],
      "metadata": {
        "colab": {
          "base_uri": "https://localhost:8080/"
        },
        "id": "SX268Y3N9l7Q",
        "outputId": "910d6192-bd74-45a1-b602-6dcbb43f3f86"
      },
      "execution_count": null,
      "outputs": [
        {
          "output_type": "stream",
          "name": "stdout",
          "text": [
            "Missing NTA Names in eviction_df under data: ['Brooklyn Navy Yard', 'The Evergreens Cemetery', 'Highland Park-Cypress Hills Cemeteries (South)', 'Green-Wood Cemetery', 'Lincoln Terrace Park', 'Fort Hamilton', 'Dyker Beach Park', 'Calvert Vaux Park', 'Holy Cross Cemetery', 'Marine Park-Plumb Island', 'McGuire Fields', 'Canarsie Park & Pier', 'Prospect Park', 'Barren Island-Floyd Bennett Field', 'Jamaica Bay (West)', 'Shirley Chisholm State Park', 'North & South Brother Islands', 'Crotona Park', 'Yankee Stadium-Macombs Dam Park', 'Claremont Park', 'Soundview Park', 'Hart Island', 'Ferry Point Park-St. Raymond Cemetery', 'Hutchinson Metro Center', 'Woodlawn Cemetery', 'Van Cortlandt Park', 'Bronx Park', 'Pelham Bay Park', 'The Battery-Governors Island-Ellis Island-Liberty Island', 'United Nations', \"Randall's Island\", 'Highbridge Park', 'Inwood Hill Park', 'Central Park', 'Rikers Island', 'Sunnyside Yards (North)', \"St. Michael's Cemetery\", 'Astoria Park', 'Sunnyside Yards (South)', 'Calvary & Mount Zion Cemeteries', 'Mount Olivet & All Faiths Cemeteries', 'Middle Village Cemetery', 'St. John Cemetery', 'Highland Park-Cypress Hills Cemeteries (North)', 'Fort Totten', 'Kissena Park', 'Mount Hebron & Cedar Grove Cemeteries', 'Cunningham Park', 'Spring Creek Park', 'Alley Pond Park', 'Montefiore Cemetery', 'Rockaway Community Park', 'LaGuardia Airport', 'Flushing Meadows-Corona Park', 'Forest Park', 'John F. Kennedy International Airport', 'Jamaica Bay (East)', 'Jacob Riis Park-Fort Tilden-Breezy Point Tip', 'Snug Harbor', 'Freshkills Park (North)', 'Freshkills Park (South)', 'Fort Wadsworth', 'Hoffman & Swinburne Islands', 'Miller Field', 'Great Kills Park']\n"
          ]
        }
      ]
    },
    {
      "cell_type": "code",
      "source": [
        "# Calculate the average percent for each NTA based on available time periods\n",
        "# Group by Geography (NTA) and calculate the average percent\n",
        "grad_high_2020_df_avg = grad_high_2020_df.groupby('Geography').apply(\n",
        "    lambda x: x['Percent'].mean()\n",
        ").reset_index(name='Average_Grad_High_Percent')"
      ],
      "metadata": {
        "colab": {
          "base_uri": "https://localhost:8080/"
        },
        "id": "RAJ2TBZu-Grp",
        "outputId": "6f2ef798-20ec-465a-e812-d522682caab3"
      },
      "execution_count": null,
      "outputs": [
        {
          "output_type": "stream",
          "name": "stderr",
          "text": [
            "<ipython-input-9-ffd62a158c82>:3: DeprecationWarning: DataFrameGroupBy.apply operated on the grouping columns. This behavior is deprecated, and in a future version of pandas the grouping columns will be excluded from the operation. Either pass `include_groups=False` to exclude the groupings or explicitly select the grouping columns after groupby to silence this warning.\n",
            "  grad_high_2020_df_avg = grad_high_2020_df.groupby('Geography').apply(\n"
          ]
        }
      ]
    },
    {
      "cell_type": "code",
      "source": [
        "# Merge the average percent data with the NTA data\n",
        "merged_df = pd.merge(nta_2020_df, grad_high_2020_df_avg, left_on='NTAName', right_on='Geography', how='left')\n",
        "\n",
        "# Export the final dataframe to an Excel file\n",
        "merged_df.to_excel('grad_high_2020_df.xlsx', index=False)\n",
        "\n",
        "print(\"Export completed: 'grad_high_2020_df.xlsx'\")"
      ],
      "metadata": {
        "colab": {
          "base_uri": "https://localhost:8080/"
        },
        "id": "Gq5qHy3g-GAZ",
        "outputId": "eab1780e-1f9b-4b17-8ae9-7e9c84297522"
      },
      "execution_count": null,
      "outputs": [
        {
          "output_type": "stream",
          "name": "stdout",
          "text": [
            "Export completed: 'grad_high_2020_df.xlsx'\n"
          ]
        }
      ]
    },
    {
      "cell_type": "markdown",
      "source": [
        "#### Limited English"
      ],
      "metadata": {
        "id": "lJC23eIR9VB8"
      }
    },
    {
      "cell_type": "code",
      "source": [
        "limited_english_df = pd.read_csv('NYC EH Data Portal - Limited English (filtered)_2020 (num).csv')"
      ],
      "metadata": {
        "id": "9DPLZTHx9VeG"
      },
      "execution_count": null,
      "outputs": []
    },
    {
      "cell_type": "code",
      "source": [
        "# Standardize column names for comparison\n",
        "nta_2020_df['NTAName'] = nta_2020_df['NTAName'].str.strip()\n",
        "limited_english_df['Geography'] = limited_english_df['Geography'].str.strip()"
      ],
      "metadata": {
        "id": "TrWsA9KZ9V_7"
      },
      "execution_count": null,
      "outputs": []
    },
    {
      "cell_type": "code",
      "source": [
        "# Find missing NTA names in the rent-burdened households file\n",
        "missing_ntas = nta_2020_df[~nta_2020_df['NTAName'].isin(limited_english_df['Geography'])]\n",
        "missing_ntas_list = missing_ntas['NTAName'].tolist()\n",
        "\n",
        "# Print missing NTA names\n",
        "print(f\"Missing NTA Names in eviction_df under data: {missing_ntas_list}\")"
      ],
      "metadata": {
        "colab": {
          "base_uri": "https://localhost:8080/"
        },
        "id": "C8LAYRJJ9V4W",
        "outputId": "b7b93323-c2cc-4fc1-aeb7-655959371332"
      },
      "execution_count": null,
      "outputs": [
        {
          "output_type": "stream",
          "name": "stdout",
          "text": [
            "Missing NTA Names in eviction_df under data: ['Brooklyn Navy Yard', 'The Evergreens Cemetery', 'Highland Park-Cypress Hills Cemeteries (South)', 'Green-Wood Cemetery', 'Lincoln Terrace Park', 'Fort Hamilton', 'Dyker Beach Park', 'Calvert Vaux Park', 'Holy Cross Cemetery', 'Marine Park-Plumb Island', 'McGuire Fields', 'Canarsie Park & Pier', 'Prospect Park', 'Barren Island-Floyd Bennett Field', 'Jamaica Bay (West)', 'Shirley Chisholm State Park', 'North & South Brother Islands', 'Crotona Park', 'Yankee Stadium-Macombs Dam Park', 'Claremont Park', 'Soundview Park', 'Hart Island', 'Ferry Point Park-St. Raymond Cemetery', 'Hutchinson Metro Center', 'Woodlawn Cemetery', 'Van Cortlandt Park', 'Bronx Park', 'Pelham Bay Park', 'The Battery-Governors Island-Ellis Island-Liberty Island', 'United Nations', \"Randall's Island\", 'Highbridge Park', 'Inwood Hill Park', 'Central Park', 'Rikers Island', 'Sunnyside Yards (North)', \"St. Michael's Cemetery\", 'Astoria Park', 'Sunnyside Yards (South)', 'Calvary & Mount Zion Cemeteries', 'Mount Olivet & All Faiths Cemeteries', 'Middle Village Cemetery', 'St. John Cemetery', 'Highland Park-Cypress Hills Cemeteries (North)', 'Fort Totten', 'Kissena Park', 'Mount Hebron & Cedar Grove Cemeteries', 'Cunningham Park', 'Spring Creek Park', 'Alley Pond Park', 'Montefiore Cemetery', 'Rockaway Community Park', 'LaGuardia Airport', 'Flushing Meadows-Corona Park', 'Forest Park', 'John F. Kennedy International Airport', 'Jamaica Bay (East)', 'Jacob Riis Park-Fort Tilden-Breezy Point Tip', 'Snug Harbor', 'Freshkills Park (North)', 'Freshkills Park (South)', 'Fort Wadsworth', 'Hoffman & Swinburne Islands', 'Miller Field', 'Great Kills Park']\n"
          ]
        }
      ]
    },
    {
      "cell_type": "code",
      "source": [
        "# Calculate the average percent for each NTA based on available time periods\n",
        "# Group by Geography (NTA) and calculate the average percent\n",
        "limited_english_df_avg = limited_english_df.groupby('Geography').apply(\n",
        "    lambda x: x['Percent'].mean()\n",
        ").reset_index(name='Average_LE_Percent')"
      ],
      "metadata": {
        "colab": {
          "base_uri": "https://localhost:8080/"
        },
        "id": "YYmOp6JgAdLE",
        "outputId": "cae95e49-180a-4478-f4c7-65a29de500eb"
      },
      "execution_count": null,
      "outputs": [
        {
          "output_type": "stream",
          "name": "stderr",
          "text": [
            "<ipython-input-54-c1a24ce4e912>:3: DeprecationWarning: DataFrameGroupBy.apply operated on the grouping columns. This behavior is deprecated, and in a future version of pandas the grouping columns will be excluded from the operation. Either pass `include_groups=False` to exclude the groupings or explicitly select the grouping columns after groupby to silence this warning.\n",
            "  limited_english_df_avg = limited_english_df.groupby('Geography').apply(\n"
          ]
        }
      ]
    },
    {
      "cell_type": "code",
      "source": [
        "# Merge the average percent data with the NTA data\n",
        "merged_df = pd.merge(nta_2020_df, limited_english_df_avg, left_on='NTAName', right_on='Geography', how='left')\n",
        "\n",
        "# Export the final dataframe to an Excel file\n",
        "merged_df.to_excel('limited_english_2020_df.xlsx', index=False)\n",
        "\n",
        "print(\"Export completed: 'limited_english_2020_df.xlsx'\")"
      ],
      "metadata": {
        "colab": {
          "base_uri": "https://localhost:8080/"
        },
        "id": "mSuhZ2rIAdDk",
        "outputId": "1d33a79c-06c6-4645-fd91-8b77d8855a74"
      },
      "execution_count": null,
      "outputs": [
        {
          "output_type": "stream",
          "name": "stdout",
          "text": [
            "Export completed: 'limited_english_2020_df.xlsx'\n"
          ]
        }
      ]
    },
    {
      "cell_type": "markdown",
      "source": [
        "#### Older Adults living alone"
      ],
      "metadata": {
        "id": "MrJ1Reoc7gxh"
      }
    },
    {
      "cell_type": "code",
      "source": [
        "oa_alone_df = pd.read_csv('NYC EH Data Portal - Older adults living alone (filtered)_2020 (num).csv')"
      ],
      "metadata": {
        "id": "BmTjarAk7hGx"
      },
      "execution_count": null,
      "outputs": []
    },
    {
      "cell_type": "code",
      "source": [
        "# Standardize column names for comparison\n",
        "nta_2020_df['NTAName'] = nta_2020_df['NTAName'].str.strip()\n",
        "oa_alone_df['Geography'] = oa_alone_df['Geography'].str.strip()"
      ],
      "metadata": {
        "id": "WhkynhWT7hmc"
      },
      "execution_count": null,
      "outputs": []
    },
    {
      "cell_type": "code",
      "source": [
        "#  Find missing NTA names in the rent-burdened households file\n",
        "missing_ntas = nta_2020_df[~nta_2020_df['NTAName'].isin(oa_alone_df['Geography'])]\n",
        "missing_ntas_list = missing_ntas['NTAName'].tolist()\n",
        "\n",
        "# Print missing NTA names\n",
        "print(f\"Missing NTA Names in eviction_df under data: {missing_ntas_list}\")"
      ],
      "metadata": {
        "colab": {
          "base_uri": "https://localhost:8080/"
        },
        "id": "xXa4tvBe7hdI",
        "outputId": "394f6fa8-9cf5-432e-8809-a6af6f35d0f9"
      },
      "execution_count": null,
      "outputs": [
        {
          "output_type": "stream",
          "name": "stdout",
          "text": [
            "Missing NTA Names in eviction_df under data: ['Brooklyn Navy Yard', 'The Evergreens Cemetery', 'Highland Park-Cypress Hills Cemeteries (South)', 'Green-Wood Cemetery', 'Lincoln Terrace Park', 'Fort Hamilton', 'Dyker Beach Park', 'Calvert Vaux Park', 'Holy Cross Cemetery', 'Marine Park-Plumb Island', 'McGuire Fields', 'Canarsie Park & Pier', 'Prospect Park', 'Barren Island-Floyd Bennett Field', 'Jamaica Bay (West)', 'Shirley Chisholm State Park', 'North & South Brother Islands', 'Crotona Park', 'Yankee Stadium-Macombs Dam Park', 'Claremont Park', 'Soundview Park', 'Hart Island', 'Ferry Point Park-St. Raymond Cemetery', 'Hutchinson Metro Center', 'Woodlawn Cemetery', 'Van Cortlandt Park', 'Bronx Park', 'Pelham Bay Park', 'The Battery-Governors Island-Ellis Island-Liberty Island', 'United Nations', \"Randall's Island\", 'Highbridge Park', 'Inwood Hill Park', 'Central Park', 'Rikers Island', 'Sunnyside Yards (North)', \"St. Michael's Cemetery\", 'Astoria Park', 'Sunnyside Yards (South)', 'Calvary & Mount Zion Cemeteries', 'Mount Olivet & All Faiths Cemeteries', 'Middle Village Cemetery', 'St. John Cemetery', 'Highland Park-Cypress Hills Cemeteries (North)', 'Fort Totten', 'Kissena Park', 'Mount Hebron & Cedar Grove Cemeteries', 'Cunningham Park', 'Spring Creek Park', 'Alley Pond Park', 'Montefiore Cemetery', 'Rockaway Community Park', 'LaGuardia Airport', 'Flushing Meadows-Corona Park', 'Forest Park', 'John F. Kennedy International Airport', 'Jamaica Bay (East)', 'Jacob Riis Park-Fort Tilden-Breezy Point Tip', 'Snug Harbor', 'Freshkills Park (North)', 'Freshkills Park (South)', 'Fort Wadsworth', 'Hoffman & Swinburne Islands', 'Miller Field', 'Great Kills Park']\n"
          ]
        }
      ]
    },
    {
      "cell_type": "code",
      "source": [
        "# Calculate the average percent for each NTA based on available time periods\n",
        "# Group by Geography (NTA) and calculate the average percent\n",
        "oa_alone_df_avg = oa_alone_df.groupby('Geography').apply(\n",
        "    lambda x: x['Percent'].mean()\n",
        ").reset_index(name='Average_Older Adults (percent)')"
      ],
      "metadata": {
        "colab": {
          "base_uri": "https://localhost:8080/"
        },
        "id": "kIfRP9GU7hXo",
        "outputId": "19226ae3-988d-4710-b63f-20e137e9e460"
      },
      "execution_count": null,
      "outputs": [
        {
          "output_type": "stream",
          "name": "stderr",
          "text": [
            "<ipython-input-59-69f1d85347d4>:3: DeprecationWarning: DataFrameGroupBy.apply operated on the grouping columns. This behavior is deprecated, and in a future version of pandas the grouping columns will be excluded from the operation. Either pass `include_groups=False` to exclude the groupings or explicitly select the grouping columns after groupby to silence this warning.\n",
            "  oa_alone_df_avg = oa_alone_df.groupby('Geography').apply(\n"
          ]
        }
      ]
    },
    {
      "cell_type": "code",
      "source": [
        "# Merge the average percent data with the NTA data\n",
        "merged_df = pd.merge(nta_2020_df, oa_alone_df_avg, left_on='NTAName', right_on='Geography', how='left')\n",
        "\n",
        "# Export the final dataframe to an Excel file\n",
        "merged_df.to_excel('oa_alone_2020_df.xlsx', index=False)\n",
        "\n",
        "print(\"Export completed: 'oa_alone_2020_df.xlsx'\")"
      ],
      "metadata": {
        "colab": {
          "base_uri": "https://localhost:8080/"
        },
        "id": "q5LCf-Uv728y",
        "outputId": "56b92760-86a2-412f-a86c-ed7575a608ec"
      },
      "execution_count": null,
      "outputs": [
        {
          "output_type": "stream",
          "name": "stdout",
          "text": [
            "Export completed: 'oa_alone_2020_df.xlsx'\n"
          ]
        }
      ]
    },
    {
      "cell_type": "markdown",
      "source": [
        "#### Bicycle"
      ],
      "metadata": {
        "id": "T-rREb165MTI"
      }
    },
    {
      "cell_type": "code",
      "source": [
        "bicycle_df = pd.read_csv('NYC EH Data Portal - Commuting modes (filtered)_2020_bicycle - Data.csv')"
      ],
      "metadata": {
        "id": "rOc-CeAo5NM5"
      },
      "execution_count": null,
      "outputs": []
    },
    {
      "cell_type": "code",
      "source": [
        "# Standardize column names for comparison\n",
        "nta_2020_df['NTAName'] = nta_2020_df['NTAName'].str.strip()\n",
        "bicycle_df['Geography'] = bicycle_df['Geography'].str.strip()"
      ],
      "metadata": {
        "id": "4hgACdnN5OB0"
      },
      "execution_count": null,
      "outputs": []
    },
    {
      "cell_type": "code",
      "source": [
        "# find missing NTA names in the rent-burdened households file\n",
        "missing_ntas = nta_2020_df[~nta_2020_df['NTAName'].isin(bicycle_df['Geography'])]\n",
        "missing_ntas_list = missing_ntas['NTAName'].tolist()\n",
        "\n",
        "# Print missing NTA names\n",
        "print(f\"Missing NTA Names in eviction_df under data: {missing_ntas_list}\")"
      ],
      "metadata": {
        "colab": {
          "base_uri": "https://localhost:8080/"
        },
        "id": "RW8GVGde5N4Z",
        "outputId": "9c253b7c-65c5-4cc0-9d37-1b99f5ca4983"
      },
      "execution_count": null,
      "outputs": [
        {
          "output_type": "stream",
          "name": "stdout",
          "text": [
            "Missing NTA Names in eviction_df under data: ['Brooklyn Navy Yard', 'The Evergreens Cemetery', 'Highland Park-Cypress Hills Cemeteries (South)', 'Green-Wood Cemetery', 'Lincoln Terrace Park', 'Fort Hamilton', 'Dyker Beach Park', 'Calvert Vaux Park', 'Holy Cross Cemetery', 'Marine Park-Plumb Island', 'McGuire Fields', 'Canarsie Park & Pier', 'Prospect Park', 'Barren Island-Floyd Bennett Field', 'Jamaica Bay (West)', 'Shirley Chisholm State Park', 'North & South Brother Islands', 'Crotona Park', 'Yankee Stadium-Macombs Dam Park', 'Claremont Park', 'Soundview Park', 'Hart Island', 'Ferry Point Park-St. Raymond Cemetery', 'Hutchinson Metro Center', 'Woodlawn Cemetery', 'Van Cortlandt Park', 'Bronx Park', 'Pelham Bay Park', 'The Battery-Governors Island-Ellis Island-Liberty Island', 'United Nations', \"Randall's Island\", 'Highbridge Park', 'Inwood Hill Park', 'Central Park', 'Rikers Island', 'Sunnyside Yards (North)', \"St. Michael's Cemetery\", 'Astoria Park', 'Sunnyside Yards (South)', 'Calvary & Mount Zion Cemeteries', 'Mount Olivet & All Faiths Cemeteries', 'Middle Village Cemetery', 'St. John Cemetery', 'Highland Park-Cypress Hills Cemeteries (North)', 'Fort Totten', 'Kissena Park', 'Mount Hebron & Cedar Grove Cemeteries', 'Cunningham Park', 'Spring Creek Park', 'Alley Pond Park', 'Montefiore Cemetery', 'Rockaway Community Park', 'LaGuardia Airport', 'Flushing Meadows-Corona Park', 'Forest Park', 'John F. Kennedy International Airport', 'Jamaica Bay (East)', 'Jacob Riis Park-Fort Tilden-Breezy Point Tip', 'Snug Harbor', 'Freshkills Park (North)', 'Freshkills Park (South)', 'Fort Wadsworth', 'Hoffman & Swinburne Islands', 'Miller Field', 'Great Kills Park']\n"
          ]
        }
      ]
    },
    {
      "cell_type": "code",
      "source": [
        "# Calculate the average percent for each NTA based on available time periods\n",
        "# Group by Geography (NTA) and calculate the average percent\n",
        "bicycle_df_avg = bicycle_df.groupby('Geography').apply(\n",
        "    lambda x: x['Bicycle (percent)'].mean()\n",
        ").reset_index(name='Average_Bicycle (percent)')"
      ],
      "metadata": {
        "colab": {
          "base_uri": "https://localhost:8080/"
        },
        "id": "UDqt6a_75Nm4",
        "outputId": "32e548c6-2a5f-49c5-b8f6-fcc2859ec40f"
      },
      "execution_count": null,
      "outputs": [
        {
          "output_type": "stream",
          "name": "stderr",
          "text": [
            "<ipython-input-42-ce0262c9f23e>:3: DeprecationWarning: DataFrameGroupBy.apply operated on the grouping columns. This behavior is deprecated, and in a future version of pandas the grouping columns will be excluded from the operation. Either pass `include_groups=False` to exclude the groupings or explicitly select the grouping columns after groupby to silence this warning.\n",
            "  bicycle_df_avg = bicycle_df.groupby('Geography').apply(\n"
          ]
        }
      ]
    },
    {
      "cell_type": "code",
      "source": [
        "#  Merge the average percent data with the NTA data\n",
        "merged_df = pd.merge(nta_2020_df, bicycle_df_avg, left_on='NTAName', right_on='Geography', how='left')\n",
        "\n",
        "#  Export the final dataframe to an Excel file\n",
        "merged_df.to_excel('bicycle_df.xlsx', index=False)\n",
        "\n",
        "print(\"Export completed: 'bicycle_df.xlsx'\")"
      ],
      "metadata": {
        "colab": {
          "base_uri": "https://localhost:8080/"
        },
        "id": "cHCf7JSZ5km8",
        "outputId": "63ab3137-f7da-47f4-a3e7-7a3bac60aa91"
      },
      "execution_count": null,
      "outputs": [
        {
          "output_type": "stream",
          "name": "stdout",
          "text": [
            "Export completed: 'bicycle_df.xlsx'\n"
          ]
        }
      ]
    },
    {
      "cell_type": "markdown",
      "source": [
        "#### Public transportation"
      ],
      "metadata": {
        "id": "YoiW1M2R3ffa"
      }
    },
    {
      "cell_type": "code",
      "source": [
        "publictransportation_df = pd.read_csv('NYC EH Data Portal - Commuting modes (filtered)_2020_publictransportation - Data.csv')"
      ],
      "metadata": {
        "id": "tErStkZX3fyP"
      },
      "execution_count": null,
      "outputs": []
    },
    {
      "cell_type": "code",
      "source": [
        "# Standardize column names for comparison\n",
        "nta_2020_df['NTAName'] = nta_2020_df['NTAName'].str.strip()\n",
        "publictransportation_df['Geography'] = publictransportation_df['Geography'].str.strip()"
      ],
      "metadata": {
        "id": "dOy5UnyX3gT3"
      },
      "execution_count": null,
      "outputs": []
    },
    {
      "cell_type": "code",
      "source": [
        "#  Find missing NTA names in the rent-burdened households file\n",
        "missing_ntas = nta_2020_df[~nta_2020_df['NTAName'].isin(publictransportation_df['Geography'])]\n",
        "missing_ntas_list = missing_ntas['NTAName'].tolist()\n",
        "\n",
        "# Print missing NTA names\n",
        "print(f\"Missing NTA Names in eviction_df under data: {missing_ntas_list}\")"
      ],
      "metadata": {
        "colab": {
          "base_uri": "https://localhost:8080/"
        },
        "id": "QmEIFUkd3gL8",
        "outputId": "e769f3e3-d21f-4596-8227-2bb4fc74a663"
      },
      "execution_count": null,
      "outputs": [
        {
          "output_type": "stream",
          "name": "stdout",
          "text": [
            "Missing NTA Names in eviction_df under data: ['Brooklyn Navy Yard', 'The Evergreens Cemetery', 'Highland Park-Cypress Hills Cemeteries (South)', 'Green-Wood Cemetery', 'Lincoln Terrace Park', 'Fort Hamilton', 'Dyker Beach Park', 'Calvert Vaux Park', 'Holy Cross Cemetery', 'Marine Park-Plumb Island', 'McGuire Fields', 'Canarsie Park & Pier', 'Prospect Park', 'Barren Island-Floyd Bennett Field', 'Jamaica Bay (West)', 'Shirley Chisholm State Park', 'North & South Brother Islands', 'Crotona Park', 'Yankee Stadium-Macombs Dam Park', 'Claremont Park', 'Soundview Park', 'Hart Island', 'Ferry Point Park-St. Raymond Cemetery', 'Hutchinson Metro Center', 'Woodlawn Cemetery', 'Van Cortlandt Park', 'Bronx Park', 'Pelham Bay Park', 'The Battery-Governors Island-Ellis Island-Liberty Island', 'United Nations', \"Randall's Island\", 'Highbridge Park', 'Inwood Hill Park', 'Central Park', 'Rikers Island', 'Sunnyside Yards (North)', \"St. Michael's Cemetery\", 'Astoria Park', 'Sunnyside Yards (South)', 'Calvary & Mount Zion Cemeteries', 'Mount Olivet & All Faiths Cemeteries', 'Middle Village Cemetery', 'St. John Cemetery', 'Highland Park-Cypress Hills Cemeteries (North)', 'Fort Totten', 'Kissena Park', 'Mount Hebron & Cedar Grove Cemeteries', 'Cunningham Park', 'Spring Creek Park', 'Alley Pond Park', 'Montefiore Cemetery', 'Rockaway Community Park', 'LaGuardia Airport', 'Flushing Meadows-Corona Park', 'Forest Park', 'John F. Kennedy International Airport', 'Jamaica Bay (East)', 'Jacob Riis Park-Fort Tilden-Breezy Point Tip', 'Snug Harbor', 'Freshkills Park (North)', 'Freshkills Park (South)', 'Fort Wadsworth', 'Hoffman & Swinburne Islands', 'Miller Field', 'Great Kills Park']\n"
          ]
        }
      ]
    },
    {
      "cell_type": "code",
      "source": [
        "#  Calculate the average percent for each NTA based on available time periods\n",
        "# Group by Geography (NTA) and calculate the average percent\n",
        "publictransportation_df_avg = publictransportation_df.groupby('Geography').apply(\n",
        "    lambda x: x['Public transportation (percent)'].mean()\n",
        ").reset_index(name='Average_Public transportation (percent)')"
      ],
      "metadata": {
        "colab": {
          "base_uri": "https://localhost:8080/"
        },
        "id": "jUEYOH0X3gC1",
        "outputId": "029d2742-49e7-4aab-e3bb-6430f7a8ed8b"
      },
      "execution_count": null,
      "outputs": [
        {
          "output_type": "stream",
          "name": "stderr",
          "text": [
            "<ipython-input-35-8b04e51963ea>:3: DeprecationWarning: DataFrameGroupBy.apply operated on the grouping columns. This behavior is deprecated, and in a future version of pandas the grouping columns will be excluded from the operation. Either pass `include_groups=False` to exclude the groupings or explicitly select the grouping columns after groupby to silence this warning.\n",
            "  publictransportation_df_avg = publictransportation_df.groupby('Geography').apply(\n"
          ]
        }
      ]
    },
    {
      "cell_type": "code",
      "source": [
        "#  Merge the average percent data with the NTA data\n",
        "merged_df = pd.merge(nta_2020_df, publictransportation_df_avg, left_on='NTAName', right_on='Geography', how='left')\n",
        "\n",
        "#  Export the final dataframe to an Excel file\n",
        "merged_df.to_excel('publictransportation_df.xlsx', index=False)\n",
        "\n",
        "print(\"Export completed: 'publictransportation_df.xlsx'\")"
      ],
      "metadata": {
        "colab": {
          "base_uri": "https://localhost:8080/"
        },
        "id": "6XR12PRa3rpe",
        "outputId": "e73e774d-5ee1-4613-86da-08778c27dcae"
      },
      "execution_count": null,
      "outputs": [
        {
          "output_type": "stream",
          "name": "stdout",
          "text": [
            "Export completed: 'publictransportation_df.xlsx'\n"
          ]
        }
      ]
    },
    {
      "cell_type": "markdown",
      "source": [
        "#### Car, truck, van"
      ],
      "metadata": {
        "id": "R-Kb-X9jfUnV"
      }
    },
    {
      "cell_type": "code",
      "source": [
        "car_truck_van_df = pd.read_csv('NYC EH Data Portal - Commuting modes (filtered)_2020_cartruckvan - Data.csv')"
      ],
      "metadata": {
        "id": "GDkqxgIofV8f"
      },
      "execution_count": null,
      "outputs": []
    },
    {
      "cell_type": "code",
      "source": [
        "#  Standardize column names for comparison\n",
        "nta_2020_df['NTAName'] = nta_2020_df['NTAName'].str.strip()\n",
        "car_truck_van_df['Geography'] = car_truck_van_df['Geography'].str.strip()"
      ],
      "metadata": {
        "id": "5kuBwjX5fV4b"
      },
      "execution_count": null,
      "outputs": []
    },
    {
      "cell_type": "code",
      "source": [
        "# find missing NTA names in the rent-burdened households file\n",
        "missing_ntas = nta_2020_df[~nta_2020_df['NTAName'].isin(car_truck_van_df['Geography'])]\n",
        "missing_ntas_list = missing_ntas['NTAName'].tolist()\n",
        "\n",
        "# Print missing NTA names\n",
        "print(f\"Missing NTA Names in eviction_df under data: {missing_ntas_list}\")"
      ],
      "metadata": {
        "colab": {
          "base_uri": "https://localhost:8080/"
        },
        "id": "IIMkoL00fV1B",
        "outputId": "6f9d302d-db8e-4d84-aa6c-2aa6e4bfc510"
      },
      "execution_count": null,
      "outputs": [
        {
          "output_type": "stream",
          "name": "stdout",
          "text": [
            "Missing NTA Names in eviction_df under data: ['Brooklyn Navy Yard', 'The Evergreens Cemetery', 'Highland Park-Cypress Hills Cemeteries (South)', 'Green-Wood Cemetery', 'Lincoln Terrace Park', 'Fort Hamilton', 'Dyker Beach Park', 'Calvert Vaux Park', 'Holy Cross Cemetery', 'Marine Park-Plumb Island', 'McGuire Fields', 'Canarsie Park & Pier', 'Prospect Park', 'Barren Island-Floyd Bennett Field', 'Jamaica Bay (West)', 'Shirley Chisholm State Park', 'North & South Brother Islands', 'Crotona Park', 'Yankee Stadium-Macombs Dam Park', 'Claremont Park', 'Soundview Park', 'Hart Island', 'Ferry Point Park-St. Raymond Cemetery', 'Hutchinson Metro Center', 'Woodlawn Cemetery', 'Van Cortlandt Park', 'Bronx Park', 'Pelham Bay Park', 'The Battery-Governors Island-Ellis Island-Liberty Island', 'United Nations', \"Randall's Island\", 'Highbridge Park', 'Inwood Hill Park', 'Central Park', 'Rikers Island', 'Sunnyside Yards (North)', \"St. Michael's Cemetery\", 'Astoria Park', 'Sunnyside Yards (South)', 'Calvary & Mount Zion Cemeteries', 'Mount Olivet & All Faiths Cemeteries', 'Middle Village Cemetery', 'St. John Cemetery', 'Highland Park-Cypress Hills Cemeteries (North)', 'Fort Totten', 'Kissena Park', 'Mount Hebron & Cedar Grove Cemeteries', 'Cunningham Park', 'Spring Creek Park', 'Alley Pond Park', 'Montefiore Cemetery', 'Rockaway Community Park', 'LaGuardia Airport', 'Flushing Meadows-Corona Park', 'Forest Park', 'John F. Kennedy International Airport', 'Jamaica Bay (East)', 'Jacob Riis Park-Fort Tilden-Breezy Point Tip', 'Snug Harbor', 'Freshkills Park (North)', 'Freshkills Park (South)', 'Fort Wadsworth', 'Hoffman & Swinburne Islands', 'Miller Field', 'Great Kills Park']\n"
          ]
        }
      ]
    },
    {
      "cell_type": "code",
      "source": [
        "#  Calculate the average percent for each NTA based on available time periods\n",
        "# Group by Geography (NTA) and calculate the average percent\n",
        "car_truck_van_df_avg = car_truck_van_df.groupby('Geography').apply(\n",
        "    lambda x: x['Car, truck, or van (percent)'].mean()\n",
        ").reset_index(name='Average_Car, truck, or van (percent)')"
      ],
      "metadata": {
        "colab": {
          "base_uri": "https://localhost:8080/"
        },
        "id": "4ZAUCovQfVwg",
        "outputId": "01cd413e-50e2-4131-b8d5-cc8d67ca9265"
      },
      "execution_count": null,
      "outputs": [
        {
          "output_type": "stream",
          "name": "stderr",
          "text": [
            "<ipython-input-27-87a1bd6a82da>:3: DeprecationWarning: DataFrameGroupBy.apply operated on the grouping columns. This behavior is deprecated, and in a future version of pandas the grouping columns will be excluded from the operation. Either pass `include_groups=False` to exclude the groupings or explicitly select the grouping columns after groupby to silence this warning.\n",
            "  car_truck_van_df_avg = car_truck_van_df.groupby('Geography').apply(\n"
          ]
        }
      ]
    },
    {
      "cell_type": "code",
      "source": [
        "# Merge the average percent data with the NTA data\n",
        "merged_df = pd.merge(nta_2020_df, car_truck_van_df_avg, left_on='NTAName', right_on='Geography', how='left')\n",
        "\n",
        "#  Export the final dataframe to an Excel file\n",
        "merged_df.to_excel('car_truck_van_2020_df.xlsx', index=False)\n",
        "\n",
        "print(\"Export completed: 'car_truck_van_2020_df.xlsx'\")"
      ],
      "metadata": {
        "colab": {
          "base_uri": "https://localhost:8080/"
        },
        "id": "7BGDP-W7fVnp",
        "outputId": "b9658d3f-7a49-439e-9748-748ef24c3075"
      },
      "execution_count": null,
      "outputs": [
        {
          "output_type": "stream",
          "name": "stdout",
          "text": [
            "Export completed: 'car_truck_van_2020_df.xlsx'\n"
          ]
        }
      ]
    },
    {
      "cell_type": "markdown",
      "source": [
        "#### walking"
      ],
      "metadata": {
        "id": "c_poj129YC0E"
      }
    },
    {
      "cell_type": "code",
      "source": [
        "%cd /content/drive/MyDrive/Thesis/Fall_2024/Data/Datasets/Modified"
      ],
      "metadata": {
        "colab": {
          "base_uri": "https://localhost:8080/"
        },
        "id": "b5gJHtOSYYBX",
        "outputId": "156cf763-f45b-47ad-9ca2-746f20600b7e"
      },
      "execution_count": null,
      "outputs": [
        {
          "output_type": "stream",
          "name": "stdout",
          "text": [
            "/content/drive/MyDrive/Thesis/Fall_2024/Data/Datasets/Modified\n"
          ]
        }
      ]
    },
    {
      "cell_type": "code",
      "source": [
        "walked_df = pd.read_csv('NYC EH Data Portal - Commuting modes (filtered)_2020_walked - Data.csv')"
      ],
      "metadata": {
        "id": "XsP7zeR5YDFN"
      },
      "execution_count": null,
      "outputs": []
    },
    {
      "cell_type": "code",
      "source": [
        "# Standardize column names for comparison\n",
        "nta_2020_df['NTAName'] = nta_2020_df['NTAName'].str.strip()\n",
        "walked_df['Geography'] = walked_df['Geography'].str.strip()"
      ],
      "metadata": {
        "id": "rne0BtnbYDjt"
      },
      "execution_count": null,
      "outputs": []
    },
    {
      "cell_type": "code",
      "source": [
        "# Find missing NTA names in the rent-burdened households file\n",
        "missing_ntas = nta_2020_df[~nta_2020_df['NTAName'].isin(walked_df['Geography'])]\n",
        "missing_ntas_list = missing_ntas['NTAName'].tolist()\n",
        "\n",
        "# Print missing NTA names\n",
        "print(f\"Missing NTA Names in eviction_df under data: {missing_ntas_list}\")"
      ],
      "metadata": {
        "colab": {
          "base_uri": "https://localhost:8080/"
        },
        "id": "OqNaWQzVYiO1",
        "outputId": "4b4c7974-e919-4104-a71d-dc1d2927d2fd"
      },
      "execution_count": null,
      "outputs": [
        {
          "output_type": "stream",
          "name": "stdout",
          "text": [
            "Missing NTA Names in eviction_df under data: ['Brooklyn Navy Yard', 'The Evergreens Cemetery', 'Highland Park-Cypress Hills Cemeteries (South)', 'Green-Wood Cemetery', 'Lincoln Terrace Park', 'Fort Hamilton', 'Dyker Beach Park', 'Calvert Vaux Park', 'Holy Cross Cemetery', 'Marine Park-Plumb Island', 'McGuire Fields', 'Canarsie Park & Pier', 'Prospect Park', 'Barren Island-Floyd Bennett Field', 'Jamaica Bay (West)', 'Shirley Chisholm State Park', 'North & South Brother Islands', 'Crotona Park', 'Yankee Stadium-Macombs Dam Park', 'Claremont Park', 'Soundview Park', 'Hart Island', 'Ferry Point Park-St. Raymond Cemetery', 'Hutchinson Metro Center', 'Woodlawn Cemetery', 'Van Cortlandt Park', 'Bronx Park', 'Pelham Bay Park', 'The Battery-Governors Island-Ellis Island-Liberty Island', 'United Nations', \"Randall's Island\", 'Highbridge Park', 'Inwood Hill Park', 'Central Park', 'Rikers Island', 'Sunnyside Yards (North)', \"St. Michael's Cemetery\", 'Astoria Park', 'Sunnyside Yards (South)', 'Calvary & Mount Zion Cemeteries', 'Mount Olivet & All Faiths Cemeteries', 'Middle Village Cemetery', 'St. John Cemetery', 'Highland Park-Cypress Hills Cemeteries (North)', 'Fort Totten', 'Kissena Park', 'Mount Hebron & Cedar Grove Cemeteries', 'Cunningham Park', 'Spring Creek Park', 'Alley Pond Park', 'Montefiore Cemetery', 'Rockaway Community Park', 'LaGuardia Airport', 'Flushing Meadows-Corona Park', 'Forest Park', 'John F. Kennedy International Airport', 'Jamaica Bay (East)', 'Jacob Riis Park-Fort Tilden-Breezy Point Tip', 'Snug Harbor', 'Freshkills Park (North)', 'Freshkills Park (South)', 'Fort Wadsworth', 'Hoffman & Swinburne Islands', 'Miller Field', 'Great Kills Park']\n"
          ]
        }
      ]
    },
    {
      "cell_type": "code",
      "source": [
        "# Calculate the average percent for each NTA based on available time periods\n",
        "# Group by Geography (NTA) and calculate the average percent\n",
        "walked_df_avg = walked_df.groupby('Geography').apply(\n",
        "    lambda x: x['Walked (percent)'].mean()\n",
        ").reset_index(name='Average_Walked (percent)')"
      ],
      "metadata": {
        "colab": {
          "base_uri": "https://localhost:8080/"
        },
        "id": "NyP8irY1Y4HS",
        "outputId": "2237fca8-e4ed-4d12-cf9d-6bf5040332cd"
      },
      "execution_count": null,
      "outputs": [
        {
          "output_type": "stream",
          "name": "stderr",
          "text": [
            "<ipython-input-22-eb3308934dd4>:3: DeprecationWarning: DataFrameGroupBy.apply operated on the grouping columns. This behavior is deprecated, and in a future version of pandas the grouping columns will be excluded from the operation. Either pass `include_groups=False` to exclude the groupings or explicitly select the grouping columns after groupby to silence this warning.\n",
            "  walked_df_avg = walked_df.groupby('Geography').apply(\n"
          ]
        }
      ]
    },
    {
      "cell_type": "code",
      "source": [
        "# Merge the average percent data with the NTA data\n",
        "merged_df = pd.merge(nta_2020_df, walked_df_avg, left_on='NTAName', right_on='Geography', how='left')\n",
        "\n",
        "# Export the final dataframe to an Excel file\n",
        "merged_df.to_excel('walked_2020_df.xlsx', index=False)\n",
        "\n",
        "print(\"Export completed: 'walked_2020_df.xlsx'\")"
      ],
      "metadata": {
        "colab": {
          "base_uri": "https://localhost:8080/"
        },
        "id": "2mRg4B7_YDZd",
        "outputId": "f69aea6c-5f2e-405f-d861-3b542f9cd988"
      },
      "execution_count": null,
      "outputs": [
        {
          "output_type": "stream",
          "name": "stdout",
          "text": [
            "Export completed: 'walked_2020_df.xlsx'\n"
          ]
        }
      ]
    },
    {
      "cell_type": "markdown",
      "source": [
        "#### citi bike stations"
      ],
      "metadata": {
        "id": "6sHcK318P7M4"
      }
    },
    {
      "cell_type": "code",
      "source": [
        "citibike_stations_df = pd.read_csv('NYC EH Data Portal - Citi Bike stations (filtered) (num).csv')"
      ],
      "metadata": {
        "id": "4qRsRxXCQA-g"
      },
      "execution_count": null,
      "outputs": []
    },
    {
      "cell_type": "code",
      "source": [
        "# Standardize column names for comparison\n",
        "nta_2020_df['NTAName'] = nta_2020_df['NTAName'].str.strip()\n",
        "citibike_stations_df['Geography'] = citibike_stations_df['Geography'].str.strip()"
      ],
      "metadata": {
        "id": "IvGl-_XdUKew"
      },
      "execution_count": null,
      "outputs": []
    },
    {
      "cell_type": "code",
      "source": [
        "# Find missing NTA names in the rent-burdened households file\n",
        "missing_ntas = nta_2020_df[~nta_2020_df['NTAName'].isin(citibike_stations_df['Geography'])]\n",
        "missing_ntas_list = missing_ntas['NTAName'].tolist()\n",
        "\n",
        "# Print missing NTA names\n",
        "print(f\"Missing NTA Names in eviction_df under data: {missing_ntas_list}\")"
      ],
      "metadata": {
        "colab": {
          "base_uri": "https://localhost:8080/"
        },
        "id": "X9msJY98UKcN",
        "outputId": "9aab37be-cd9c-44dd-956b-5b331995830c"
      },
      "execution_count": null,
      "outputs": [
        {
          "output_type": "stream",
          "name": "stdout",
          "text": [
            "Missing NTA Names in eviction_df under data: ['Brooklyn Navy Yard', 'The Evergreens Cemetery', 'Highland Park-Cypress Hills Cemeteries (South)', 'Green-Wood Cemetery', 'Lincoln Terrace Park', 'Fort Hamilton', 'Dyker Beach Park', 'Calvert Vaux Park', 'Holy Cross Cemetery', 'Marine Park-Plumb Island', 'McGuire Fields', 'Canarsie Park & Pier', 'Prospect Park', 'Barren Island-Floyd Bennett Field', 'Jamaica Bay (West)', 'Shirley Chisholm State Park', 'North & South Brother Islands', 'Crotona Park', 'Yankee Stadium-Macombs Dam Park', 'Claremont Park', 'Soundview Park', 'Hart Island', 'Ferry Point Park-St. Raymond Cemetery', 'Hutchinson Metro Center', 'Woodlawn Cemetery', 'Van Cortlandt Park', 'Bronx Park', 'Pelham Bay Park', 'The Battery-Governors Island-Ellis Island-Liberty Island', 'United Nations', \"Randall's Island\", 'Highbridge Park', 'Inwood Hill Park', 'Central Park', 'Rikers Island', 'Sunnyside Yards (North)', \"St. Michael's Cemetery\", 'Astoria Park', 'Sunnyside Yards (South)', 'Calvary & Mount Zion Cemeteries', 'Mount Olivet & All Faiths Cemeteries', 'Middle Village Cemetery', 'St. John Cemetery', 'Highland Park-Cypress Hills Cemeteries (North)', 'Fort Totten', 'Kissena Park', 'Mount Hebron & Cedar Grove Cemeteries', 'Cunningham Park', 'Spring Creek Park', 'Alley Pond Park', 'Montefiore Cemetery', 'Rockaway Community Park', 'LaGuardia Airport', 'Flushing Meadows-Corona Park', 'Forest Park', 'John F. Kennedy International Airport', 'Jamaica Bay (East)', 'Jacob Riis Park-Fort Tilden-Breezy Point Tip', 'Snug Harbor', 'Freshkills Park (North)', 'Freshkills Park (South)', 'Fort Wadsworth', 'Hoffman & Swinburne Islands', 'Miller Field', 'Great Kills Park']\n"
          ]
        }
      ]
    },
    {
      "cell_type": "code",
      "source": [
        "# Merge the average percent data with the NTA data\n",
        "merged_df = pd.merge(nta_2020_df, citibike_stations_df, left_on='NTAName', right_on='Geography', how='left')\n",
        "\n",
        "# Export the final dataframe to an Excel file\n",
        "merged_df.to_excel('citibike_stations_2020_df.xlsx', index=False)\n",
        "\n",
        "print(\"Export completed: 'citibike_stations_2020_df.xlsx'\")"
      ],
      "metadata": {
        "colab": {
          "base_uri": "https://localhost:8080/"
        },
        "id": "Eyyq7DyRUKZ_",
        "outputId": "dfbf71e7-e9e8-45be-a3bd-ca682214acc5"
      },
      "execution_count": null,
      "outputs": [
        {
          "output_type": "stream",
          "name": "stdout",
          "text": [
            "Export completed: 'citibike_stations_2020_df.xlsx'\n"
          ]
        }
      ]
    },
    {
      "cell_type": "markdown",
      "source": [
        "#### citibike availability"
      ],
      "metadata": {
        "id": "_-wu3iwT9mXi"
      }
    },
    {
      "cell_type": "code",
      "source": [
        "citibike_df = pd.read_csv('NYC EH Data Portal - Average Citi Bike availability (filtered) (num).csv')"
      ],
      "metadata": {
        "id": "QA_x0GN_9mqL"
      },
      "execution_count": null,
      "outputs": []
    },
    {
      "cell_type": "code",
      "source": [
        "# Standardize column names for comparison\n",
        "nta_2020_df['NTAName'] = nta_2020_df['NTAName'].str.strip()\n",
        "citibike_df['Geography'] = citibike_df['Geography'].str.strip()"
      ],
      "metadata": {
        "id": "oYHWAy2l9nK8"
      },
      "execution_count": null,
      "outputs": []
    },
    {
      "cell_type": "code",
      "source": [
        "# Find missing NTA names in the rent-burdened households file\n",
        "missing_ntas = nta_2020_df[~nta_2020_df['NTAName'].isin(citibike_df['Geography'])]\n",
        "missing_ntas_list = missing_ntas['NTAName'].tolist()\n",
        "\n",
        "# Print missing NTA names\n",
        "print(f\"Missing NTA Names in eviction_df under data: {missing_ntas_list}\")"
      ],
      "metadata": {
        "colab": {
          "base_uri": "https://localhost:8080/"
        },
        "id": "3H8F1g3t9nAF",
        "outputId": "e277cf63-faa1-425f-bdf4-633faa09960e"
      },
      "execution_count": null,
      "outputs": [
        {
          "output_type": "stream",
          "name": "stdout",
          "text": [
            "Missing NTA Names in eviction_df under data: ['Brooklyn Navy Yard', 'The Evergreens Cemetery', 'Highland Park-Cypress Hills Cemeteries (South)', 'Green-Wood Cemetery', 'Lincoln Terrace Park', 'Fort Hamilton', 'Dyker Beach Park', 'Calvert Vaux Park', 'Holy Cross Cemetery', 'Marine Park-Plumb Island', 'McGuire Fields', 'Canarsie Park & Pier', 'Prospect Park', 'Barren Island-Floyd Bennett Field', 'Jamaica Bay (West)', 'Shirley Chisholm State Park', 'North & South Brother Islands', 'Crotona Park', 'Yankee Stadium-Macombs Dam Park', 'Claremont Park', 'Soundview Park', 'Hart Island', 'Ferry Point Park-St. Raymond Cemetery', 'Hutchinson Metro Center', 'Woodlawn Cemetery', 'Van Cortlandt Park', 'Bronx Park', 'Pelham Bay Park', 'The Battery-Governors Island-Ellis Island-Liberty Island', 'United Nations', \"Randall's Island\", 'Highbridge Park', 'Inwood Hill Park', 'Central Park', 'Rikers Island', 'Sunnyside Yards (North)', \"St. Michael's Cemetery\", 'Astoria Park', 'Sunnyside Yards (South)', 'Calvary & Mount Zion Cemeteries', 'Mount Olivet & All Faiths Cemeteries', 'Middle Village Cemetery', 'St. John Cemetery', 'Highland Park-Cypress Hills Cemeteries (North)', 'Fort Totten', 'Kissena Park', 'Mount Hebron & Cedar Grove Cemeteries', 'Cunningham Park', 'Spring Creek Park', 'Alley Pond Park', 'Montefiore Cemetery', 'Rockaway Community Park', 'LaGuardia Airport', 'Flushing Meadows-Corona Park', 'Forest Park', 'John F. Kennedy International Airport', 'Jamaica Bay (East)', 'Jacob Riis Park-Fort Tilden-Breezy Point Tip', 'Snug Harbor', 'Freshkills Park (North)', 'Freshkills Park (South)', 'Fort Wadsworth', 'Hoffman & Swinburne Islands', 'Miller Field', 'Great Kills Park']\n"
          ]
        }
      ]
    },
    {
      "cell_type": "code",
      "source": [
        "#Merge the average percent data with the NTA data\n",
        "merged_df = pd.merge(nta_2020_df, citibike_df, left_on='NTAName', right_on='Geography', how='left')\n",
        "\n",
        "# Export the final dataframe to an Excel file\n",
        "merged_df.to_excel('citibike_2020_df.xlsx', index=False)\n",
        "\n",
        "print(\"Export completed: 'citibike_2020_df.xlsx'\")"
      ],
      "metadata": {
        "colab": {
          "base_uri": "https://localhost:8080/"
        },
        "id": "haZwjyHN_K_8",
        "outputId": "297d2d34-4e3b-41fe-98c1-a97c15713010"
      },
      "execution_count": null,
      "outputs": [
        {
          "output_type": "stream",
          "name": "stdout",
          "text": [
            "Export completed: 'citibike_2020_df.xlsx'\n"
          ]
        }
      ]
    },
    {
      "cell_type": "markdown",
      "source": [
        "#### arrest"
      ],
      "metadata": {
        "id": "vGTpaUvTzUHH"
      }
    },
    {
      "cell_type": "code",
      "source": [
        "arrest_2020_df = pd.read_excel('arrest_Statistics_2020_TableToExcel.xlsx')"
      ],
      "metadata": {
        "id": "iGHKtNuLzWxm"
      },
      "execution_count": null,
      "outputs": []
    },
    {
      "cell_type": "code",
      "source": [
        "# Standardize column names for comparison\n",
        "nta_2020_df['NTAName'] = nta_2020_df['NTAName'].str.strip()\n",
        "arrest_2020_df['ntaname'] = arrest_2020_df['ntaname'].str.strip()"
      ],
      "metadata": {
        "id": "NWI6NNc4z8pd"
      },
      "execution_count": null,
      "outputs": []
    },
    {
      "cell_type": "code",
      "source": [
        "# Find missing NTA names in the rent-burdened households file\n",
        "missing_ntas = nta_2020_df[~nta_2020_df['NTAName'].isin(arrest_2020_df['ntaname'])]\n",
        "missing_ntas_list = missing_ntas['NTAName'].tolist()\n",
        "\n",
        "# Print missing NTA names\n",
        "print(f\"Missing NTA Names in eviction_df under data: {missing_ntas_list}\")"
      ],
      "metadata": {
        "colab": {
          "base_uri": "https://localhost:8080/"
        },
        "id": "fNxYdx89z8jx",
        "outputId": "8dcb5ea0-f72b-4ae8-8006-95bb0cda4765"
      },
      "execution_count": null,
      "outputs": [
        {
          "output_type": "stream",
          "name": "stdout",
          "text": [
            "Missing NTA Names in eviction_df under data: ['Calvert Vaux Park', 'Jamaica Bay (West)', 'Shirley Chisholm State Park', 'North & South Brother Islands', 'Hart Island', 'Mount Olivet & All Faiths Cemeteries', 'Fort Totten', 'Mount Hebron & Cedar Grove Cemeteries', 'Spring Creek Park', 'Montefiore Cemetery', 'Hoffman & Swinburne Islands']\n"
          ]
        }
      ]
    },
    {
      "cell_type": "code",
      "source": [
        "len(missing_ntas_list)"
      ],
      "metadata": {
        "colab": {
          "base_uri": "https://localhost:8080/"
        },
        "id": "Y7KlfqxMz8b2",
        "outputId": "28f634ed-540f-446d-b118-d8bd845c541b"
      },
      "execution_count": null,
      "outputs": [
        {
          "output_type": "execute_result",
          "data": {
            "text/plain": [
              "11"
            ]
          },
          "metadata": {},
          "execution_count": 17
        }
      ]
    },
    {
      "cell_type": "code",
      "source": [
        "# Merge the average percent data with the NTA data\n",
        "merged_df = pd.merge(nta_2020_df, arrest_2020_df, left_on='NTAName', right_on='ntaname', how='left')\n",
        "\n",
        "# export the final dataframe to an Excel file\n",
        "merged_df.to_excel('arrest_nta2020.xlsx', index=False)\n",
        "\n",
        "print(\"Export completed: 'arrest_nta2020.xlsx'\")"
      ],
      "metadata": {
        "colab": {
          "base_uri": "https://localhost:8080/"
        },
        "id": "67n0Xryb16Fa",
        "outputId": "8eff7d54-ab22-4933-faee-96d314c0df63"
      },
      "execution_count": null,
      "outputs": [
        {
          "output_type": "stream",
          "name": "stdout",
          "text": [
            "Export completed: 'arrest_nta2020.xlsx'\n"
          ]
        }
      ]
    },
    {
      "cell_type": "markdown",
      "source": [
        "#### food scrap"
      ],
      "metadata": {
        "id": "Qd4J1oK9dL_N"
      }
    },
    {
      "cell_type": "code",
      "source": [
        "%cd /content/drive/MyDrive/Thesis/Fall_2024/Data/Datasets/Modified"
      ],
      "metadata": {
        "colab": {
          "base_uri": "https://localhost:8080/"
        },
        "id": "-7fnGZBpdMRf",
        "outputId": "5b73fbca-ad5c-4bac-b7e8-9022e18306c5"
      },
      "execution_count": null,
      "outputs": [
        {
          "output_type": "stream",
          "name": "stdout",
          "text": [
            "/content/drive/MyDrive/Thesis/Fall_2024/Data/Datasets/Modified\n"
          ]
        }
      ]
    },
    {
      "cell_type": "code",
      "source": [
        "foodscrap_2020_df = pd.read_excel('food_scrap_2020_Statistics_TableToExcel.xlsx')"
      ],
      "metadata": {
        "id": "UaeXJ4dwdMxz"
      },
      "execution_count": null,
      "outputs": []
    },
    {
      "cell_type": "code",
      "source": [
        "# Standardize column names for comparison\n",
        "nta_2020_df['NTAName'] = nta_2020_df['NTAName'].str.strip()\n",
        "foodscrap_2020_df['ntaname'] = foodscrap_2020_df['ntaname'].str.strip()"
      ],
      "metadata": {
        "id": "ptdQeQmWdMo1"
      },
      "execution_count": null,
      "outputs": []
    },
    {
      "cell_type": "code",
      "source": [
        "# Find missing NTA names in the rent-burdened households file\n",
        "missing_ntas = nta_2020_df[~nta_2020_df['NTAName'].isin(foodscrap_2020_df['ntaname'])]\n",
        "missing_ntas_list = missing_ntas['NTAName'].tolist()\n",
        "\n",
        "# Print missing NTA names\n",
        "print(f\"Missing NTA Names in eviction_df under data: {missing_ntas_list}\")"
      ],
      "metadata": {
        "colab": {
          "base_uri": "https://localhost:8080/"
        },
        "id": "nQsu2H4BdRoG",
        "outputId": "da06b071-a00e-44d2-c89d-44f650800d74"
      },
      "execution_count": null,
      "outputs": [
        {
          "output_type": "stream",
          "name": "stdout",
          "text": [
            "Missing NTA Names in eviction_df under data: ['South Williamsburg', 'Brooklyn Heights', 'Clinton Hill', 'Brooklyn Navy Yard', 'Spring Creek-Starrett City', 'East New York-City Line', 'Highland Park-Cypress Hills Cemeteries (South)', 'Green-Wood Cemetery', 'Lincoln Terrace Park', 'Fort Hamilton', 'Dyker Beach Park', 'Bath Beach', 'Gravesend (West)', 'Sunset Park (East)-Borough Park (West)', 'Borough Park', 'Mapleton-Midwood (West)', 'Gravesend (South)', 'Brighton Beach', 'Calvert Vaux Park', 'Midwood', 'Gravesend (East)-Homecrest', 'Madison', 'Sheepshead Bay-Manhattan Beach-Gerritsen Beach', 'East Flatbush-Farragut', 'Holy Cross Cemetery', 'Flatlands', 'Canarsie', 'Marine Park-Plumb Island', 'McGuire Fields', 'Canarsie Park & Pier', 'Barren Island-Floyd Bennett Field', 'Jamaica Bay (West)', 'Shirley Chisholm State Park', 'Hunts Point', 'North & South Brother Islands', 'Claremont Village-Claremont (East)', 'Crotona Park', 'Yankee Stadium-Macombs Dam Park', 'Claremont Park', 'Soundview Park', 'Co-op City', 'Hart Island', 'Ferry Point Park-St. Raymond Cemetery', 'Pelham Gardens', 'Allerton', 'Hutchinson Metro Center', 'Williamsbridge-Olinville', 'Eastchester-Edenwald-Baychester', 'Wakefield-Woodlawn', 'Woodlawn Cemetery', 'Van Cortlandt Park', 'Bronx Park', 'Pelham Bay Park', 'United Nations', \"Randall's Island\", 'Highbridge Park', 'Central Park', 'Rikers Island', 'Sunnyside Yards (North)', \"St. Michael's Cemetery\", 'Astoria Park', 'Calvary & Mount Zion Cemeteries', 'North Corona', 'Maspeth', 'Middle Village', 'Mount Olivet & All Faiths Cemeteries', 'Middle Village Cemetery', 'St. John Cemetery', 'Highland Park-Cypress Hills Cemeteries (North)', 'College Point', 'Whitestone-Beechhurst', 'Bay Terrace-Clearview', 'Murray Hill-Broadway Flushing', 'East Flushing', 'Queensboro Hill', 'Fort Totten', 'Kissena Park', 'Kew Gardens Hills', 'Pomonok-Electchester-Hillcrest', 'Fresh Meadows-Utopia', 'Jamaica Estates-Holliswood', 'Jamaica Hills-Briarwood', 'Mount Hebron & Cedar Grove Cemeteries', 'Cunningham Park', 'Richmond Hill', 'South Richmond Hill', 'Ozone Park (North)', 'Woodhaven', 'South Ozone Park', 'Ozone Park', 'Howard Beach-Lindenwood', 'Spring Creek Park', 'Auburndale', 'Bayside', 'Oakland Gardens-Hollis Hills', 'Alley Pond Park', 'Springfield Gardens (North)-Rochdale Village', 'St. Albans', 'Hollis', 'Glen Oaks-Floral Park-New Hyde Park', 'Queens Village', 'Cambria Heights', 'Laurelton', 'Rosedale', 'Montefiore Cemetery', 'Far Rockaway-Bayswater', 'Breezy Point-Belle Harbor-Rockaway Park-Broad Channel', 'Rockaway Community Park', 'LaGuardia Airport', 'Flushing Meadows-Corona Park', 'Forest Park', 'John F. Kennedy International Airport', 'Jamaica Bay (East)', 'Jacob Riis Park-Fort Tilden-Breezy Point Tip', 'Grasmere-Arrochar-South Beach-Dongan Hills', 'New Dorp-Midland Beach', 'Freshkills Park (North)', 'Oakwood-Richmondtown', 'Great Kills-Eltingville', 'Arden Heights-Rossville', \"Annadale-Huguenot-Prince's Bay-Woodrow\", 'Tottenville-Charleston', 'Freshkills Park (South)', 'Fort Wadsworth', 'Hoffman & Swinburne Islands', 'Miller Field', 'Great Kills Park']\n"
          ]
        }
      ]
    },
    {
      "cell_type": "code",
      "source": [
        "len(missing_ntas_list)"
      ],
      "metadata": {
        "colab": {
          "base_uri": "https://localhost:8080/"
        },
        "id": "4BCaa-vLdRlo",
        "outputId": "826467ba-a35e-4f4d-96c0-43bbeafa0884"
      },
      "execution_count": null,
      "outputs": [
        {
          "output_type": "execute_result",
          "data": {
            "text/plain": [
              "127"
            ]
          },
          "metadata": {},
          "execution_count": 11
        }
      ]
    },
    {
      "cell_type": "code",
      "source": [
        "# Merge the average percent data with the NTA data\n",
        "merged_df = pd.merge(nta_2020_df, foodscrap_2020_df, left_on='NTAName', right_on='ntaname', how='left')\n",
        "\n",
        "# Export the final dataframe to an Excel file\n",
        "merged_df.to_excel('foodscrap_nta2020.xlsx', index=False)\n",
        "\n",
        "print(\"Export completed: 'foodscrap_nta2020.xlsx'\")"
      ],
      "metadata": {
        "colab": {
          "base_uri": "https://localhost:8080/"
        },
        "id": "Li8ldeHtdRgY",
        "outputId": "dc3e093d-ea3c-4fa1-d8dc-d0fc90e3f325"
      },
      "execution_count": null,
      "outputs": [
        {
          "output_type": "stream",
          "name": "stdout",
          "text": [
            "Export completed: 'foodscrap_nta2020.xlsx'\n"
          ]
        }
      ]
    },
    {
      "cell_type": "markdown",
      "source": [
        "#### mta"
      ],
      "metadata": {
        "id": "nO4SPRHprObf"
      }
    },
    {
      "cell_type": "code",
      "source": [
        "%cd /content/drive/MyDrive/Thesis/Fall_2024/Data/Datasets/Modified"
      ],
      "metadata": {
        "colab": {
          "base_uri": "https://localhost:8080/"
        },
        "id": "T9J8GR-erWqS",
        "outputId": "52cf9db8-cb01-4d3b-cf10-a505240e7dcd"
      },
      "execution_count": null,
      "outputs": [
        {
          "output_type": "stream",
          "name": "stdout",
          "text": [
            "/content/drive/MyDrive/Thesis/Fall_2024/Data/Datasets/Modified\n"
          ]
        }
      ]
    },
    {
      "cell_type": "code",
      "source": [
        "mta2020 = pd.read_excel('mta_subway_Statistics2020_TableToExcel.xlsx')"
      ],
      "metadata": {
        "id": "F7hKANPHrPmi"
      },
      "execution_count": null,
      "outputs": []
    },
    {
      "cell_type": "code",
      "source": [
        "# Standardize column names for comparison\n",
        "nta_2020_df['NTAName'] = nta_2020_df['NTAName'].str.strip()\n",
        "mta2020['ntaname'] = mta2020['ntaname'].str.strip()"
      ],
      "metadata": {
        "id": "aiAknHUGrPjt"
      },
      "execution_count": null,
      "outputs": []
    },
    {
      "cell_type": "code",
      "source": [
        "# Find missing NTA names in the rent-burdened households file\n",
        "missing_ntas = nta_2020_df[~nta_2020_df['NTAName'].isin(mta2020['ntaname'])]\n",
        "missing_ntas_list = missing_ntas['NTAName'].tolist()\n",
        "\n",
        "# Print missing NTA names\n",
        "print(f\"Missing NTA Names in eviction_df under data: {missing_ntas_list}\")"
      ],
      "metadata": {
        "colab": {
          "base_uri": "https://localhost:8080/"
        },
        "id": "nHUgjSEcrPcX",
        "outputId": "b5a1fc1b-214e-421b-dee7-5825916e5185"
      },
      "execution_count": null,
      "outputs": [
        {
          "output_type": "stream",
          "name": "stdout",
          "text": [
            "Missing NTA Names in eviction_df under data: ['Brooklyn Navy Yard', 'The Evergreens Cemetery', 'Spring Creek-Starrett City', 'Highland Park-Cypress Hills Cemeteries (South)', 'Green-Wood Cemetery', 'Lincoln Terrace Park', 'Dyker Heights', 'Fort Hamilton', 'Dyker Beach Park', 'Bath Beach', 'Calvert Vaux Park', 'East Flatbush-Rugby', 'East Flatbush-Remsen Village', 'Holy Cross Cemetery', 'Flatlands', 'Marine Park-Mill Basin-Bergen Beach', 'Marine Park-Plumb Island', 'McGuire Fields', 'Canarsie Park & Pier', 'Barren Island-Floyd Bennett Field', 'Jamaica Bay (West)', 'Shirley Chisholm State Park', 'Hunts Point', 'North & South Brother Islands', 'Morrisania', 'Claremont Village-Claremont (East)', 'Crotona Park', 'Highbridge', 'Claremont Park', 'Tremont', 'Belmont', 'Kingsbridge Heights-Van Cortlandt Village', 'Riverdale-Spuyten Duyvil', 'Soundview-Clason Point', 'Parkchester', 'Soundview Park', 'Throgs Neck-Schuylerville', 'Co-op City', 'Hart Island', 'Ferry Point Park-St. Raymond Cemetery', 'Hutchinson Metro Center', 'Woodlawn Cemetery', 'Van Cortlandt Park', 'Bronx Park', 'Pelham Bay Park', 'The Battery-Governors Island-Ellis Island-Liberty Island', 'Stuyvesant Town-Peter Cooper Village', 'United Nations', \"Randall's Island\", 'Highbridge Park', 'Inwood Hill Park', 'Old Astoria-Hallets Point', 'Rikers Island', \"St. Michael's Cemetery\", 'Astoria Park', 'Sunnyside Yards (South)', 'Calvary & Mount Zion Cemeteries', 'East Elmhurst', 'Maspeth', 'Glendale', 'Middle Village', 'Mount Olivet & All Faiths Cemeteries', 'Middle Village Cemetery', 'St. John Cemetery', 'Highland Park-Cypress Hills Cemeteries (North)', 'College Point', 'Whitestone-Beechhurst', 'Bay Terrace-Clearview', 'Murray Hill-Broadway Flushing', 'East Flushing', 'Queensboro Hill', 'Fort Totten', 'Kissena Park', 'Kew Gardens Hills', 'Pomonok-Electchester-Hillcrest', 'Fresh Meadows-Utopia', 'Jamaica Estates-Holliswood', 'Jamaica Hills-Briarwood', 'Mount Hebron & Cedar Grove Cemeteries', 'Cunningham Park', 'South Richmond Hill', 'Ozone Park (North)', 'Howard Beach-Lindenwood', 'Spring Creek Park', 'Auburndale', 'Bayside', 'Douglaston-Little Neck', 'Oakland Gardens-Hollis Hills', 'Alley Pond Park', 'South Jamaica', 'Baisley Park', 'Springfield Gardens (North)-Rochdale Village', 'St. Albans', 'Hollis', 'Glen Oaks-Floral Park-New Hyde Park', 'Bellerose', 'Queens Village', 'Cambria Heights', 'Laurelton', 'Springfield Gardens (South)-Brookville', 'Rosedale', 'Montefiore Cemetery', 'Rockaway Community Park', 'LaGuardia Airport', 'Forest Park', 'Jamaica Bay (East)', 'Jacob Riis Park-Fort Tilden-Breezy Point Tip', 'West New Brighton-Silver Lake-Grymes Hill', 'Westerleigh-Castleton Corners', 'Port Richmond', \"Mariner's Harbor-Arlington-Graniteville\", 'Snug Harbor', 'Todt Hill-Emerson Hill-Lighthouse Hill-Manor Heights', 'New Springville-Willowbrook-Bulls Head-Travis', 'Freshkills Park (North)', 'Arden Heights-Rossville', 'Freshkills Park (South)', 'Fort Wadsworth', 'Hoffman & Swinburne Islands', 'Miller Field', 'Great Kills Park']\n"
          ]
        }
      ]
    },
    {
      "cell_type": "code",
      "source": [
        "# Merge the average percent data with the NTA data\n",
        "merged_df = pd.merge(nta_2020_df, mta2020, left_on='NTAName', right_on='ntaname', how='left')\n",
        "\n",
        "# Export the final dataframe to an Excel file\n",
        "merged_df.to_excel('mta_nta2020.xlsx', index=False)\n",
        "\n",
        "print(\"Export completed: 'mta_nta2020.xlsx\")"
      ],
      "metadata": {
        "colab": {
          "base_uri": "https://localhost:8080/"
        },
        "id": "FdTMpVK9rh8r",
        "outputId": "cf1e816d-19de-4276-9446-abe4d3de0db8"
      },
      "execution_count": null,
      "outputs": [
        {
          "output_type": "stream",
          "name": "stdout",
          "text": [
            "Export completed: 'mta_nta2020.xlsx\n"
          ]
        }
      ]
    },
    {
      "cell_type": "markdown",
      "source": [
        "#### farmer's market"
      ],
      "metadata": {
        "id": "0hXawYm9MbN2"
      }
    },
    {
      "cell_type": "code",
      "source": [
        "farmer_market_df = pd.read_csv('NYC EH Data Portal - Farmers markets (filtered).csv')"
      ],
      "metadata": {
        "id": "-AupBElkOvzv"
      },
      "execution_count": null,
      "outputs": []
    },
    {
      "cell_type": "code",
      "source": [
        "# Standardize column names for comparison\n",
        "nta_2020_df['NTAName'] = nta_2020_df['NTAName'].str.strip()\n",
        "farmer_market_df['Geography'] = farmer_market_df['Geography'].str.strip()"
      ],
      "metadata": {
        "id": "jSQxbE_jMeGA"
      },
      "execution_count": null,
      "outputs": []
    },
    {
      "cell_type": "code",
      "source": [
        "# find missing NTA names in the rent-burdened households file\n",
        "missing_ntas = nta_2020_df[~nta_2020_df['NTAName'].isin(farmer_market_df['Geography'])]\n",
        "missing_ntas_list = missing_ntas['NTAName'].tolist()\n",
        "\n",
        "# Print missing NTA names\n",
        "print(f\"Missing NTA Names in eviction_df under data: {missing_ntas_list}\")"
      ],
      "metadata": {
        "colab": {
          "base_uri": "https://localhost:8080/"
        },
        "id": "R8h22dKzQbvA",
        "outputId": "268e0978-877d-4a92-eac9-c2d4d292101e"
      },
      "execution_count": null,
      "outputs": [
        {
          "output_type": "stream",
          "name": "stdout",
          "text": [
            "Missing NTA Names in eviction_df under data: ['Brooklyn Navy Yard', 'The Evergreens Cemetery', 'Highland Park-Cypress Hills Cemeteries (South)', 'Green-Wood Cemetery', 'Lincoln Terrace Park', 'Fort Hamilton', 'Dyker Beach Park', 'Calvert Vaux Park', 'Holy Cross Cemetery', 'Marine Park-Plumb Island', 'McGuire Fields', 'Canarsie Park & Pier', 'Prospect Park', 'Barren Island-Floyd Bennett Field', 'Jamaica Bay (West)', 'Shirley Chisholm State Park', 'North & South Brother Islands', 'Crotona Park', 'Yankee Stadium-Macombs Dam Park', 'Claremont Park', 'Soundview Park', 'Hart Island', 'Ferry Point Park-St. Raymond Cemetery', 'Hutchinson Metro Center', 'Woodlawn Cemetery', 'Van Cortlandt Park', 'Bronx Park', 'Pelham Bay Park', 'The Battery-Governors Island-Ellis Island-Liberty Island', 'United Nations', \"Randall's Island\", 'Highbridge Park', 'Inwood Hill Park', 'Central Park', 'Rikers Island', 'Sunnyside Yards (North)', \"St. Michael's Cemetery\", 'Astoria Park', 'Sunnyside Yards (South)', 'Calvary & Mount Zion Cemeteries', 'Mount Olivet & All Faiths Cemeteries', 'Middle Village Cemetery', 'St. John Cemetery', 'Highland Park-Cypress Hills Cemeteries (North)', 'Fort Totten', 'Kissena Park', 'Mount Hebron & Cedar Grove Cemeteries', 'Cunningham Park', 'Spring Creek Park', 'Alley Pond Park', 'Montefiore Cemetery', 'Rockaway Community Park', 'LaGuardia Airport', 'Flushing Meadows-Corona Park', 'Forest Park', 'John F. Kennedy International Airport', 'Jamaica Bay (East)', 'Jacob Riis Park-Fort Tilden-Breezy Point Tip', 'Snug Harbor', 'Freshkills Park (North)', 'Freshkills Park (South)', 'Fort Wadsworth', 'Hoffman & Swinburne Islands', 'Miller Field', 'Great Kills Park']\n"
          ]
        }
      ]
    },
    {
      "cell_type": "code",
      "source": [
        "len(missing_ntas_list)"
      ],
      "metadata": {
        "colab": {
          "base_uri": "https://localhost:8080/"
        },
        "id": "3T5FCe3EQeEQ",
        "outputId": "89f64e31-ea85-479a-f120-76a98010a943"
      },
      "execution_count": null,
      "outputs": [
        {
          "output_type": "execute_result",
          "data": {
            "text/plain": [
              "65"
            ]
          },
          "metadata": {},
          "execution_count": 8
        }
      ]
    },
    {
      "cell_type": "code",
      "source": [
        "# calculate the average percent for each NTA based on available time periods\n",
        "# Group by Geography (NTA) and calculate the average percent\n",
        "farmer_market_df_avg = farmer_market_df.groupby('Geography').apply(\n",
        "    lambda x: x['Density (year-round) per square mile'].mean()\n",
        ").reset_index(name='Average_Density (year-round) per square mile')"
      ],
      "metadata": {
        "colab": {
          "base_uri": "https://localhost:8080/"
        },
        "id": "ip-nn-QCQd-E",
        "outputId": "6393c53a-6200-4c0e-fc60-e8452ecb190d"
      },
      "execution_count": null,
      "outputs": [
        {
          "output_type": "stream",
          "name": "stderr",
          "text": [
            "<ipython-input-9-c74e96e068db>:3: DeprecationWarning: DataFrameGroupBy.apply operated on the grouping columns. This behavior is deprecated, and in a future version of pandas the grouping columns will be excluded from the operation. Either pass `include_groups=False` to exclude the groupings or explicitly select the grouping columns after groupby to silence this warning.\n",
            "  farmer_market_df_avg = farmer_market_df.groupby('Geography').apply(\n"
          ]
        }
      ]
    },
    {
      "cell_type": "code",
      "source": [
        "# merge the average percent data with the NTA data\n",
        "merged_df = pd.merge(nta_2020_df, farmer_market_df_avg, left_on='NTAName', right_on='Geography', how='left')\n",
        "\n",
        "# eport the final dataframe to an Excel file\n",
        "merged_df.to_excel('farmer_market_df_avg_avg_nta2020_yearround.xlsx', index=False)\n",
        "\n",
        "print(\"Export completed: 'farmer_market_df_avg_avg_nta2020_yearround.xlsx\")"
      ],
      "metadata": {
        "colab": {
          "base_uri": "https://localhost:8080/"
        },
        "id": "4Cq2MbsSQocV",
        "outputId": "c4d89815-f983-4d24-fe28-b956f7d2ee99"
      },
      "execution_count": null,
      "outputs": [
        {
          "output_type": "stream",
          "name": "stdout",
          "text": [
            "Export completed: 'farmer_market_df_avg_avg_nta2020_yearround.xlsx\n"
          ]
        }
      ]
    },
    {
      "cell_type": "code",
      "source": [
        "# calculate the average percent for each NTA based on available time periods\n",
        "# Group by Geography (NTA) and calculate the average percent\n",
        "farmer_market_df_avg = farmer_market_df.groupby('Geography').apply(\n",
        "    lambda x: x['Density per square mile'].mean()\n",
        ").reset_index(name='Average_Density per square mile')"
      ],
      "metadata": {
        "colab": {
          "base_uri": "https://localhost:8080/"
        },
        "id": "yeuek867Q1tV",
        "outputId": "f00f0925-ebda-4c2e-a061-fa9690cac8ea"
      },
      "execution_count": null,
      "outputs": [
        {
          "output_type": "stream",
          "name": "stderr",
          "text": [
            "<ipython-input-11-f0bf5eb9d248>:3: DeprecationWarning: DataFrameGroupBy.apply operated on the grouping columns. This behavior is deprecated, and in a future version of pandas the grouping columns will be excluded from the operation. Either pass `include_groups=False` to exclude the groupings or explicitly select the grouping columns after groupby to silence this warning.\n",
            "  farmer_market_df_avg = farmer_market_df.groupby('Geography').apply(\n"
          ]
        }
      ]
    },
    {
      "cell_type": "code",
      "source": [
        "# merge the average percent data with the NTA data\n",
        "merged_df = pd.merge(nta_2020_df, farmer_market_df_avg, left_on='NTAName', right_on='Geography', how='left')\n",
        "\n",
        "# export the final dataframe to an Excel file\n",
        "merged_df.to_excel('farmer_market_df_avg_avg_nta2020_den.xlsx', index=False)\n",
        "\n",
        "print(\"Export completed: 'farmer_market_df_avg_avg_nta2020_den.xlsx\")"
      ],
      "metadata": {
        "colab": {
          "base_uri": "https://localhost:8080/"
        },
        "id": "uwSktCqrQoKr",
        "outputId": "11979659-af92-4477-cbbb-f8dc67a78f33"
      },
      "execution_count": null,
      "outputs": [
        {
          "output_type": "stream",
          "name": "stdout",
          "text": [
            "Export completed: 'farmer_market_df_avg_avg_nta2020_den.xlsx\n"
          ]
        }
      ]
    },
    {
      "cell_type": "markdown",
      "source": [
        "#### litter basket"
      ],
      "metadata": {
        "id": "mI2V6chbMLhn"
      }
    },
    {
      "cell_type": "code",
      "source": [
        "litter_basket_df = pd.read_csv('NYC EH Data Portal - Litter basket coverage (filtered) - (num).csv')"
      ],
      "metadata": {
        "id": "P7rGxI--ML1W"
      },
      "execution_count": null,
      "outputs": []
    },
    {
      "cell_type": "code",
      "source": [
        "# Step 1: Standardize column names for comparison\n",
        "nta_2020_df['NTAName'] = nta_2020_df['NTAName'].str.strip()\n",
        "litter_basket_df['Geography'] = litter_basket_df['Geography'].str.strip()"
      ],
      "metadata": {
        "id": "FMaPfpmSMYOf"
      },
      "execution_count": null,
      "outputs": []
    },
    {
      "cell_type": "code",
      "source": [
        "# Step 2: Find missing NTA names in the rent-burdened households file\n",
        "missing_ntas = nta_2020_df[~nta_2020_df['NTAName'].isin(litter_basket_df['Geography'])]\n",
        "missing_ntas_list = missing_ntas['NTAName'].tolist()\n",
        "\n",
        "# Print missing NTA names\n",
        "print(f\"Missing NTA Names in eviction_df under data: {missing_ntas_list}\")"
      ],
      "metadata": {
        "colab": {
          "base_uri": "https://localhost:8080/"
        },
        "id": "V9Iz6LSUMMIL",
        "outputId": "3af5a63c-61ef-4302-d91c-824739c6adb8"
      },
      "execution_count": null,
      "outputs": [
        {
          "output_type": "stream",
          "name": "stdout",
          "text": [
            "Missing NTA Names in eviction_df under data: ['Brooklyn Navy Yard', 'The Evergreens Cemetery', 'Highland Park-Cypress Hills Cemeteries (South)', 'Green-Wood Cemetery', 'Lincoln Terrace Park', 'Fort Hamilton', 'Dyker Beach Park', 'Calvert Vaux Park', 'Holy Cross Cemetery', 'Marine Park-Plumb Island', 'McGuire Fields', 'Canarsie Park & Pier', 'Prospect Park', 'Barren Island-Floyd Bennett Field', 'Jamaica Bay (West)', 'Shirley Chisholm State Park', 'North & South Brother Islands', 'Crotona Park', 'Yankee Stadium-Macombs Dam Park', 'Claremont Park', 'Soundview Park', 'Hart Island', 'Ferry Point Park-St. Raymond Cemetery', 'Hutchinson Metro Center', 'Woodlawn Cemetery', 'Van Cortlandt Park', 'Bronx Park', 'Pelham Bay Park', 'The Battery-Governors Island-Ellis Island-Liberty Island', 'United Nations', \"Randall's Island\", 'Highbridge Park', 'Inwood Hill Park', 'Central Park', 'Rikers Island', 'Sunnyside Yards (North)', \"St. Michael's Cemetery\", 'Astoria Park', 'Sunnyside Yards (South)', 'Calvary & Mount Zion Cemeteries', 'Mount Olivet & All Faiths Cemeteries', 'Middle Village Cemetery', 'St. John Cemetery', 'Highland Park-Cypress Hills Cemeteries (North)', 'Fort Totten', 'Kissena Park', 'Mount Hebron & Cedar Grove Cemeteries', 'Cunningham Park', 'Spring Creek Park', 'Alley Pond Park', 'Montefiore Cemetery', 'Rockaway Community Park', 'LaGuardia Airport', 'Flushing Meadows-Corona Park', 'Forest Park', 'John F. Kennedy International Airport', 'Jamaica Bay (East)', 'Jacob Riis Park-Fort Tilden-Breezy Point Tip', 'Snug Harbor', 'Freshkills Park (North)', 'Freshkills Park (South)', 'Fort Wadsworth', 'Hoffman & Swinburne Islands', 'Miller Field', 'Great Kills Park']\n"
          ]
        }
      ]
    },
    {
      "cell_type": "code",
      "source": [
        "len(missing_ntas_list)"
      ],
      "metadata": {
        "colab": {
          "base_uri": "https://localhost:8080/"
        },
        "id": "MnZq6nLsMqBI",
        "outputId": "e0d174fd-e7e0-4c69-94d3-c4af28af9b68"
      },
      "execution_count": null,
      "outputs": [
        {
          "output_type": "execute_result",
          "data": {
            "text/plain": [
              "65"
            ]
          },
          "metadata": {},
          "execution_count": 16
        }
      ]
    },
    {
      "cell_type": "code",
      "source": [
        "# Step 3: Calculate the average percent for each NTA based on available time periods\n",
        "# Group by Geography (NTA) and calculate the average percent\n",
        "litter_basket_df_avg = litter_basket_df.groupby('Geography').apply(\n",
        "    lambda x: x['Density (non-wire) per square mile'].mean()\n",
        ").reset_index(name='Average_Density (non-wire) per square mile')"
      ],
      "metadata": {
        "colab": {
          "base_uri": "https://localhost:8080/"
        },
        "id": "nZQL9usdMp9l",
        "outputId": "cb5857b4-60ea-44dd-e1d3-db5ab1cc4396"
      },
      "execution_count": null,
      "outputs": [
        {
          "output_type": "stream",
          "name": "stderr",
          "text": [
            "<ipython-input-22-d6a3253e5bc2>:3: DeprecationWarning: DataFrameGroupBy.apply operated on the grouping columns. This behavior is deprecated, and in a future version of pandas the grouping columns will be excluded from the operation. Either pass `include_groups=False` to exclude the groupings or explicitly select the grouping columns after groupby to silence this warning.\n",
            "  litter_basket_df_avg = litter_basket_df.groupby('Geography').apply(\n"
          ]
        }
      ]
    },
    {
      "cell_type": "code",
      "source": [
        "# Step 3: Calculate the average percent for each NTA based on available time periods\n",
        "# Group by Geography (NTA) and calculate the average percent\n",
        "litter_basket_df_avg = litter_basket_df.groupby('Geography').apply(\n",
        "    lambda x: x['Density per square mile'].mean()\n",
        ").reset_index(name='Average_Density per square mile')"
      ],
      "metadata": {
        "colab": {
          "base_uri": "https://localhost:8080/"
        },
        "id": "xGE3RxaHNZFS",
        "outputId": "928e0d3d-482b-48c9-bea8-1eb19a6c0e22"
      },
      "execution_count": null,
      "outputs": [
        {
          "output_type": "stream",
          "name": "stderr",
          "text": [
            "<ipython-input-24-7f9d6452563f>:3: DeprecationWarning: DataFrameGroupBy.apply operated on the grouping columns. This behavior is deprecated, and in a future version of pandas the grouping columns will be excluded from the operation. Either pass `include_groups=False` to exclude the groupings or explicitly select the grouping columns after groupby to silence this warning.\n",
            "  litter_basket_df_avg = litter_basket_df.groupby('Geography').apply(\n"
          ]
        }
      ]
    },
    {
      "cell_type": "code",
      "source": [
        "# Step 3: Calculate the average percent for each NTA based on available time periods\n",
        "# Group by Geography (NTA) and calculate the average percent\n",
        "litter_basket_df_avg = litter_basket_df.groupby('Geography').apply(\n",
        "    lambda x: x['Percent (non-wire)'].mean()\n",
        ").reset_index(name='Average_Percent (non-wire)')"
      ],
      "metadata": {
        "colab": {
          "base_uri": "https://localhost:8080/"
        },
        "id": "glFPXJXXNY8f",
        "outputId": "051fe186-aadb-4f7e-f5c5-97664c6697f0"
      },
      "execution_count": null,
      "outputs": [
        {
          "output_type": "stream",
          "name": "stderr",
          "text": [
            "<ipython-input-19-001d7002c0e7>:3: DeprecationWarning: DataFrameGroupBy.apply operated on the grouping columns. This behavior is deprecated, and in a future version of pandas the grouping columns will be excluded from the operation. Either pass `include_groups=False` to exclude the groupings or explicitly select the grouping columns after groupby to silence this warning.\n",
            "  litter_basket_df_avg = litter_basket_df.groupby('Geography').apply(\n"
          ]
        }
      ]
    },
    {
      "cell_type": "code",
      "source": [
        "# Step 4: Merge the average percent data with the NTA data\n",
        "merged_df = pd.merge(nta_2020_df, litter_basket_df_avg, left_on='NTAName', right_on='Geography', how='left')\n",
        "\n",
        "# Step 5: Export the final dataframe to an Excel file\n",
        "merged_df.to_excel('litter_basket_df_avg_nta2020_density.xlsx', index=False)\n",
        "\n",
        "print(\"Export completed: 'litter_basket_df_avg_df_avg.xlsx\")"
      ],
      "metadata": {
        "colab": {
          "base_uri": "https://localhost:8080/"
        },
        "id": "6wReEksqMp3k",
        "outputId": "633cbde0-a468-4bab-e098-8953cf7b43fd"
      },
      "execution_count": null,
      "outputs": [
        {
          "output_type": "stream",
          "name": "stdout",
          "text": [
            "Export completed: 'litter_basket_df_avg_df_avg.xlsx\n"
          ]
        }
      ]
    },
    {
      "cell_type": "markdown",
      "source": [
        "Limited English"
      ],
      "metadata": {
        "id": "BlUQni13WrtV"
      }
    },
    {
      "cell_type": "code",
      "source": [
        "#nta_df = pd.read_csv('nynta.csv')  # NTA dataset\n",
        "limited_english_df = pd.read_csv('NYC EH Data Portal - Limited English (filtered)_2010nta - Sheet1.csv')"
      ],
      "metadata": {
        "id": "pUlwxmjAWqnW"
      },
      "execution_count": null,
      "outputs": []
    },
    {
      "cell_type": "code",
      "source": [
        "# standardize column names for comparison\n",
        "nta_df['NTAName'] = nta_df['NTAName'].str.strip()\n",
        "limited_english_df['Geography'] = limited_english_df['Geography'].str.strip()"
      ],
      "metadata": {
        "id": "JdyxLNu5WzYu"
      },
      "execution_count": null,
      "outputs": []
    },
    {
      "cell_type": "code",
      "source": [
        "# Find missing NTA names in the rent-burdened households file\n",
        "missing_ntas = nta_df[~nta_df['NTAName'].isin(limited_english_df['Geography'])]\n",
        "missing_ntas_list = missing_ntas['NTAName'].tolist()\n",
        "\n",
        "# Print missing NTA names\n",
        "print(f\"Missing NTA Names in limited_english_df under data: {missing_ntas_list}\")"
      ],
      "metadata": {
        "colab": {
          "base_uri": "https://localhost:8080/"
        },
        "id": "tK9zSKFkWzSQ",
        "outputId": "9f4d16bb-bf94-432b-ff3e-6a8c88734878"
      },
      "execution_count": null,
      "outputs": [
        {
          "output_type": "stream",
          "name": "stdout",
          "text": [
            "Missing NTA Names in limited_english_df under data: ['Rikers Island', 'park-cemetery-etc-Staten Island', 'park-cemetery-etc-Bronx', 'park-cemetery-etc-Manhattan', 'park-cemetery-etc-Brooklyn', 'park-cemetery-etc-Queens', 'Airport']\n"
          ]
        }
      ]
    },
    {
      "cell_type": "code",
      "source": [
        "# Step 3: Calculate the average percent for each NTA based on available time periods\n",
        "# Group by Geography (NTA) and calculate the average percent\n",
        "limited_english_df_avg = limited_english_df.groupby('Geography').apply(\n",
        "    lambda x: x['Percent'].mean()\n",
        ").reset_index(name='AveragePercent')"
      ],
      "metadata": {
        "id": "T_wz_0H5WzO4"
      },
      "execution_count": null,
      "outputs": []
    },
    {
      "cell_type": "code",
      "source": [
        "# merge the average percent data with the NTA data\n",
        "merged_df = pd.merge(nta_2020_df, neigh_pov_2020nta_df_avg, left_on='NTAName', right_on='Geography', how='left')\n",
        "\n",
        "# export the final dataframe to an Excel file\n",
        "merged_df.to_excel('nta_neigh_pov_2020nta_df_avg .xlsx', index=False)\n",
        "\n",
        "print(\"Export completed: 'nta_neigh_pov_2020nta_df_avg.xlsx\")"
      ],
      "metadata": {
        "colab": {
          "base_uri": "https://localhost:8080/"
        },
        "id": "FOu7jfMiBTPN",
        "outputId": "a6c7dee0-c2e3-4b06-d972-681cf467e5b9"
      },
      "execution_count": null,
      "outputs": [
        {
          "output_type": "stream",
          "name": "stdout",
          "text": [
            "Export completed: 'nta_neigh_pov_2020nta_df_avg.xlsx\n"
          ]
        }
      ]
    },
    {
      "cell_type": "markdown",
      "source": [
        "2020 child pov under 5"
      ],
      "metadata": {
        "id": "rubD_i3j71J8"
      }
    },
    {
      "cell_type": "code",
      "source": [
        "nta_2020_df = pd.read_csv('2020nta.csv')"
      ],
      "metadata": {
        "id": "pBNqkO6AW5xM"
      },
      "execution_count": null,
      "outputs": []
    },
    {
      "cell_type": "code",
      "source": [
        "child_pov_under5_df = pd.read_csv('NYC EH Data Portal - Child poverty_nta2020 (under age 5) (filtered) (num).csv')"
      ],
      "metadata": {
        "id": "6Yr6ZVMg7HNC"
      },
      "execution_count": null,
      "outputs": []
    },
    {
      "cell_type": "code",
      "source": [
        "# Standardize column names for comparison\n",
        "nta_2020_df['NTAName'] = nta_2020_df['NTAName'].str.strip()\n",
        "child_pov_under5_df['Geography'] = child_pov_under5_df['Geography'].str.strip()"
      ],
      "metadata": {
        "id": "bp7ZohNZ7HJ3"
      },
      "execution_count": null,
      "outputs": []
    },
    {
      "cell_type": "code",
      "source": [
        "# missing NTA names in the rent-burdened households file\n",
        "missing_ntas = nta_2020_df[~nta_2020_df['NTAName'].isin(child_pov_under5_df['Geography'])]\n",
        "missing_ntas_list = missing_ntas['NTAName'].tolist()\n",
        "\n",
        "# Print missing NTA names\n",
        "print(f\"Missing NTA Names in child_pov_under5_df under data: {missing_ntas_list}\")"
      ],
      "metadata": {
        "colab": {
          "base_uri": "https://localhost:8080/"
        },
        "id": "k3RiFWva7HHY",
        "outputId": "8d291029-ce5a-4aad-83da-0e95e5123bd2"
      },
      "execution_count": null,
      "outputs": [
        {
          "output_type": "stream",
          "name": "stdout",
          "text": [
            "Missing NTA Names in child_pov_under5_df under data: ['Brooklyn Navy Yard', 'The Evergreens Cemetery', 'Highland Park-Cypress Hills Cemeteries (South)', 'Green-Wood Cemetery', 'Lincoln Terrace Park', 'Fort Hamilton', 'Dyker Beach Park', 'Calvert Vaux Park', 'Holy Cross Cemetery', 'Marine Park-Plumb Island', 'McGuire Fields', 'Canarsie Park & Pier', 'Prospect Park', 'Barren Island-Floyd Bennett Field', 'Jamaica Bay (West)', 'Shirley Chisholm State Park', 'North & South Brother Islands', 'Crotona Park', 'Yankee Stadium-Macombs Dam Park', 'Claremont Park', 'Soundview Park', 'Hart Island', 'Ferry Point Park-St. Raymond Cemetery', 'Hutchinson Metro Center', 'Woodlawn Cemetery', 'Van Cortlandt Park', 'Bronx Park', 'Pelham Bay Park', 'The Battery-Governors Island-Ellis Island-Liberty Island', 'United Nations', \"Randall's Island\", 'Highbridge Park', 'Inwood Hill Park', 'Central Park', 'Rikers Island', 'Sunnyside Yards (North)', \"St. Michael's Cemetery\", 'Astoria Park', 'Sunnyside Yards (South)', 'Calvary & Mount Zion Cemeteries', 'Mount Olivet & All Faiths Cemeteries', 'Middle Village Cemetery', 'St. John Cemetery', 'Highland Park-Cypress Hills Cemeteries (North)', 'Fort Totten', 'Kissena Park', 'Mount Hebron & Cedar Grove Cemeteries', 'Cunningham Park', 'Spring Creek Park', 'Alley Pond Park', 'Montefiore Cemetery', 'Rockaway Community Park', 'LaGuardia Airport', 'Flushing Meadows-Corona Park', 'Forest Park', 'John F. Kennedy International Airport', 'Jamaica Bay (East)', 'Jacob Riis Park-Fort Tilden-Breezy Point Tip', 'Snug Harbor', 'Freshkills Park (North)', 'Freshkills Park (South)', 'Fort Wadsworth', 'Hoffman & Swinburne Islands', 'Miller Field', 'Great Kills Park']\n"
          ]
        }
      ]
    },
    {
      "cell_type": "code",
      "source": [
        "len(missing_ntas_list)"
      ],
      "metadata": {
        "colab": {
          "base_uri": "https://localhost:8080/"
        },
        "id": "mGWgi4M47HD-",
        "outputId": "fb10d2a5-2575-4e94-e0af-ae7b6a06bc5d"
      },
      "execution_count": null,
      "outputs": [
        {
          "output_type": "execute_result",
          "data": {
            "text/plain": [
              "65"
            ]
          },
          "metadata": {},
          "execution_count": 8
        }
      ]
    },
    {
      "cell_type": "code",
      "source": [
        "# Calculate the average percent for each NTA based on available time periods\n",
        "# Group by Geography (NTA) and calculate the average percent\n",
        "child_pov_under5_avg = child_pov_under5_df.groupby('Geography').apply(\n",
        "    lambda x: x['Percent'].mean()\n",
        ").reset_index(name='AveragePercent')"
      ],
      "metadata": {
        "id": "spmLwrA07HCl"
      },
      "execution_count": null,
      "outputs": []
    },
    {
      "cell_type": "code",
      "source": [
        "# Merge the average percent data with the NTA data\n",
        "merged_df = pd.merge(nta_2020_df, child_pov_under5_avg, left_on='NTAName', right_on='Geography', how='left')\n",
        "\n",
        "# export the final dataframe to an Excel file\n",
        "merged_df.to_excel('nta_child_pov_under5_avg .xlsx', index=False)\n",
        "\n",
        "print(\"Export completed: 'nta_child_pov_under5_avg.xlsx\")"
      ],
      "metadata": {
        "colab": {
          "base_uri": "https://localhost:8080/"
        },
        "id": "SBUsVg_j7e46",
        "outputId": "ed043208-3dc8-4e77-b7c6-280dbdde26d4"
      },
      "execution_count": null,
      "outputs": [
        {
          "output_type": "stream",
          "name": "stdout",
          "text": [
            "Export completed: 'nta_child_pov_under5_avg.xlsx\n"
          ]
        }
      ]
    },
    {
      "cell_type": "markdown",
      "source": [
        "2020 unemployment"
      ],
      "metadata": {
        "id": "nB3B4fMt7zOM"
      }
    },
    {
      "cell_type": "code",
      "source": [
        "unemployment_2020_df = pd.read_csv('NYC EH Data Portal - Unemployment_nta2020 (filtered) - Sheet1.csv')"
      ],
      "metadata": {
        "id": "g89wWNg2W5uo"
      },
      "execution_count": null,
      "outputs": []
    },
    {
      "cell_type": "code",
      "source": [
        "nta_2020_df['NTAName'] = nta_2020_df['NTAName'].str.strip()\n",
        "unemployment_2020_df['Geography'] = unemployment_2020_df['Geography'].str.strip()"
      ],
      "metadata": {
        "id": "LmKuV4NiW5tc"
      },
      "execution_count": null,
      "outputs": []
    },
    {
      "cell_type": "code",
      "source": [
        "# Find missing NTA names in the rent-burdened households file\n",
        "missing_ntas = nta_2020_df[~nta_2020_df['NTAName'].isin(unemployment_2020_df['Geography'])]\n",
        "missing_ntas_list = missing_ntas['NTAName'].tolist()\n",
        "\n",
        "# Print missing NTA names\n",
        "print(f\"Missing NTA Names in eviction_df under data: {missing_ntas_list}\")"
      ],
      "metadata": {
        "colab": {
          "base_uri": "https://localhost:8080/"
        },
        "id": "WYIrzxRyW5nO",
        "outputId": "0ec054a6-b66a-4667-9c90-8db34aba2874"
      },
      "execution_count": null,
      "outputs": [
        {
          "output_type": "stream",
          "name": "stdout",
          "text": [
            "Missing NTA Names in eviction_df under data: ['Brooklyn Navy Yard', 'The Evergreens Cemetery', 'Highland Park-Cypress Hills Cemeteries (South)', 'Green-Wood Cemetery', 'Lincoln Terrace Park', 'Fort Hamilton', 'Dyker Beach Park', 'Calvert Vaux Park', 'Holy Cross Cemetery', 'Marine Park-Plumb Island', 'McGuire Fields', 'Canarsie Park & Pier', 'Prospect Park', 'Barren Island-Floyd Bennett Field', 'Jamaica Bay (West)', 'Shirley Chisholm State Park', 'North & South Brother Islands', 'Crotona Park', 'Yankee Stadium-Macombs Dam Park', 'Claremont Park', 'Soundview Park', 'Hart Island', 'Ferry Point Park-St. Raymond Cemetery', 'Hutchinson Metro Center', 'Woodlawn Cemetery', 'Van Cortlandt Park', 'Bronx Park', 'Pelham Bay Park', 'The Battery-Governors Island-Ellis Island-Liberty Island', 'United Nations', \"Randall's Island\", 'Highbridge Park', 'Inwood Hill Park', 'Central Park', 'Rikers Island', 'Sunnyside Yards (North)', \"St. Michael's Cemetery\", 'Astoria Park', 'Sunnyside Yards (South)', 'Calvary & Mount Zion Cemeteries', 'Mount Olivet & All Faiths Cemeteries', 'Middle Village Cemetery', 'St. John Cemetery', 'Highland Park-Cypress Hills Cemeteries (North)', 'Fort Totten', 'Kissena Park', 'Mount Hebron & Cedar Grove Cemeteries', 'Cunningham Park', 'Spring Creek Park', 'Alley Pond Park', 'Montefiore Cemetery', 'Rockaway Community Park', 'LaGuardia Airport', 'Flushing Meadows-Corona Park', 'Forest Park', 'John F. Kennedy International Airport', 'Jamaica Bay (East)', 'Jacob Riis Park-Fort Tilden-Breezy Point Tip', 'Snug Harbor', 'Freshkills Park (North)', 'Freshkills Park (South)', 'Fort Wadsworth', 'Hoffman & Swinburne Islands', 'Miller Field', 'Great Kills Park']\n"
          ]
        }
      ]
    },
    {
      "cell_type": "code",
      "source": [
        "len(missing_ntas_list)"
      ],
      "metadata": {
        "colab": {
          "base_uri": "https://localhost:8080/"
        },
        "id": "Ju6KHmYGZHsb",
        "outputId": "4fff4e3e-5c3f-4bea-e25b-7b3549a0607f"
      },
      "execution_count": null,
      "outputs": [
        {
          "output_type": "execute_result",
          "data": {
            "text/plain": [
              "65"
            ]
          },
          "metadata": {},
          "execution_count": 38
        }
      ]
    },
    {
      "cell_type": "code",
      "source": [
        "# Calculate the average percent for each NTA based on available time periods\n",
        "# Group by Geography (NTA) and calculate the average percent\n",
        "unemployment_2020_df_avg = unemployment_2020_df.groupby('Geography').apply(\n",
        "    lambda x: x['Percent'].mean()\n",
        ").reset_index(name='AveragePercent')"
      ],
      "metadata": {
        "id": "cx5q7pFgW5jU"
      },
      "execution_count": null,
      "outputs": []
    },
    {
      "cell_type": "code",
      "source": [
        "# Merge the average percent data with the NTA data\n",
        "merged_df = pd.merge(nta_2020_df, unemployment_2020_df_avg, left_on='NTAName', right_on='Geography', how='left')\n",
        "\n",
        "# Export the final dataframe to an Excel file\n",
        "merged_df.to_excel('nta_unemployment_2020_df_avg .xlsx', index=False)\n",
        "\n",
        "print(\"Export completed: 'nta_unemployment_2020_df_avg.xlsx\")"
      ],
      "metadata": {
        "colab": {
          "base_uri": "https://localhost:8080/"
        },
        "id": "2d9_cJ7lYQp7",
        "outputId": "f63fa620-8965-4c38-8789-bf4ef033661a"
      },
      "execution_count": null,
      "outputs": [
        {
          "output_type": "stream",
          "name": "stdout",
          "text": [
            "Export completed: 'nta_unemployment_2020_df_avg.xlsx\n"
          ]
        }
      ]
    }
  ]
}